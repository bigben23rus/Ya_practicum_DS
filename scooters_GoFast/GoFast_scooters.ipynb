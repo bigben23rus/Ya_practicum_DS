{
 "cells": [
  {
   "cell_type": "markdown",
   "id": "40f64013",
   "metadata": {},
   "source": [
    "# Исследование сервиса аренды самокатов GoFast"
   ]
  },
  {
   "cell_type": "markdown",
   "id": "736052a4",
   "metadata": {},
   "source": [
    "**ТЗ**\n",
    " \n",
    "Даны данные с сервиса аренды самокатов GoFast из нескольких городов.\n",
    "Необходимо проанализировать данные и проверьте некоторые гипотезы для будущих акций, которые могут помочь бизнесу вырасти.\n",
    "\n",
    "Чтобы совершать поездки по городу, пользователи сервиса GoFast пользуются мобильным приложением. Сервисом можно пользоваться:\n",
    "\n",
    "    без подписки\n",
    "        абонентская плата отсутствует;\n",
    "        стоимость одной минуты поездки — 8 рублей;\n",
    "        стоимость старта (начала поездки) — 50 рублей;\n",
    "        \n",
    "    с подпиской Ultra\n",
    "        абонентская плата — 199199 рублей в месяц;\n",
    "        стоимость одной минуты поездки — 66 рублей;\n",
    "        стоимость старта — бесплатно.\n",
    " \n",
    " **Основная цель**\\\n",
    "Проанализировать данные, проверить гипотезы.\n",
    "\n",
    "_Гипотезы:_\n",
    "\n",
    "- Важно понять, тратят ли пользователи с подпиской больше времени на поездки? Если да, то пользователи с подпиской могут быть «выгоднее» для компании. Проверьте гипотезу. Используйте исходные данные о продолжительности каждой сессии — отдельно для подписчиков и тех, у кого нет подписки\n",
    "\n",
    "- Расстояние одной поездки в 3130 метров — оптимальное с точки зрения износа самоката. Можно ли сказать, что среднее расстояние, которое проезжают пользователи с подпиской за одну поездку, не превышает 3130 метров? Проверьте гипотезу и \n",
    "\n",
    "- Проверьте гипотезу о том, будет ли помесячная выручка от пользователей с подпиской по месяцам выше, чем выручка от пользователей без подписки.\n",
    "\n",
    "- Представьте такую ситуацию: техническая команда сервиса обновила сервера, с которыми взаимодействует мобильное приложение. Она надеется, что из-за этого количество обращений в техподдержку значимо снизилось. Некоторый файл содержит для каждого пользователя данные о количестве обращений до обновления и после него.\n",
    "\n",
    "- Отделу маркетинга GoFast поставили задачу: нужно провести акцию с раздачей промокодов на один бесплатный месяц подписки, в рамках которой как минимум 100 существующих клиентов должны продлить эту подписку. То есть по завершении периода действия подписки пользователь может либо отказаться от неё, либо продлить, совершив соответствующий платёж. \n",
    "\n",
    "- Отдел маркетинга рассылает клиентам push-уведомления в мобильном приложении. Клиенты могут открыть его или не открывать. Известно, что уведомления открывают около 40 % получивших клиентов. Отдел планирует разослать 1 млн уведомлений. С помощью аппроксимации постройте примерный график распределения и оцените вероятность того, что уведомление откроют не более 399,5 тыс. пользователей.\n",
    "\n",
    "\n",
    " **План**\n",
    " \n",
    "1. Открыть и изучить данные, выполнить предобработку если она необходима (пропущенные значения, аномалии, неинформационные признаки). \n",
    "2. Выполнить исследовательский анализ\n",
    "3. Сделать выводы об имеющихся признаках\n",
    "4. Объединение данных\n",
    "5. Создать дополнительно два датафрейма c данными о пользователях без подписки и с подпиской\n",
    "6. Подсчитать выручку с агрегированными данными о поездках \n",
    "7. Проверить гипотезы, написать вывод\n",
    "8. Общий вывод по проекту: расчеты , общие рекомендации\n"
   ]
  },
  {
   "cell_type": "markdown",
   "id": "c42cbe00",
   "metadata": {},
   "source": [
    "## Data preparation"
   ]
  },
  {
   "cell_type": "markdown",
   "id": "e232fb73",
   "metadata": {},
   "source": [
    "**1.1 import library**"
   ]
  },
  {
   "cell_type": "code",
   "execution_count": 1,
   "id": "5ad8aa39",
   "metadata": {},
   "outputs": [],
   "source": [
    "import pandas as pd\n",
    "import matplotlib as mpl\n",
    "import matplotlib.pyplot as plt \n",
    "import seaborn as sns\n",
    "import numpy as np\n",
    "from scipy import stats as st"
   ]
  },
  {
   "cell_type": "code",
   "execution_count": 2,
   "id": "da99b684",
   "metadata": {},
   "outputs": [
    {
     "name": "stdout",
     "output_type": "stream",
     "text": [
      "3.7.0\n"
     ]
    }
   ],
   "source": [
    "print(mpl.__version__)"
   ]
  },
  {
   "cell_type": "markdown",
   "id": "cf9070c5",
   "metadata": {},
   "source": [
    "**1.2 Open data**"
   ]
  },
  {
   "cell_type": "code",
   "execution_count": 3,
   "id": "eff9f206",
   "metadata": {},
   "outputs": [],
   "source": [
    "\n",
    "path_loc = 'D:/other_work/Yandex_practicum/PROJECT/project_4_GoFast_scooters/'\n",
    "\n",
    "try:\n",
    "    data_users = pd.read_csv(path_loc + 'users_go.csv', sep=',')\n",
    "    data_rides = pd.read_csv(path_loc + 'rides_go.csv', sep=',')\n",
    "    data_subscriptions = pd.read_csv(path_loc + 'subscriptions_go.csv', sep=',')\n",
    "except:\n",
    "    data_users = pd.read_csv('/datasets/users_go.csv', sep=',')\n",
    "    data_rides = pd.read_csv('/datasets/rides_go.csv', sep=',')\n",
    "    data_subscriptions = pd.read_csv('/datasets/subscriptions_go.csv', sep=',')\n",
    "    \n",
    "   "
   ]
  },
  {
   "cell_type": "markdown",
   "id": "78fd0a9b",
   "metadata": {},
   "source": [
    "**1.3 Set working area**"
   ]
  },
  {
   "cell_type": "code",
   "execution_count": 4,
   "id": "027fcbb2",
   "metadata": {},
   "outputs": [],
   "source": [
    "pd.set_option('display.max_columns', None)\n",
    "pd.set_option('display.max_colwidth', None)"
   ]
  },
  {
   "cell_type": "code",
   "execution_count": null,
   "id": "b2be69ba",
   "metadata": {},
   "outputs": [],
   "source": []
  },
  {
   "cell_type": "markdown",
   "id": "80e9b9c4",
   "metadata": {},
   "source": [
    "## EDA and read data"
   ]
  },
  {
   "cell_type": "code",
   "execution_count": 5,
   "id": "70a8ba36",
   "metadata": {},
   "outputs": [],
   "source": [
    "# созданы копии таблиц (возможно понадобятся для анализа)\n",
    "data_users_copy = data_users.copy(deep=True)            \n",
    "data_rides_copy = data_rides.copy(deep=True)                    \n",
    "data_subscriptions_copy = data_subscriptions.copy(deep=True) "
   ]
  },
  {
   "cell_type": "markdown",
   "id": "17f17330",
   "metadata": {},
   "source": [
    "Посмотрим данные по каждой из таблиц\n",
    "\n",
    "    Пользователи — users_go.csv\n",
    "    Поездки — rides_go.csv\n",
    "    Подписки — subscriptions_go.csv"
   ]
  },
  {
   "cell_type": "code",
   "execution_count": 6,
   "id": "15a0b1e8",
   "metadata": {},
   "outputs": [
    {
     "data": {
      "text/html": [
       "<div>\n",
       "<style scoped>\n",
       "    .dataframe tbody tr th:only-of-type {\n",
       "        vertical-align: middle;\n",
       "    }\n",
       "\n",
       "    .dataframe tbody tr th {\n",
       "        vertical-align: top;\n",
       "    }\n",
       "\n",
       "    .dataframe thead th {\n",
       "        text-align: right;\n",
       "    }\n",
       "</style>\n",
       "<table border=\"1\" class=\"dataframe\">\n",
       "  <thead>\n",
       "    <tr style=\"text-align: right;\">\n",
       "      <th></th>\n",
       "      <th>user_id</th>\n",
       "      <th>name</th>\n",
       "      <th>age</th>\n",
       "      <th>city</th>\n",
       "      <th>subscription_type</th>\n",
       "    </tr>\n",
       "  </thead>\n",
       "  <tbody>\n",
       "    <tr>\n",
       "      <th>0</th>\n",
       "      <td>1</td>\n",
       "      <td>Кира</td>\n",
       "      <td>22</td>\n",
       "      <td>Тюмень</td>\n",
       "      <td>ultra</td>\n",
       "    </tr>\n",
       "    <tr>\n",
       "      <th>1</th>\n",
       "      <td>2</td>\n",
       "      <td>Станислав</td>\n",
       "      <td>31</td>\n",
       "      <td>Омск</td>\n",
       "      <td>ultra</td>\n",
       "    </tr>\n",
       "    <tr>\n",
       "      <th>2</th>\n",
       "      <td>3</td>\n",
       "      <td>Алексей</td>\n",
       "      <td>20</td>\n",
       "      <td>Москва</td>\n",
       "      <td>ultra</td>\n",
       "    </tr>\n",
       "    <tr>\n",
       "      <th>3</th>\n",
       "      <td>4</td>\n",
       "      <td>Константин</td>\n",
       "      <td>26</td>\n",
       "      <td>Ростов-на-Дону</td>\n",
       "      <td>ultra</td>\n",
       "    </tr>\n",
       "    <tr>\n",
       "      <th>4</th>\n",
       "      <td>5</td>\n",
       "      <td>Адель</td>\n",
       "      <td>28</td>\n",
       "      <td>Омск</td>\n",
       "      <td>ultra</td>\n",
       "    </tr>\n",
       "  </tbody>\n",
       "</table>\n",
       "</div>"
      ],
      "text/plain": [
       "   user_id        name  age            city subscription_type\n",
       "0        1        Кира   22          Тюмень             ultra\n",
       "1        2   Станислав   31            Омск             ultra\n",
       "2        3     Алексей   20          Москва             ultra\n",
       "3        4  Константин   26  Ростов-на-Дону             ultra\n",
       "4        5       Адель   28            Омск             ultra"
      ]
     },
     "execution_count": 6,
     "metadata": {},
     "output_type": "execute_result"
    }
   ],
   "source": [
    "data_users.head()"
   ]
  },
  {
   "cell_type": "markdown",
   "id": "6e3b2884",
   "metadata": {},
   "source": [
    "Описание данных:\n",
    "* user_id - уникальный идентификатор пользователя\n",
    "* name - имя пользователя\n",
    "* age - возраст\n",
    "* city - город\n",
    "* subscription_type - тип подписки (free, ultra)"
   ]
  },
  {
   "cell_type": "code",
   "execution_count": 7,
   "id": "e1ecd218",
   "metadata": {},
   "outputs": [
    {
     "name": "stdout",
     "output_type": "stream",
     "text": [
      "<class 'pandas.core.frame.DataFrame'>\n",
      "RangeIndex: 1565 entries, 0 to 1564\n",
      "Data columns (total 5 columns):\n",
      " #   Column             Non-Null Count  Dtype \n",
      "---  ------             --------------  ----- \n",
      " 0   user_id            1565 non-null   int64 \n",
      " 1   name               1565 non-null   object\n",
      " 2   age                1565 non-null   int64 \n",
      " 3   city               1565 non-null   object\n",
      " 4   subscription_type  1565 non-null   object\n",
      "dtypes: int64(2), object(3)\n",
      "memory usage: 412.6 KB\n",
      "None\n",
      "          count        mean         std   min    25%    50%     75%     max\n",
      "user_id  1565.0  762.633866  443.260155   1.0  378.0  762.0  1146.0  1534.0\n",
      "age      1565.0   24.922045    4.553496  12.0   22.0   25.0    28.0    43.0\n"
     ]
    },
    {
     "data": {
      "image/png": "[encoded data removed]",
      "text/plain": [
       "<Figure size 640x480 with 1 Axes>"
      ]
     },
     "metadata": {},
     "output_type": "display_data"
    }
   ],
   "source": [
    "print(data_users.info(memory_usage='deep'))\n",
    "print(data_users.describe().T)\n",
    "data_users.plot(kind='hist', y='age', bins=20, grid=True)\n",
    "plt.xlabel('возраст, лет')\n",
    "plt.ylabel('Freq')\n",
    "plt.title('Распределение возраста')\n",
    "plt.show()"
   ]
  },
  {
   "cell_type": "markdown",
   "id": "a8d0b4f2",
   "metadata": {},
   "source": [
    "Распределение по городам"
   ]
  },
  {
   "cell_type": "code",
   "execution_count": 8,
   "id": "816a7207",
   "metadata": {},
   "outputs": [
    {
     "data": {
      "text/html": [
       "<style type=\"text/css\">\n",
       "#T_2214d_row2_col0, #T_2214d_row2_col1 {\n",
       "  background-color: yellow;\n",
       "}\n",
       "#T_2214d_row4_col0, #T_2214d_row4_col1 {\n",
       "  background-color: green;\n",
       "}\n",
       "</style>\n",
       "<table id=\"T_2214d\">\n",
       "  <thead>\n",
       "    <tr>\n",
       "      <th class=\"blank level0\" >&nbsp;</th>\n",
       "      <th id=\"T_2214d_level0_col0\" class=\"col_heading level0 col0\" >city</th>\n",
       "      <th id=\"T_2214d_level0_col1\" class=\"col_heading level0 col1\" >percent_of_user</th>\n",
       "    </tr>\n",
       "    <tr>\n",
       "      <th class=\"index_name level0\" >city</th>\n",
       "      <th class=\"blank col0\" >&nbsp;</th>\n",
       "      <th class=\"blank col1\" >&nbsp;</th>\n",
       "    </tr>\n",
       "  </thead>\n",
       "  <tbody>\n",
       "    <tr>\n",
       "      <th id=\"T_2214d_level0_row0\" class=\"row_heading level0 row0\" >Екатеринбург</th>\n",
       "      <td id=\"T_2214d_row0_col0\" class=\"data row0 col0\" >206</td>\n",
       "      <td id=\"T_2214d_row0_col1\" class=\"data row0 col1\" >13.16%</td>\n",
       "    </tr>\n",
       "    <tr>\n",
       "      <th id=\"T_2214d_level0_row1\" class=\"row_heading level0 row1\" >Краснодар</th>\n",
       "      <td id=\"T_2214d_row1_col0\" class=\"data row1 col0\" >196</td>\n",
       "      <td id=\"T_2214d_row1_col1\" class=\"data row1 col1\" >12.52%</td>\n",
       "    </tr>\n",
       "    <tr>\n",
       "      <th id=\"T_2214d_level0_row2\" class=\"row_heading level0 row2\" >Москва</th>\n",
       "      <td id=\"T_2214d_row2_col0\" class=\"data row2 col0\" >172</td>\n",
       "      <td id=\"T_2214d_row2_col1\" class=\"data row2 col1\" >10.99%</td>\n",
       "    </tr>\n",
       "    <tr>\n",
       "      <th id=\"T_2214d_level0_row3\" class=\"row_heading level0 row3\" >Омск</th>\n",
       "      <td id=\"T_2214d_row3_col0\" class=\"data row3 col0\" >186</td>\n",
       "      <td id=\"T_2214d_row3_col1\" class=\"data row3 col1\" >11.88%</td>\n",
       "    </tr>\n",
       "    <tr>\n",
       "      <th id=\"T_2214d_level0_row4\" class=\"row_heading level0 row4\" >Пятигорск</th>\n",
       "      <td id=\"T_2214d_row4_col0\" class=\"data row4 col0\" >226</td>\n",
       "      <td id=\"T_2214d_row4_col1\" class=\"data row4 col1\" >14.44%</td>\n",
       "    </tr>\n",
       "    <tr>\n",
       "      <th id=\"T_2214d_level0_row5\" class=\"row_heading level0 row5\" >Ростов-на-Дону</th>\n",
       "      <td id=\"T_2214d_row5_col0\" class=\"data row5 col0\" >202</td>\n",
       "      <td id=\"T_2214d_row5_col1\" class=\"data row5 col1\" >12.91%</td>\n",
       "    </tr>\n",
       "    <tr>\n",
       "      <th id=\"T_2214d_level0_row6\" class=\"row_heading level0 row6\" >Сочи</th>\n",
       "      <td id=\"T_2214d_row6_col0\" class=\"data row6 col0\" >192</td>\n",
       "      <td id=\"T_2214d_row6_col1\" class=\"data row6 col1\" >12.27%</td>\n",
       "    </tr>\n",
       "    <tr>\n",
       "      <th id=\"T_2214d_level0_row7\" class=\"row_heading level0 row7\" >Тюмень</th>\n",
       "      <td id=\"T_2214d_row7_col0\" class=\"data row7 col0\" >185</td>\n",
       "      <td id=\"T_2214d_row7_col1\" class=\"data row7 col1\" >11.82%</td>\n",
       "    </tr>\n",
       "  </tbody>\n",
       "</table>\n"
      ],
      "text/plain": [
       "<pandas.io.formats.style.Styler at 0x1b330a8f280>"
      ]
     },
     "execution_count": 8,
     "metadata": {},
     "output_type": "execute_result"
    }
   ],
   "source": [
    "data_users.groupby('city').agg({'city':'count'}).assign(percent_of_user=lambda x: x / x.sum() * 100 ).\\\n",
    "style.highlight_max(color='green', subset=['city','percent_of_user']).highlight_min(color='yellow', subset=['city','percent_of_user']).format({'percent_of_user': '{:.2f}%'})"
   ]
  },
  {
   "cell_type": "markdown",
   "id": "d7abe6e7",
   "metadata": {},
   "source": [
    "Подписки"
   ]
  },
  {
   "cell_type": "code",
   "execution_count": 9,
   "id": "ea910f27",
   "metadata": {},
   "outputs": [
    {
     "data": {
      "text/html": [
       "<style type=\"text/css\">\n",
       "#T_5e148_row0_col0, #T_5e148_row0_col1 {\n",
       "  background-color: green;\n",
       "}\n",
       "#T_5e148_row1_col0, #T_5e148_row1_col1 {\n",
       "  background-color: yellow;\n",
       "}\n",
       "</style>\n",
       "<table id=\"T_5e148\">\n",
       "  <thead>\n",
       "    <tr>\n",
       "      <th class=\"blank level0\" >&nbsp;</th>\n",
       "      <th id=\"T_5e148_level0_col0\" class=\"col_heading level0 col0\" >subscription_type</th>\n",
       "      <th id=\"T_5e148_level0_col1\" class=\"col_heading level0 col1\" >percent_of_tariff</th>\n",
       "    </tr>\n",
       "    <tr>\n",
       "      <th class=\"index_name level0\" >subscription_type</th>\n",
       "      <th class=\"blank col0\" >&nbsp;</th>\n",
       "      <th class=\"blank col1\" >&nbsp;</th>\n",
       "    </tr>\n",
       "  </thead>\n",
       "  <tbody>\n",
       "    <tr>\n",
       "      <th id=\"T_5e148_level0_row0\" class=\"row_heading level0 row0\" >free</th>\n",
       "      <td id=\"T_5e148_row0_col0\" class=\"data row0 col0\" >846</td>\n",
       "      <td id=\"T_5e148_row0_col1\" class=\"data row0 col1\" >54.06%</td>\n",
       "    </tr>\n",
       "    <tr>\n",
       "      <th id=\"T_5e148_level0_row1\" class=\"row_heading level0 row1\" >ultra</th>\n",
       "      <td id=\"T_5e148_row1_col0\" class=\"data row1 col0\" >719</td>\n",
       "      <td id=\"T_5e148_row1_col1\" class=\"data row1 col1\" >45.94%</td>\n",
       "    </tr>\n",
       "  </tbody>\n",
       "</table>\n"
      ],
      "text/plain": [
       "<pandas.io.formats.style.Styler at 0x1b330a8f0a0>"
      ]
     },
     "execution_count": 9,
     "metadata": {},
     "output_type": "execute_result"
    }
   ],
   "source": [
    "data_users.groupby('subscription_type').agg({'subscription_type':'count'}).assign(percent_of_tariff=lambda x: x / x.sum() * 100 ).\\\n",
    "style.highlight_max(color='green', subset=['subscription_type','percent_of_tariff']).highlight_min(color='yellow', subset=['subscription_type','percent_of_tariff']).\\\n",
    "format({'percent_of_tariff': '{:.2f}%'})"
   ]
  },
  {
   "cell_type": "code",
   "execution_count": 10,
   "id": "eec82d95",
   "metadata": {},
   "outputs": [
    {
     "data": {
      "text/html": [
       "<div>\n",
       "<style scoped>\n",
       "    .dataframe tbody tr th:only-of-type {\n",
       "        vertical-align: middle;\n",
       "    }\n",
       "\n",
       "    .dataframe tbody tr th {\n",
       "        vertical-align: top;\n",
       "    }\n",
       "\n",
       "    .dataframe thead th {\n",
       "        text-align: right;\n",
       "    }\n",
       "</style>\n",
       "<table border=\"1\" class=\"dataframe\">\n",
       "  <thead>\n",
       "    <tr style=\"text-align: right;\">\n",
       "      <th></th>\n",
       "      <th>user_id</th>\n",
       "      <th>distance</th>\n",
       "      <th>duration</th>\n",
       "      <th>date</th>\n",
       "    </tr>\n",
       "  </thead>\n",
       "  <tbody>\n",
       "    <tr>\n",
       "      <th>0</th>\n",
       "      <td>1</td>\n",
       "      <td>4409.919140</td>\n",
       "      <td>25.599769</td>\n",
       "      <td>2021-01-01</td>\n",
       "    </tr>\n",
       "    <tr>\n",
       "      <th>1</th>\n",
       "      <td>1</td>\n",
       "      <td>2617.592153</td>\n",
       "      <td>15.816871</td>\n",
       "      <td>2021-01-18</td>\n",
       "    </tr>\n",
       "    <tr>\n",
       "      <th>2</th>\n",
       "      <td>1</td>\n",
       "      <td>754.159807</td>\n",
       "      <td>6.232113</td>\n",
       "      <td>2021-04-20</td>\n",
       "    </tr>\n",
       "    <tr>\n",
       "      <th>3</th>\n",
       "      <td>1</td>\n",
       "      <td>2694.783254</td>\n",
       "      <td>18.511000</td>\n",
       "      <td>2021-08-11</td>\n",
       "    </tr>\n",
       "    <tr>\n",
       "      <th>4</th>\n",
       "      <td>1</td>\n",
       "      <td>4028.687306</td>\n",
       "      <td>26.265803</td>\n",
       "      <td>2021-08-28</td>\n",
       "    </tr>\n",
       "  </tbody>\n",
       "</table>\n",
       "</div>"
      ],
      "text/plain": [
       "   user_id     distance   duration        date\n",
       "0        1  4409.919140  25.599769  2021-01-01\n",
       "1        1  2617.592153  15.816871  2021-01-18\n",
       "2        1   754.159807   6.232113  2021-04-20\n",
       "3        1  2694.783254  18.511000  2021-08-11\n",
       "4        1  4028.687306  26.265803  2021-08-28"
      ]
     },
     "execution_count": 10,
     "metadata": {},
     "output_type": "execute_result"
    }
   ],
   "source": [
    "data_rides.head()"
   ]
  },
  {
   "cell_type": "markdown",
   "id": "53a6a0c1",
   "metadata": {},
   "source": [
    "Описание данных:\n",
    "* user_id - уникальный идентификатор пользователя\n",
    "* distance - расстояние, которое пользователь проехал в текущей сессии (в метрах)\n",
    "* duration - продолжительность сессии (в минутах) — время с того момента, как пользователь нажал кнопку «Начать поездку» до момента, как он нажал кнопку «Завершить поездку»\n",
    "* date - дата совершения поездки"
   ]
  },
  {
   "cell_type": "code",
   "execution_count": 11,
   "id": "64a808df",
   "metadata": {
    "scrolled": false
   },
   "outputs": [
    {
     "name": "stdout",
     "output_type": "stream",
     "text": [
      "<class 'pandas.core.frame.DataFrame'>\n",
      "RangeIndex: 18068 entries, 0 to 18067\n",
      "Data columns (total 4 columns):\n",
      " #   Column    Non-Null Count  Dtype  \n",
      "---  ------    --------------  -----  \n",
      " 0   user_id   18068 non-null  int64  \n",
      " 1   distance  18068 non-null  float64\n",
      " 2   duration  18068 non-null  float64\n",
      " 3   date      18068 non-null  object \n",
      "dtypes: float64(2), int64(1), object(1)\n",
      "memory usage: 1.6 MB\n",
      "None\n",
      "            count         mean          std       min          25%  \\\n",
      "user_id   18068.0   842.869936   434.734317  1.000000   487.000000   \n",
      "distance  18068.0  3070.659976  1116.831209  0.855683  2543.226360   \n",
      "duration  18068.0    17.805011     6.091051  0.500000    13.597563   \n",
      "\n",
      "                  50%          75%          max  \n",
      "user_id    889.000000  1213.250000  1534.000000  \n",
      "distance  3133.609994  3776.222735  7211.007745  \n",
      "duration    17.678395    21.724800    40.823963  \n"
     ]
    },
    {
     "data": {
      "image/png": "[encoded data removed]",
      "text/plain": [
       "<Figure size 1000x500 with 2 Axes>"
      ]
     },
     "metadata": {},
     "output_type": "display_data"
    }
   ],
   "source": [
    "print(data_rides.info(memory_usage='deep'))\n",
    "print(data_rides.describe().T)\n",
    "\n",
    "fig, axes = plt.subplots(1, 2, figsize=(10, 5))\n",
    "data_rides.plot(kind='hist', y='distance', bins=30, grid=True, title='Распределение расстояния', ax=axes[0])\n",
    "data_rides.plot(kind='hist', y='duration', bins=30, range=(0,50), grid=True, title='Распределение продолжительности сессии (минут)', ax=axes[1])\n",
    "plt.show()"
   ]
  },
  {
   "cell_type": "code",
   "execution_count": 12,
   "id": "faa5bff6",
   "metadata": {},
   "outputs": [
    {
     "name": "stdout",
     "output_type": "stream",
     "text": [
      "какие id пользователей больше всего пользуются сервисом :\n"
     ]
    },
    {
     "data": {
      "text/plain": [
       "user_id\n",
       "1236    27\n",
       "783     26\n",
       "1063    26\n",
       "1204    24\n",
       "1149    23\n",
       "Name: date, dtype: int64"
      ]
     },
     "execution_count": 12,
     "metadata": {},
     "output_type": "execute_result"
    }
   ],
   "source": [
    "print('какие id пользователей больше всего пользуются сервисом :')\n",
    "data_rides.pivot_table(index='user_id', aggfunc='count')['date'].sort_values(ascending=False).head(5)"
   ]
  },
  {
   "cell_type": "code",
   "execution_count": 13,
   "id": "b5344dc8",
   "metadata": {},
   "outputs": [
    {
     "data": {
      "text/html": [
       "<div>\n",
       "<style scoped>\n",
       "    .dataframe tbody tr th:only-of-type {\n",
       "        vertical-align: middle;\n",
       "    }\n",
       "\n",
       "    .dataframe tbody tr th {\n",
       "        vertical-align: top;\n",
       "    }\n",
       "\n",
       "    .dataframe thead th {\n",
       "        text-align: right;\n",
       "    }\n",
       "</style>\n",
       "<table border=\"1\" class=\"dataframe\">\n",
       "  <thead>\n",
       "    <tr style=\"text-align: right;\">\n",
       "      <th></th>\n",
       "      <th>user_id</th>\n",
       "      <th>name</th>\n",
       "      <th>age</th>\n",
       "      <th>city</th>\n",
       "      <th>subscription_type</th>\n",
       "    </tr>\n",
       "  </thead>\n",
       "  <tbody>\n",
       "    <tr>\n",
       "      <th>1235</th>\n",
       "      <td>1236</td>\n",
       "      <td>Александр</td>\n",
       "      <td>31</td>\n",
       "      <td>Екатеринбург</td>\n",
       "      <td>free</td>\n",
       "    </tr>\n",
       "  </tbody>\n",
       "</table>\n",
       "</div>"
      ],
      "text/plain": [
       "      user_id       name  age          city subscription_type\n",
       "1235     1236  Александр   31  Екатеринбург              free"
      ]
     },
     "execution_count": 13,
     "metadata": {},
     "output_type": "execute_result"
    }
   ],
   "source": [
    "data_users.loc[data_users['user_id'] == 1236]"
   ]
  },
  {
   "cell_type": "code",
   "execution_count": 14,
   "id": "7663a434",
   "metadata": {},
   "outputs": [
    {
     "name": "stdout",
     "output_type": "stream",
     "text": [
      "данные предоставлены за период :\n",
      "2021-01-01 2021-12-30\n"
     ]
    }
   ],
   "source": [
    "print('данные предоставлены за период :')\n",
    "print(data_rides['date'].min(), data_rides['date'].max())"
   ]
  },
  {
   "cell_type": "code",
   "execution_count": 15,
   "id": "3de180a5",
   "metadata": {},
   "outputs": [
    {
     "data": {
      "text/html": [
       "<div>\n",
       "<style scoped>\n",
       "    .dataframe tbody tr th:only-of-type {\n",
       "        vertical-align: middle;\n",
       "    }\n",
       "\n",
       "    .dataframe tbody tr th {\n",
       "        vertical-align: top;\n",
       "    }\n",
       "\n",
       "    .dataframe thead th {\n",
       "        text-align: right;\n",
       "    }\n",
       "</style>\n",
       "<table border=\"1\" class=\"dataframe\">\n",
       "  <thead>\n",
       "    <tr style=\"text-align: right;\">\n",
       "      <th></th>\n",
       "      <th>subscription_type</th>\n",
       "      <th>minute_price</th>\n",
       "      <th>start_ride_price</th>\n",
       "      <th>subscription_fee</th>\n",
       "    </tr>\n",
       "  </thead>\n",
       "  <tbody>\n",
       "    <tr>\n",
       "      <th>0</th>\n",
       "      <td>free</td>\n",
       "      <td>8</td>\n",
       "      <td>50</td>\n",
       "      <td>0</td>\n",
       "    </tr>\n",
       "    <tr>\n",
       "      <th>1</th>\n",
       "      <td>ultra</td>\n",
       "      <td>6</td>\n",
       "      <td>0</td>\n",
       "      <td>199</td>\n",
       "    </tr>\n",
       "  </tbody>\n",
       "</table>\n",
       "</div>"
      ],
      "text/plain": [
       "  subscription_type  minute_price  start_ride_price  subscription_fee\n",
       "0              free             8                50                 0\n",
       "1             ultra             6                 0               199"
      ]
     },
     "execution_count": 15,
     "metadata": {},
     "output_type": "execute_result"
    }
   ],
   "source": [
    "data_subscriptions.head()"
   ]
  },
  {
   "cell_type": "markdown",
   "id": "1bc9c067",
   "metadata": {},
   "source": [
    "Описание данных:\n",
    "* subscription_type - тип подписки\n",
    "* minute_price - стоимость одной минуты поездки по данной подписке\n",
    "* start_ride_price - стоимость начала поездки\n",
    "* subscription_fee - стоимость ежемесячного платежа"
   ]
  },
  {
   "cell_type": "code",
   "execution_count": 16,
   "id": "5df01734",
   "metadata": {},
   "outputs": [
    {
     "name": "stdout",
     "output_type": "stream",
     "text": [
      "<class 'pandas.core.frame.DataFrame'>\n",
      "RangeIndex: 2 entries, 0 to 1\n",
      "Data columns (total 4 columns):\n",
      " #   Column             Non-Null Count  Dtype \n",
      "---  ------             --------------  ----- \n",
      " 0   subscription_type  2 non-null      object\n",
      " 1   minute_price       2 non-null      int64 \n",
      " 2   start_ride_price   2 non-null      int64 \n",
      " 3   subscription_fee   2 non-null      int64 \n",
      "dtypes: int64(3), object(1)\n",
      "memory usage: 299.0 bytes\n",
      "None\n",
      "                  count  mean         std  min    25%   50%     75%    max\n",
      "minute_price        2.0   7.0    1.414214  6.0   6.50   7.0    7.50    8.0\n",
      "start_ride_price    2.0  25.0   35.355339  0.0  12.50  25.0   37.50   50.0\n",
      "subscription_fee    2.0  99.5  140.714249  0.0  49.75  99.5  149.25  199.0\n"
     ]
    }
   ],
   "source": [
    "print(data_subscriptions.info(memory_usage='deep'))\n",
    "print(data_subscriptions.describe().T)"
   ]
  },
  {
   "cell_type": "markdown",
   "id": "11905968",
   "metadata": {},
   "source": [
    "**Промежуточный вывод:**\n",
    "\n",
    "Больше всего пользуются сервисом в Пятигорске, но разница не особо большая с Москвой. К тому же люди в городах предпочитают чуть больше бесплатный тариф (free = 54.06 %)\n",
    "Видно что в основном это возраст от 20-28 лет, а продолжительность поездки(сессии) примерно варьируется 14-26 мин\n",
    "\n",
    "Александр 31 год из Екатеринбурга наиболее активный в нашей выборке.\n",
    "\n",
    "Данные предоставлены за 1 год с 1 янаваря 2021 года по 30 декабря 2021 года.\n",
    "\n",
    "Радует то что нет отрицательных значений, а в колонке город нет опечаток"
   ]
  },
  {
   "cell_type": "code",
   "execution_count": null,
   "id": "a02bde0c",
   "metadata": {},
   "outputs": [],
   "source": []
  },
  {
   "cell_type": "markdown",
   "id": "8492e4a0",
   "metadata": {},
   "source": [
    "**Анализ таблиц на значение NaN (пропуски) и значения 0**"
   ]
  },
  {
   "cell_type": "code",
   "execution_count": 17,
   "id": "f9ca278e",
   "metadata": {},
   "outputs": [],
   "source": [
    "def empty_na(df):\n",
    "    df_data = []\n",
    "    column = df.columns\n",
    "    #colours = ['#000099', '#ffff00'] \n",
    "    for col in df.columns:\n",
    "        column_na_values = df[col].isna().sum()\n",
    "        column_zero_values = df[col][df[col] == 0].count()\n",
    "        column_na_rate = column_na_values / df.shape[0]\n",
    "        column_na_zero_rate = (column_na_values + column_zero_values) / df.shape[0]\n",
    "        df_data.append([col, column_na_values, column_zero_values, column_na_rate, column_na_zero_rate])\n",
    "    \n",
    "    df_res = pd.DataFrame(data=df_data, columns=['Имя столбца', 'Кол-во NaN', 'Кол-во значений 0', 'Процент значений NaN', 'Процент значений 0+NaN'])\n",
    "    print('всего строк = ', df.shape[0])\n",
    "    sns.heatmap(df[column].isnull())\n",
    "    return df_res\n",
    "\n",
    "\n"
   ]
  },
  {
   "cell_type": "code",
   "execution_count": 18,
   "id": "09436297",
   "metadata": {},
   "outputs": [
    {
     "name": "stdout",
     "output_type": "stream",
     "text": [
      "Проверим таблицу data_users и построим тепловую карту , которая демонстрирует паттерн пропущенных значений\n",
      "всего строк =  1565\n"
     ]
    },
    {
     "data": {
      "text/html": [
       "<div>\n",
       "<style scoped>\n",
       "    .dataframe tbody tr th:only-of-type {\n",
       "        vertical-align: middle;\n",
       "    }\n",
       "\n",
       "    .dataframe tbody tr th {\n",
       "        vertical-align: top;\n",
       "    }\n",
       "\n",
       "    .dataframe thead th {\n",
       "        text-align: right;\n",
       "    }\n",
       "</style>\n",
       "<table border=\"1\" class=\"dataframe\">\n",
       "  <thead>\n",
       "    <tr style=\"text-align: right;\">\n",
       "      <th></th>\n",
       "      <th>Имя столбца</th>\n",
       "      <th>Кол-во NaN</th>\n",
       "      <th>Кол-во значений 0</th>\n",
       "      <th>Процент значений NaN</th>\n",
       "      <th>Процент значений 0+NaN</th>\n",
       "    </tr>\n",
       "  </thead>\n",
       "  <tbody>\n",
       "    <tr>\n",
       "      <th>0</th>\n",
       "      <td>user_id</td>\n",
       "      <td>0</td>\n",
       "      <td>0</td>\n",
       "      <td>0.0</td>\n",
       "      <td>0.0</td>\n",
       "    </tr>\n",
       "    <tr>\n",
       "      <th>1</th>\n",
       "      <td>name</td>\n",
       "      <td>0</td>\n",
       "      <td>0</td>\n",
       "      <td>0.0</td>\n",
       "      <td>0.0</td>\n",
       "    </tr>\n",
       "    <tr>\n",
       "      <th>2</th>\n",
       "      <td>age</td>\n",
       "      <td>0</td>\n",
       "      <td>0</td>\n",
       "      <td>0.0</td>\n",
       "      <td>0.0</td>\n",
       "    </tr>\n",
       "    <tr>\n",
       "      <th>3</th>\n",
       "      <td>city</td>\n",
       "      <td>0</td>\n",
       "      <td>0</td>\n",
       "      <td>0.0</td>\n",
       "      <td>0.0</td>\n",
       "    </tr>\n",
       "    <tr>\n",
       "      <th>4</th>\n",
       "      <td>subscription_type</td>\n",
       "      <td>0</td>\n",
       "      <td>0</td>\n",
       "      <td>0.0</td>\n",
       "      <td>0.0</td>\n",
       "    </tr>\n",
       "  </tbody>\n",
       "</table>\n",
       "</div>"
      ],
      "text/plain": [
       "         Имя столбца  Кол-во NaN  Кол-во значений 0  Процент значений NaN  \\\n",
       "0            user_id           0                  0                   0.0   \n",
       "1               name           0                  0                   0.0   \n",
       "2                age           0                  0                   0.0   \n",
       "3               city           0                  0                   0.0   \n",
       "4  subscription_type           0                  0                   0.0   \n",
       "\n",
       "   Процент значений 0+NaN  \n",
       "0                     0.0  \n",
       "1                     0.0  \n",
       "2                     0.0  \n",
       "3                     0.0  \n",
       "4                     0.0  "
      ]
     },
     "execution_count": 18,
     "metadata": {},
     "output_type": "execute_result"
    },
    {
     "data": {
      "image/png": "[encoded data removed]",
      "text/plain": [
       "<Figure size 640x480 with 2 Axes>"
      ]
     },
     "metadata": {},
     "output_type": "display_data"
    }
   ],
   "source": [
    "print('Проверим таблицу data_users и построим тепловую карту , которая демонстрирует паттерн пропущенных значений')\n",
    "empty_na(data_users)"
   ]
  },
  {
   "cell_type": "code",
   "execution_count": 19,
   "id": "66f6b5f1",
   "metadata": {},
   "outputs": [
    {
     "name": "stdout",
     "output_type": "stream",
     "text": [
      "Проверим таблицу data_rides и построим тепловую карту , которая демонстрирует паттерн пропущенных значений\n",
      "всего строк =  18068\n"
     ]
    },
    {
     "data": {
      "text/html": [
       "<div>\n",
       "<style scoped>\n",
       "    .dataframe tbody tr th:only-of-type {\n",
       "        vertical-align: middle;\n",
       "    }\n",
       "\n",
       "    .dataframe tbody tr th {\n",
       "        vertical-align: top;\n",
       "    }\n",
       "\n",
       "    .dataframe thead th {\n",
       "        text-align: right;\n",
       "    }\n",
       "</style>\n",
       "<table border=\"1\" class=\"dataframe\">\n",
       "  <thead>\n",
       "    <tr style=\"text-align: right;\">\n",
       "      <th></th>\n",
       "      <th>Имя столбца</th>\n",
       "      <th>Кол-во NaN</th>\n",
       "      <th>Кол-во значений 0</th>\n",
       "      <th>Процент значений NaN</th>\n",
       "      <th>Процент значений 0+NaN</th>\n",
       "    </tr>\n",
       "  </thead>\n",
       "  <tbody>\n",
       "    <tr>\n",
       "      <th>0</th>\n",
       "      <td>user_id</td>\n",
       "      <td>0</td>\n",
       "      <td>0</td>\n",
       "      <td>0.0</td>\n",
       "      <td>0.0</td>\n",
       "    </tr>\n",
       "    <tr>\n",
       "      <th>1</th>\n",
       "      <td>distance</td>\n",
       "      <td>0</td>\n",
       "      <td>0</td>\n",
       "      <td>0.0</td>\n",
       "      <td>0.0</td>\n",
       "    </tr>\n",
       "    <tr>\n",
       "      <th>2</th>\n",
       "      <td>duration</td>\n",
       "      <td>0</td>\n",
       "      <td>0</td>\n",
       "      <td>0.0</td>\n",
       "      <td>0.0</td>\n",
       "    </tr>\n",
       "    <tr>\n",
       "      <th>3</th>\n",
       "      <td>date</td>\n",
       "      <td>0</td>\n",
       "      <td>0</td>\n",
       "      <td>0.0</td>\n",
       "      <td>0.0</td>\n",
       "    </tr>\n",
       "  </tbody>\n",
       "</table>\n",
       "</div>"
      ],
      "text/plain": [
       "  Имя столбца  Кол-во NaN  Кол-во значений 0  Процент значений NaN  \\\n",
       "0     user_id           0                  0                   0.0   \n",
       "1    distance           0                  0                   0.0   \n",
       "2    duration           0                  0                   0.0   \n",
       "3        date           0                  0                   0.0   \n",
       "\n",
       "   Процент значений 0+NaN  \n",
       "0                     0.0  \n",
       "1                     0.0  \n",
       "2                     0.0  \n",
       "3                     0.0  "
      ]
     },
     "execution_count": 19,
     "metadata": {},
     "output_type": "execute_result"
    },
    {
     "data": {
      "image/png": "[encoded data removed]",
      "text/plain": [
       "<Figure size 640x480 with 2 Axes>"
      ]
     },
     "metadata": {},
     "output_type": "display_data"
    }
   ],
   "source": [
    "print('Проверим таблицу data_rides и построим тепловую карту , которая демонстрирует паттерн пропущенных значений')\n",
    "empty_na(data_rides)"
   ]
  },
  {
   "cell_type": "code",
   "execution_count": 20,
   "id": "4ab8d07a",
   "metadata": {},
   "outputs": [
    {
     "name": "stdout",
     "output_type": "stream",
     "text": [
      "Проверим таблицу data_subscriptions и построим тепловую карту , которая демонстрирует паттерн пропущенных значений\n",
      "всего строк =  2\n"
     ]
    },
    {
     "data": {
      "text/html": [
       "<div>\n",
       "<style scoped>\n",
       "    .dataframe tbody tr th:only-of-type {\n",
       "        vertical-align: middle;\n",
       "    }\n",
       "\n",
       "    .dataframe tbody tr th {\n",
       "        vertical-align: top;\n",
       "    }\n",
       "\n",
       "    .dataframe thead th {\n",
       "        text-align: right;\n",
       "    }\n",
       "</style>\n",
       "<table border=\"1\" class=\"dataframe\">\n",
       "  <thead>\n",
       "    <tr style=\"text-align: right;\">\n",
       "      <th></th>\n",
       "      <th>Имя столбца</th>\n",
       "      <th>Кол-во NaN</th>\n",
       "      <th>Кол-во значений 0</th>\n",
       "      <th>Процент значений NaN</th>\n",
       "      <th>Процент значений 0+NaN</th>\n",
       "    </tr>\n",
       "  </thead>\n",
       "  <tbody>\n",
       "    <tr>\n",
       "      <th>0</th>\n",
       "      <td>subscription_type</td>\n",
       "      <td>0</td>\n",
       "      <td>0</td>\n",
       "      <td>0.0</td>\n",
       "      <td>0.0</td>\n",
       "    </tr>\n",
       "    <tr>\n",
       "      <th>1</th>\n",
       "      <td>minute_price</td>\n",
       "      <td>0</td>\n",
       "      <td>0</td>\n",
       "      <td>0.0</td>\n",
       "      <td>0.0</td>\n",
       "    </tr>\n",
       "    <tr>\n",
       "      <th>2</th>\n",
       "      <td>start_ride_price</td>\n",
       "      <td>0</td>\n",
       "      <td>1</td>\n",
       "      <td>0.0</td>\n",
       "      <td>0.5</td>\n",
       "    </tr>\n",
       "    <tr>\n",
       "      <th>3</th>\n",
       "      <td>subscription_fee</td>\n",
       "      <td>0</td>\n",
       "      <td>1</td>\n",
       "      <td>0.0</td>\n",
       "      <td>0.5</td>\n",
       "    </tr>\n",
       "  </tbody>\n",
       "</table>\n",
       "</div>"
      ],
      "text/plain": [
       "         Имя столбца  Кол-во NaN  Кол-во значений 0  Процент значений NaN  \\\n",
       "0  subscription_type           0                  0                   0.0   \n",
       "1       minute_price           0                  0                   0.0   \n",
       "2   start_ride_price           0                  1                   0.0   \n",
       "3   subscription_fee           0                  1                   0.0   \n",
       "\n",
       "   Процент значений 0+NaN  \n",
       "0                     0.0  \n",
       "1                     0.0  \n",
       "2                     0.5  \n",
       "3                     0.5  "
      ]
     },
     "execution_count": 20,
     "metadata": {},
     "output_type": "execute_result"
    },
    {
     "data": {
      "image/png": "[encoded data removed]",
      "text/plain": [
       "<Figure size 640x480 with 2 Axes>"
      ]
     },
     "metadata": {},
     "output_type": "display_data"
    }
   ],
   "source": [
    "print('Проверим таблицу data_subscriptions и построим тепловую карту , которая демонстрирует паттерн пропущенных значений')\n",
    "empty_na(data_subscriptions)"
   ]
  },
  {
   "cell_type": "markdown",
   "id": "1de1cf22",
   "metadata": {},
   "source": [
    "Отлично!  пропущенных значений в 3х таблицах нет, а вот значения 0 в data_subscriptions есть, ну это и логично исходя из описания проекта."
   ]
  },
  {
   "cell_type": "code",
   "execution_count": null,
   "id": "010151ba",
   "metadata": {},
   "outputs": [],
   "source": []
  },
  {
   "cell_type": "markdown",
   "id": "3945116f",
   "metadata": {},
   "source": [
    "**Изменение типа данных в таблицах**"
   ]
  },
  {
   "cell_type": "code",
   "execution_count": 21,
   "id": "26779beb",
   "metadata": {},
   "outputs": [],
   "source": [
    "def type_column(df):\n",
    "    for col in sorted(df.columns):\n",
    "        print(col, ': ', df[col].dtypes)"
   ]
  },
  {
   "cell_type": "code",
   "execution_count": 22,
   "id": "c3d83982",
   "metadata": {},
   "outputs": [
    {
     "name": "stdout",
     "output_type": "stream",
     "text": [
      "age :  int64\n",
      "city :  object\n",
      "name :  object\n",
      "subscription_type :  object\n",
      "user_id :  int64\n"
     ]
    }
   ],
   "source": [
    "type_column(data_users)"
   ]
  },
  {
   "cell_type": "code",
   "execution_count": 23,
   "id": "30436ef6",
   "metadata": {},
   "outputs": [
    {
     "name": "stdout",
     "output_type": "stream",
     "text": [
      "date :  object\n",
      "distance :  float64\n",
      "duration :  float64\n",
      "user_id :  int64\n"
     ]
    }
   ],
   "source": [
    "type_column(data_rides)"
   ]
  },
  {
   "cell_type": "code",
   "execution_count": 24,
   "id": "8ca9326a",
   "metadata": {},
   "outputs": [
    {
     "name": "stdout",
     "output_type": "stream",
     "text": [
      "minute_price :  int64\n",
      "start_ride_price :  int64\n",
      "subscription_fee :  int64\n",
      "subscription_type :  object\n"
     ]
    }
   ],
   "source": [
    "type_column(data_subscriptions)"
   ]
  },
  {
   "cell_type": "markdown",
   "id": "5ec02bee",
   "metadata": {},
   "source": [
    "Из описания таблиц видно что у нас не совпадает только date = object. Здесь лучше назначить тип данных как datetime поэтому:\n",
    "\n",
    "- Приведем столбец date к типу даты pandas.\n",
    "- Создадим новый столбец с номером месяца на основе столбца date.\n"
   ]
  },
  {
   "cell_type": "code",
   "execution_count": 25,
   "id": "1d9d9f58",
   "metadata": {},
   "outputs": [
    {
     "name": "stdout",
     "output_type": "stream",
     "text": [
      "date :  datetime64[ns]\n",
      "distance :  float64\n",
      "duration :  float64\n",
      "month :  int64\n",
      "user_id :  int64\n"
     ]
    },
    {
     "data": {
      "text/html": [
       "<div>\n",
       "<style scoped>\n",
       "    .dataframe tbody tr th:only-of-type {\n",
       "        vertical-align: middle;\n",
       "    }\n",
       "\n",
       "    .dataframe tbody tr th {\n",
       "        vertical-align: top;\n",
       "    }\n",
       "\n",
       "    .dataframe thead th {\n",
       "        text-align: right;\n",
       "    }\n",
       "</style>\n",
       "<table border=\"1\" class=\"dataframe\">\n",
       "  <thead>\n",
       "    <tr style=\"text-align: right;\">\n",
       "      <th></th>\n",
       "      <th>user_id</th>\n",
       "      <th>distance</th>\n",
       "      <th>duration</th>\n",
       "      <th>date</th>\n",
       "      <th>month</th>\n",
       "    </tr>\n",
       "  </thead>\n",
       "  <tbody>\n",
       "    <tr>\n",
       "      <th>0</th>\n",
       "      <td>1</td>\n",
       "      <td>4409.919140</td>\n",
       "      <td>25.599769</td>\n",
       "      <td>2021-01-01</td>\n",
       "      <td>1</td>\n",
       "    </tr>\n",
       "    <tr>\n",
       "      <th>1</th>\n",
       "      <td>1</td>\n",
       "      <td>2617.592153</td>\n",
       "      <td>15.816871</td>\n",
       "      <td>2021-01-18</td>\n",
       "      <td>1</td>\n",
       "    </tr>\n",
       "    <tr>\n",
       "      <th>2</th>\n",
       "      <td>1</td>\n",
       "      <td>754.159807</td>\n",
       "      <td>6.232113</td>\n",
       "      <td>2021-04-20</td>\n",
       "      <td>4</td>\n",
       "    </tr>\n",
       "    <tr>\n",
       "      <th>3</th>\n",
       "      <td>1</td>\n",
       "      <td>2694.783254</td>\n",
       "      <td>18.511000</td>\n",
       "      <td>2021-08-11</td>\n",
       "      <td>8</td>\n",
       "    </tr>\n",
       "    <tr>\n",
       "      <th>4</th>\n",
       "      <td>1</td>\n",
       "      <td>4028.687306</td>\n",
       "      <td>26.265803</td>\n",
       "      <td>2021-08-28</td>\n",
       "      <td>8</td>\n",
       "    </tr>\n",
       "  </tbody>\n",
       "</table>\n",
       "</div>"
      ],
      "text/plain": [
       "   user_id     distance   duration       date  month\n",
       "0        1  4409.919140  25.599769 2021-01-01      1\n",
       "1        1  2617.592153  15.816871 2021-01-18      1\n",
       "2        1   754.159807   6.232113 2021-04-20      4\n",
       "3        1  2694.783254  18.511000 2021-08-11      8\n",
       "4        1  4028.687306  26.265803 2021-08-28      8"
      ]
     },
     "execution_count": 25,
     "metadata": {},
     "output_type": "execute_result"
    }
   ],
   "source": [
    "data_rides['date'] = pd.to_datetime(data_rides['date'], format='%Y-%m-%d')\n",
    "data_rides['month'] = data_rides[\"date\"].dt.month\n",
    "type_column(data_rides)\n",
    "data_rides.head()"
   ]
  },
  {
   "cell_type": "code",
   "execution_count": null,
   "id": "32ec9fee",
   "metadata": {},
   "outputs": [],
   "source": []
  },
  {
   "cell_type": "markdown",
   "id": "cb7a3a96",
   "metadata": {},
   "source": [
    "**Обработка дубликатов в таблицах**"
   ]
  },
  {
   "cell_type": "markdown",
   "id": "fa6e96c9",
   "metadata": {},
   "source": [
    "Проверим в 3х таблицах дубликаты методом duplicated, если такие имеются обработаем их"
   ]
  },
  {
   "cell_type": "code",
   "execution_count": 26,
   "id": "8e9f8961",
   "metadata": {},
   "outputs": [
    {
     "name": "stdout",
     "output_type": "stream",
     "text": [
      "кол-во дублирующих строк в таблице data_users =  31\n",
      "кол-во дублирующих строк в таблице data_rides =  0\n",
      "кол-во дублирующих строк в таблице data_subscriptions =  0\n"
     ]
    }
   ],
   "source": [
    "print('кол-во дублирующих строк в таблице data_users = ', data_users.duplicated().sum())\n",
    "print('кол-во дублирующих строк в таблице data_rides = ', data_rides.duplicated().sum())\n",
    "print('кол-во дублирующих строк в таблице data_subscriptions = ', data_subscriptions.duplicated().sum())"
   ]
  },
  {
   "cell_type": "code",
   "execution_count": 27,
   "id": "a800159d",
   "metadata": {
    "scrolled": true
   },
   "outputs": [
    {
     "name": "stdout",
     "output_type": "stream",
     "text": [
      "1565\n",
      "кол-во дублирующих строк в таблице data_users =  0\n",
      "1534\n"
     ]
    }
   ],
   "source": [
    "print(data_users.shape[0])\n",
    "data_users = data_users.drop_duplicates() \n",
    "print('кол-во дублирующих строк в таблице data_users = ', data_users.duplicated().sum())\n",
    "print(data_users.shape[0])"
   ]
  },
  {
   "cell_type": "markdown",
   "id": "d84d97d1",
   "metadata": {},
   "source": [
    "**Анализ выбивающихся значений**"
   ]
  },
  {
   "cell_type": "markdown",
   "id": "bdf52f88",
   "metadata": {},
   "source": [
    "Что касается аномальных и выбивающихся значений:\n",
    "- табл data_subscriptions оставляем в покое\n",
    "- табл data_users: хоть и минимальный возраст мы видели = 12 годам, а ездить на электросамокате разрешается людям, достигшим 18 лет, но молодежь имеет телефон и арендует их в разном возрасте и проблем не возникает. Как устроена система проверки возраста для Яндекс Го мне не известно. Поэтому оставляем как есть.\n",
    "- табл data_rides. Электросамокат на одном заряде может проехать до 3х км, а растоние меньше метра возможно говорит: либо пользователь передумал, либо что-то случилось с самокатом (аккумулятор), либо не хватило денег у пользователя для полноценной поездки. Предварительно оставляем так. Возможно дальше для анализа нам понадобиться какая-нибудь корректировка здесь. Но давайте посмотрим сколько таких поздок < 5 м и сколько поездок < 1 минуты. "
   ]
  },
  {
   "cell_type": "code",
   "execution_count": 28,
   "id": "7a5ffddb",
   "metadata": {},
   "outputs": [
    {
     "name": "stdout",
     "output_type": "stream",
     "text": [
      "5\n",
      "95\n"
     ]
    }
   ],
   "source": [
    "print(data_rides.query('distance < 10').shape[0])\n",
    "print(data_rides.query('duration < 1').shape[0])"
   ]
  },
  {
   "cell_type": "markdown",
   "id": "64ac473e",
   "metadata": {},
   "source": [
    "**Промежуточный вывод:**\n",
    "\n",
    "Предобработка таблиц показала:\n",
    "- значений NaN не обнаружено\n",
    "- значения 0 в data_subscriptions есть, ну это и логично исходя из описания таблицы.\n",
    "- увидели только одно поле с некорректным типом данных. Поле  date исправлено, добавлен новый столбец месяц\n",
    "- Удалили дубли в таблице data_users\n",
    "- Выборка сделана за один год\n",
    "\n",
    "Итого можно сказать что качество данных приемлемо. Но мы также увидели редкие значения.\n",
    "Например: колонка возраст - все что меньше 15 лет и больше 40."
   ]
  },
  {
   "cell_type": "code",
   "execution_count": null,
   "id": "573248b9",
   "metadata": {},
   "outputs": [],
   "source": []
  },
  {
   "cell_type": "markdown",
   "id": "212593c7",
   "metadata": {},
   "source": [
    "## Analysis"
   ]
  },
  {
   "cell_type": "markdown",
   "id": "674a7eca",
   "metadata": {},
   "source": [
    "**Частота встречаемости городов**"
   ]
  },
  {
   "cell_type": "code",
   "execution_count": 29,
   "id": "9f79d00a",
   "metadata": {},
   "outputs": [
    {
     "data": {
      "text/html": [
       "<style type=\"text/css\">\n",
       "#T_ef044_row2_col0, #T_ef044_row2_col1 {\n",
       "  background-color: yellow;\n",
       "}\n",
       "#T_ef044_row4_col0, #T_ef044_row4_col1 {\n",
       "  background-color: green;\n",
       "}\n",
       "</style>\n",
       "<table id=\"T_ef044\">\n",
       "  <thead>\n",
       "    <tr>\n",
       "      <th class=\"blank level0\" >&nbsp;</th>\n",
       "      <th id=\"T_ef044_level0_col0\" class=\"col_heading level0 col0\" >city</th>\n",
       "      <th id=\"T_ef044_level0_col1\" class=\"col_heading level0 col1\" >percent_of_user</th>\n",
       "    </tr>\n",
       "    <tr>\n",
       "      <th class=\"index_name level0\" >city</th>\n",
       "      <th class=\"blank col0\" >&nbsp;</th>\n",
       "      <th class=\"blank col1\" >&nbsp;</th>\n",
       "    </tr>\n",
       "  </thead>\n",
       "  <tbody>\n",
       "    <tr>\n",
       "      <th id=\"T_ef044_level0_row0\" class=\"row_heading level0 row0\" >Екатеринбург</th>\n",
       "      <td id=\"T_ef044_row0_col0\" class=\"data row0 col0\" >204</td>\n",
       "      <td id=\"T_ef044_row0_col1\" class=\"data row0 col1\" >13.30%</td>\n",
       "    </tr>\n",
       "    <tr>\n",
       "      <th id=\"T_ef044_level0_row1\" class=\"row_heading level0 row1\" >Краснодар</th>\n",
       "      <td id=\"T_ef044_row1_col0\" class=\"data row1 col0\" >193</td>\n",
       "      <td id=\"T_ef044_row1_col1\" class=\"data row1 col1\" >12.58%</td>\n",
       "    </tr>\n",
       "    <tr>\n",
       "      <th id=\"T_ef044_level0_row2\" class=\"row_heading level0 row2\" >Москва</th>\n",
       "      <td id=\"T_ef044_row2_col0\" class=\"data row2 col0\" >168</td>\n",
       "      <td id=\"T_ef044_row2_col1\" class=\"data row2 col1\" >10.95%</td>\n",
       "    </tr>\n",
       "    <tr>\n",
       "      <th id=\"T_ef044_level0_row3\" class=\"row_heading level0 row3\" >Омск</th>\n",
       "      <td id=\"T_ef044_row3_col0\" class=\"data row3 col0\" >183</td>\n",
       "      <td id=\"T_ef044_row3_col1\" class=\"data row3 col1\" >11.93%</td>\n",
       "    </tr>\n",
       "    <tr>\n",
       "      <th id=\"T_ef044_level0_row4\" class=\"row_heading level0 row4\" >Пятигорск</th>\n",
       "      <td id=\"T_ef044_row4_col0\" class=\"data row4 col0\" >219</td>\n",
       "      <td id=\"T_ef044_row4_col1\" class=\"data row4 col1\" >14.28%</td>\n",
       "    </tr>\n",
       "    <tr>\n",
       "      <th id=\"T_ef044_level0_row5\" class=\"row_heading level0 row5\" >Ростов-на-Дону</th>\n",
       "      <td id=\"T_ef044_row5_col0\" class=\"data row5 col0\" >198</td>\n",
       "      <td id=\"T_ef044_row5_col1\" class=\"data row5 col1\" >12.91%</td>\n",
       "    </tr>\n",
       "    <tr>\n",
       "      <th id=\"T_ef044_level0_row6\" class=\"row_heading level0 row6\" >Сочи</th>\n",
       "      <td id=\"T_ef044_row6_col0\" class=\"data row6 col0\" >189</td>\n",
       "      <td id=\"T_ef044_row6_col1\" class=\"data row6 col1\" >12.32%</td>\n",
       "    </tr>\n",
       "    <tr>\n",
       "      <th id=\"T_ef044_level0_row7\" class=\"row_heading level0 row7\" >Тюмень</th>\n",
       "      <td id=\"T_ef044_row7_col0\" class=\"data row7 col0\" >180</td>\n",
       "      <td id=\"T_ef044_row7_col1\" class=\"data row7 col1\" >11.73%</td>\n",
       "    </tr>\n",
       "  </tbody>\n",
       "</table>\n"
      ],
      "text/plain": [
       "<pandas.io.formats.style.Styler at 0x1b332436890>"
      ]
     },
     "execution_count": 29,
     "metadata": {},
     "output_type": "execute_result"
    }
   ],
   "source": [
    "data_users.groupby('city').agg({'city':'count'}).assign(percent_of_user=lambda x: x / x.sum() * 100 ).\\\n",
    "style.highlight_max(color='green', subset=['city','percent_of_user']).highlight_min(color='yellow', subset=['city','percent_of_user']).format({'percent_of_user': '{:.2f}%'})\n",
    "\n"
   ]
  },
  {
   "cell_type": "code",
   "execution_count": 30,
   "id": "f9edbdd9",
   "metadata": {},
   "outputs": [
    {
     "data": {
      "image/png": "[encoded data removed]",
      "text/plain": [
       "<Figure size 700x700 with 1 Axes>"
      ]
     },
     "metadata": {},
     "output_type": "display_data"
    }
   ],
   "source": [
    "data_users.groupby('city').agg({'city':'count'}).assign(percent_of_user=lambda x: x / x.sum() * 100 ).\\\n",
    "plot(kind='pie', \n",
    "     y='city', \n",
    "     legend=False,\n",
    "     autopct = '%.2f%%',\n",
    "     wedgeprops = {'linewidth' : 3, 'edgecolor' : 'white' }, \n",
    "     title = 'Частота встречаемости городов среди пользователей',\n",
    "     figsize=(7,7)\n",
    "    );"
   ]
  },
  {
   "cell_type": "markdown",
   "id": "339baf42",
   "metadata": {},
   "source": [
    "Как и упоминалось ранее больше всего ездят в Пятигорске, но вцелом разница между Москвой и Питером небольшая. В средней распределение равномерное между всеми городами"
   ]
  },
  {
   "cell_type": "markdown",
   "id": "8b1fb2fe",
   "metadata": {},
   "source": [
    "**Соотношение пользователей с подпиской и без подписки**"
   ]
  },
  {
   "cell_type": "code",
   "execution_count": 31,
   "id": "52121dcf",
   "metadata": {},
   "outputs": [
    {
     "data": {
      "text/html": [
       "<style type=\"text/css\">\n",
       "#T_446bc_row0_col0, #T_446bc_row0_col1 {\n",
       "  background-color: green;\n",
       "}\n",
       "#T_446bc_row1_col0, #T_446bc_row1_col1 {\n",
       "  background-color: yellow;\n",
       "}\n",
       "</style>\n",
       "<table id=\"T_446bc\">\n",
       "  <thead>\n",
       "    <tr>\n",
       "      <th class=\"blank level0\" >&nbsp;</th>\n",
       "      <th id=\"T_446bc_level0_col0\" class=\"col_heading level0 col0\" >subscription_type</th>\n",
       "      <th id=\"T_446bc_level0_col1\" class=\"col_heading level0 col1\" >percent_of_tariff</th>\n",
       "    </tr>\n",
       "    <tr>\n",
       "      <th class=\"index_name level0\" >subscription_type</th>\n",
       "      <th class=\"blank col0\" >&nbsp;</th>\n",
       "      <th class=\"blank col1\" >&nbsp;</th>\n",
       "    </tr>\n",
       "  </thead>\n",
       "  <tbody>\n",
       "    <tr>\n",
       "      <th id=\"T_446bc_level0_row0\" class=\"row_heading level0 row0\" >free</th>\n",
       "      <td id=\"T_446bc_row0_col0\" class=\"data row0 col0\" >835</td>\n",
       "      <td id=\"T_446bc_row0_col1\" class=\"data row0 col1\" >54.43%</td>\n",
       "    </tr>\n",
       "    <tr>\n",
       "      <th id=\"T_446bc_level0_row1\" class=\"row_heading level0 row1\" >ultra</th>\n",
       "      <td id=\"T_446bc_row1_col0\" class=\"data row1 col0\" >699</td>\n",
       "      <td id=\"T_446bc_row1_col1\" class=\"data row1 col1\" >45.57%</td>\n",
       "    </tr>\n",
       "  </tbody>\n",
       "</table>\n"
      ],
      "text/plain": [
       "<pandas.io.formats.style.Styler at 0x1b330c9bd60>"
      ]
     },
     "execution_count": 31,
     "metadata": {},
     "output_type": "execute_result"
    }
   ],
   "source": [
    "data_users.groupby('subscription_type').agg({'subscription_type':'count'}).assign(percent_of_tariff=lambda x: x / x.sum() * 100 ).\\\n",
    "style.highlight_max(color='green', subset=['subscription_type','percent_of_tariff']).highlight_min(color='yellow', subset=['subscription_type','percent_of_tariff']).format({'percent_of_tariff': '{:.2f}%'})"
   ]
  },
  {
   "cell_type": "code",
   "execution_count": 32,
   "id": "bba41f74",
   "metadata": {},
   "outputs": [
    {
     "data": {
      "image/png": "[encoded data removed]",
      "text/plain": [
       "<Figure size 500x500 with 1 Axes>"
      ]
     },
     "metadata": {},
     "output_type": "display_data"
    }
   ],
   "source": [
    "data_users.groupby('subscription_type').agg({'subscription_type':'count'}).assign(percent_of_tariff=lambda x: x / x.sum() * 100 ).\\\n",
    "plot(kind='pie', \n",
    "     y='subscription_type', \n",
    "     legend=False,\n",
    "     autopct = '%.2f%%',\n",
    "     wedgeprops = {'linewidth' : 3, 'edgecolor' : 'white' }, \n",
    "     title = 'Соотношение пользователей с подпиской и без в процентах',\n",
    "     figsize=(5,5)\n",
    "    );"
   ]
  },
  {
   "cell_type": "markdown",
   "id": "e296b8f6",
   "metadata": {},
   "source": [
    "Больше преобладают пользователи без подписки"
   ]
  },
  {
   "cell_type": "markdown",
   "id": "095c3c74",
   "metadata": {},
   "source": [
    "**Возраст пользователей**"
   ]
  },
  {
   "cell_type": "code",
   "execution_count": 33,
   "id": "f9385b22",
   "metadata": {},
   "outputs": [
    {
     "data": {
      "text/html": [
       "<div>\n",
       "<style scoped>\n",
       "    .dataframe tbody tr th:only-of-type {\n",
       "        vertical-align: middle;\n",
       "    }\n",
       "\n",
       "    .dataframe tbody tr th {\n",
       "        vertical-align: top;\n",
       "    }\n",
       "\n",
       "    .dataframe thead th {\n",
       "        text-align: right;\n",
       "    }\n",
       "</style>\n",
       "<table border=\"1\" class=\"dataframe\">\n",
       "  <thead>\n",
       "    <tr style=\"text-align: right;\">\n",
       "      <th></th>\n",
       "      <th>age</th>\n",
       "    </tr>\n",
       "    <tr>\n",
       "      <th>age</th>\n",
       "      <th></th>\n",
       "    </tr>\n",
       "  </thead>\n",
       "  <tbody>\n",
       "    <tr>\n",
       "      <th>12</th>\n",
       "      <td>4</td>\n",
       "    </tr>\n",
       "    <tr>\n",
       "      <th>13</th>\n",
       "      <td>8</td>\n",
       "    </tr>\n",
       "    <tr>\n",
       "      <th>14</th>\n",
       "      <td>9</td>\n",
       "    </tr>\n",
       "    <tr>\n",
       "      <th>15</th>\n",
       "      <td>13</td>\n",
       "    </tr>\n",
       "    <tr>\n",
       "      <th>16</th>\n",
       "      <td>19</td>\n",
       "    </tr>\n",
       "    <tr>\n",
       "      <th>17</th>\n",
       "      <td>26</td>\n",
       "    </tr>\n",
       "    <tr>\n",
       "      <th>18</th>\n",
       "      <td>46</td>\n",
       "    </tr>\n",
       "    <tr>\n",
       "      <th>19</th>\n",
       "      <td>47</td>\n",
       "    </tr>\n",
       "    <tr>\n",
       "      <th>20</th>\n",
       "      <td>71</td>\n",
       "    </tr>\n",
       "    <tr>\n",
       "      <th>21</th>\n",
       "      <td>93</td>\n",
       "    </tr>\n",
       "    <tr>\n",
       "      <th>22</th>\n",
       "      <td>119</td>\n",
       "    </tr>\n",
       "    <tr>\n",
       "      <th>23</th>\n",
       "      <td>129</td>\n",
       "    </tr>\n",
       "    <tr>\n",
       "      <th>24</th>\n",
       "      <td>132</td>\n",
       "    </tr>\n",
       "    <tr>\n",
       "      <th>25</th>\n",
       "      <td>145</td>\n",
       "    </tr>\n",
       "    <tr>\n",
       "      <th>26</th>\n",
       "      <td>131</td>\n",
       "    </tr>\n",
       "    <tr>\n",
       "      <th>27</th>\n",
       "      <td>119</td>\n",
       "    </tr>\n",
       "    <tr>\n",
       "      <th>28</th>\n",
       "      <td>112</td>\n",
       "    </tr>\n",
       "    <tr>\n",
       "      <th>29</th>\n",
       "      <td>68</td>\n",
       "    </tr>\n",
       "    <tr>\n",
       "      <th>30</th>\n",
       "      <td>68</td>\n",
       "    </tr>\n",
       "    <tr>\n",
       "      <th>31</th>\n",
       "      <td>48</td>\n",
       "    </tr>\n",
       "    <tr>\n",
       "      <th>32</th>\n",
       "      <td>41</td>\n",
       "    </tr>\n",
       "    <tr>\n",
       "      <th>33</th>\n",
       "      <td>39</td>\n",
       "    </tr>\n",
       "    <tr>\n",
       "      <th>34</th>\n",
       "      <td>19</td>\n",
       "    </tr>\n",
       "    <tr>\n",
       "      <th>35</th>\n",
       "      <td>15</td>\n",
       "    </tr>\n",
       "    <tr>\n",
       "      <th>36</th>\n",
       "      <td>6</td>\n",
       "    </tr>\n",
       "    <tr>\n",
       "      <th>37</th>\n",
       "      <td>2</td>\n",
       "    </tr>\n",
       "    <tr>\n",
       "      <th>38</th>\n",
       "      <td>3</td>\n",
       "    </tr>\n",
       "    <tr>\n",
       "      <th>39</th>\n",
       "      <td>1</td>\n",
       "    </tr>\n",
       "    <tr>\n",
       "      <th>43</th>\n",
       "      <td>1</td>\n",
       "    </tr>\n",
       "  </tbody>\n",
       "</table>\n",
       "</div>"
      ],
      "text/plain": [
       "     age\n",
       "age     \n",
       "12     4\n",
       "13     8\n",
       "14     9\n",
       "15    13\n",
       "16    19\n",
       "17    26\n",
       "18    46\n",
       "19    47\n",
       "20    71\n",
       "21    93\n",
       "22   119\n",
       "23   129\n",
       "24   132\n",
       "25   145\n",
       "26   131\n",
       "27   119\n",
       "28   112\n",
       "29    68\n",
       "30    68\n",
       "31    48\n",
       "32    41\n",
       "33    39\n",
       "34    19\n",
       "35    15\n",
       "36     6\n",
       "37     2\n",
       "38     3\n",
       "39     1\n",
       "43     1"
      ]
     },
     "execution_count": 33,
     "metadata": {},
     "output_type": "execute_result"
    }
   ],
   "source": [
    "data_users.groupby('age').agg({'age':'count'})\n",
    "#data_users.pivot_table(index='age', aggfunc='count')['user_id']\n"
   ]
  },
  {
   "cell_type": "code",
   "execution_count": 34,
   "id": "38e75d9a",
   "metadata": {},
   "outputs": [
    {
     "data": {
      "image/png": "[encoded data removed]",
      "text/plain": [
       "<Figure size 640x480 with 1 Axes>"
      ]
     },
     "metadata": {},
     "output_type": "display_data"
    }
   ],
   "source": [
    "data_users.plot(kind='hist', y='age', bins=30, grid=True, title='Возраст');"
   ]
  },
  {
   "cell_type": "markdown",
   "id": "f54b26e6",
   "metadata": {},
   "source": [
    "Мы видим что минимальный возраст в нашей таблице = 12, 13 годам а максимальный = 39, 43. Но данных значений не много. \n",
    "Как и упоминалось ранее в основном пользуются люди в возрасте = 22 - 28 лет"
   ]
  },
  {
   "cell_type": "markdown",
   "id": "a243038e",
   "metadata": {},
   "source": [
    "**Расстояние, которое пользователь преодолел за одну поездку**"
   ]
  },
  {
   "cell_type": "code",
   "execution_count": 35,
   "id": "92069ba6",
   "metadata": {},
   "outputs": [
    {
     "name": "stdout",
     "output_type": "stream",
     "text": [
      "всего записей =  18068 \n",
      " минимальная дистанция =  0.86 \n",
      " максимальная дистанция =  7211.01 \n",
      " медиана дистанции =  3133.61 \n",
      " среднее дистанции =  3070.66\n",
      "\n",
      "11555     0.855683\n",
      "9541      2.570787\n",
      "13690     4.329506\n",
      "8658      6.784447\n",
      "7841      7.097072\n",
      "8906     11.283615\n",
      "8324     12.233115\n",
      "13940    15.000606\n",
      "15626    15.366168\n",
      "11862    15.630873\n",
      "Name: distance, dtype: float64\n",
      "78\n",
      "16309    7211.007745\n",
      "16484    7066.003772\n",
      "15580    6908.491343\n",
      "17171    6760.940067\n",
      "17242    6724.932981\n",
      "10341    6671.969833\n",
      "11385    6601.197575\n",
      "12086    6538.937375\n",
      "10915    6535.386520\n",
      "11319    6503.600402\n",
      "Name: distance, dtype: float64\n",
      "46\n"
     ]
    },
    {
     "data": {
      "image/png": "[encoded data removed]",
      "text/plain": [
       "<Figure size 1000x500 with 2 Axes>"
      ]
     },
     "metadata": {},
     "output_type": "display_data"
    }
   ],
   "source": [
    "print('всего записей = ', data_rides.shape[0], '\\n',\n",
    "      'минимальная дистанция = ', np.round(data_rides['distance'].min(), 2), '\\n',\n",
    "      'максимальная дистанция = ', np.round(data_rides['distance'].max(), 2), '\\n',\n",
    "      'медиана дистанции = ', np.round(data_rides['distance'].median(), 2), '\\n',\n",
    "      'среднее дистанции = ', np.round(data_rides['distance'].mean(), 2)\n",
    "     )\n",
    "print()\n",
    "print(data_rides.query('distance < 100')['distance'].sort_values(ascending=True).head(10))\n",
    "print(data_rides.query('distance < 100').shape[0])\n",
    "\n",
    "print(data_rides.query('distance > 6000')['distance'].sort_values(ascending=False).head(10))\n",
    "print(data_rides.query('distance > 6000').shape[0])\n",
    "\n",
    "fig, axes = plt.subplots(1, 2, figsize=(10, 5))\n",
    "data_rides.plot(kind='hist', y='distance', bins=30, grid=True, title='Распределение расстояния', ax=axes[0])\n",
    "data_rides.boxplot(column='distance', ax=axes[1])\n",
    "plt.show()"
   ]
  },
  {
   "cell_type": "markdown",
   "id": "b8806bb4",
   "metadata": {},
   "source": [
    "<br>Самая минимальная дистанция =  0.86\n",
    "<br>Самая максимальная дистанция =  7211.01  \n",
    "<br>Медиана приблизительно равна среднему = 3.1 км. В основном пользователи сервиса ездят по 2.5-3.8 км. \n",
    "<br>Также мы видим :\n",
    "<br>Кол-во пройденного пути < 100 м = 78 записей\n",
    "<br>Кол-во пройденного пути > 6000 м = 46 записей"
   ]
  },
  {
   "cell_type": "markdown",
   "id": "f7ab88e1",
   "metadata": {},
   "source": [
    "**Продолжительность поездок**"
   ]
  },
  {
   "cell_type": "code",
   "execution_count": 36,
   "id": "ea5ab346",
   "metadata": {},
   "outputs": [
    {
     "name": "stdout",
     "output_type": "stream",
     "text": [
      "всего записей =  18068 \n",
      " минимальная продолжительность мин =  0.5 \n",
      " максимальная продолжительность мин =  40.82 \n",
      " медиана продолжительности =  17.68 \n",
      " среднее продолжительности =  17.81\n",
      "\n",
      "6531     0.5\n",
      "14615    0.5\n",
      "14574    0.5\n",
      "14417    0.5\n",
      "14342    0.5\n",
      "14178    0.5\n",
      "13979    0.5\n",
      "13976    0.5\n",
      "13701    0.5\n",
      "13698    0.5\n",
      "Name: duration, dtype: float64\n",
      "95\n",
      "4215    40.823963\n",
      "4709    39.873856\n",
      "2623    39.526602\n",
      "1998    38.352763\n",
      "6453    38.265229\n",
      "143     38.125729\n",
      "3729    37.014141\n",
      "499     36.906491\n",
      "6348    36.809310\n",
      "4653    36.622595\n",
      "Name: duration, dtype: float64\n",
      "543\n"
     ]
    },
    {
     "data": {
      "image/png": "[encoded data removed]",
      "text/plain": [
       "<Figure size 1000x500 with 2 Axes>"
      ]
     },
     "metadata": {},
     "output_type": "display_data"
    }
   ],
   "source": [
    "print('всего записей = ', data_rides.shape[0], '\\n',\n",
    "      'минимальная продолжительность мин = ', np.round(data_rides['duration'].min(), 2), '\\n',\n",
    "      'максимальная продолжительность мин = ', np.round(data_rides['duration'].max(), 2), '\\n',\n",
    "      'медиана продолжительности = ', np.round(data_rides['duration'].median(), 2), '\\n',\n",
    "      'среднее продолжительности = ', np.round(data_rides['duration'].mean(), 2)\n",
    "     )\n",
    "print()\n",
    "print(data_rides.query('duration < 1')['duration'].sort_values(ascending=True).head(10))\n",
    "print(data_rides.query('duration < 1').shape[0])\n",
    "\n",
    "print(data_rides.query('duration > 30')['duration'].sort_values(ascending=False).head(10))\n",
    "print(data_rides.query('duration > 30').shape[0])\n",
    "\n",
    "\n",
    "fig, axes = plt.subplots(1, 2, figsize=(10, 5))\n",
    "data_rides.plot(kind='hist', y='duration', bins=30, range=(0,50), grid=True, title='Распределение продолжительности сессии (минут)', ax=axes[0])\n",
    "data_rides.boxplot(column='duration', ax=axes[1])\n",
    "plt.show()"
   ]
  },
  {
   "cell_type": "markdown",
   "id": "1e5d37c5",
   "metadata": {},
   "source": [
    "<br>Самая минимальное время =  0.5 мин, что очень странно. Об этом говорил в предыдущем пункте: либо пользователь передумал, либо что-то случилось с самокатом (аккумулятор), либо не хватило денег у пользователя для полноценной поездки.\n",
    "<br>Самая максимальное время =  почти 41 мин  \n",
    "<br>Медиана приблизительно равна среднему и колеблется в пределах = 18 мин. В основном пользователи сервиса ездят по 14-22 мин. \n",
    "<br>Также мы видим :\n",
    "<br>Кол-во записей < 1 мин  = 95 записей\n",
    "<br>Кол-во записей > 30 мин = 543 записей"
   ]
  },
  {
   "cell_type": "markdown",
   "id": "4ef51331",
   "metadata": {},
   "source": [
    "## Merge"
   ]
  },
  {
   "cell_type": "markdown",
   "id": "34760742",
   "metadata": {},
   "source": [
    "**Объединение данных о пользователях, поездках и подписках в один датафрейм**"
   ]
  },
  {
   "cell_type": "markdown",
   "id": "67af24b8",
   "metadata": {},
   "source": [
    "Сделаем перекрестное соединение inner для того чтобы увидеть все поездки с пользователями. Итого у нас должна получиться таблица с 18068 записями"
   ]
  },
  {
   "cell_type": "code",
   "execution_count": 37,
   "id": "2c27741b",
   "metadata": {},
   "outputs": [
    {
     "name": "stdout",
     "output_type": "stream",
     "text": [
      "расзмерность data_users 1534 5\n",
      "расзмерность data_rides 18068 5\n",
      "расзмерность data_subscriptions 2 4\n"
     ]
    }
   ],
   "source": [
    "print('расзмерность data_users', data_users.shape[0], data_users.shape[1])\n",
    "print('расзмерность data_rides', data_rides.shape[0], data_rides.shape[1])\n",
    "print('расзмерность data_subscriptions', data_subscriptions.shape[0], data_subscriptions.shape[1])\n"
   ]
  },
  {
   "cell_type": "code",
   "execution_count": 38,
   "id": "c2529394",
   "metadata": {},
   "outputs": [
    {
     "name": "stdout",
     "output_type": "stream",
     "text": [
      "<class 'pandas.core.frame.DataFrame'>\n",
      "Int64Index: 18068 entries, 0 to 18067\n",
      "Data columns (total 12 columns):\n",
      " #   Column             Non-Null Count  Dtype         \n",
      "---  ------             --------------  -----         \n",
      " 0   user_id            18068 non-null  int64         \n",
      " 1   name               18068 non-null  object        \n",
      " 2   age                18068 non-null  int64         \n",
      " 3   city               18068 non-null  object        \n",
      " 4   subscription_type  18068 non-null  object        \n",
      " 5   distance           18068 non-null  float64       \n",
      " 6   duration           18068 non-null  float64       \n",
      " 7   date               18068 non-null  datetime64[ns]\n",
      " 8   month              18068 non-null  int64         \n",
      " 9   minute_price       18068 non-null  int64         \n",
      " 10  start_ride_price   18068 non-null  int64         \n",
      " 11  subscription_fee   18068 non-null  int64         \n",
      "dtypes: datetime64[ns](1), float64(2), int64(6), object(3)\n",
      "memory usage: 1.8+ MB\n",
      "None\n"
     ]
    },
    {
     "data": {
      "text/html": [
       "<div>\n",
       "<style scoped>\n",
       "    .dataframe tbody tr th:only-of-type {\n",
       "        vertical-align: middle;\n",
       "    }\n",
       "\n",
       "    .dataframe tbody tr th {\n",
       "        vertical-align: top;\n",
       "    }\n",
       "\n",
       "    .dataframe thead th {\n",
       "        text-align: right;\n",
       "    }\n",
       "</style>\n",
       "<table border=\"1\" class=\"dataframe\">\n",
       "  <thead>\n",
       "    <tr style=\"text-align: right;\">\n",
       "      <th></th>\n",
       "      <th>user_id</th>\n",
       "      <th>name</th>\n",
       "      <th>age</th>\n",
       "      <th>city</th>\n",
       "      <th>subscription_type</th>\n",
       "      <th>distance</th>\n",
       "      <th>duration</th>\n",
       "      <th>date</th>\n",
       "      <th>month</th>\n",
       "      <th>minute_price</th>\n",
       "      <th>start_ride_price</th>\n",
       "      <th>subscription_fee</th>\n",
       "    </tr>\n",
       "  </thead>\n",
       "  <tbody>\n",
       "    <tr>\n",
       "      <th>0</th>\n",
       "      <td>1</td>\n",
       "      <td>Кира</td>\n",
       "      <td>22</td>\n",
       "      <td>Тюмень</td>\n",
       "      <td>ultra</td>\n",
       "      <td>4409.919140</td>\n",
       "      <td>25.599769</td>\n",
       "      <td>2021-01-01</td>\n",
       "      <td>1</td>\n",
       "      <td>6</td>\n",
       "      <td>0</td>\n",
       "      <td>199</td>\n",
       "    </tr>\n",
       "    <tr>\n",
       "      <th>1</th>\n",
       "      <td>1</td>\n",
       "      <td>Кира</td>\n",
       "      <td>22</td>\n",
       "      <td>Тюмень</td>\n",
       "      <td>ultra</td>\n",
       "      <td>2617.592153</td>\n",
       "      <td>15.816871</td>\n",
       "      <td>2021-01-18</td>\n",
       "      <td>1</td>\n",
       "      <td>6</td>\n",
       "      <td>0</td>\n",
       "      <td>199</td>\n",
       "    </tr>\n",
       "    <tr>\n",
       "      <th>2</th>\n",
       "      <td>1</td>\n",
       "      <td>Кира</td>\n",
       "      <td>22</td>\n",
       "      <td>Тюмень</td>\n",
       "      <td>ultra</td>\n",
       "      <td>754.159807</td>\n",
       "      <td>6.232113</td>\n",
       "      <td>2021-04-20</td>\n",
       "      <td>4</td>\n",
       "      <td>6</td>\n",
       "      <td>0</td>\n",
       "      <td>199</td>\n",
       "    </tr>\n",
       "    <tr>\n",
       "      <th>3</th>\n",
       "      <td>1</td>\n",
       "      <td>Кира</td>\n",
       "      <td>22</td>\n",
       "      <td>Тюмень</td>\n",
       "      <td>ultra</td>\n",
       "      <td>2694.783254</td>\n",
       "      <td>18.511000</td>\n",
       "      <td>2021-08-11</td>\n",
       "      <td>8</td>\n",
       "      <td>6</td>\n",
       "      <td>0</td>\n",
       "      <td>199</td>\n",
       "    </tr>\n",
       "    <tr>\n",
       "      <th>4</th>\n",
       "      <td>1</td>\n",
       "      <td>Кира</td>\n",
       "      <td>22</td>\n",
       "      <td>Тюмень</td>\n",
       "      <td>ultra</td>\n",
       "      <td>4028.687306</td>\n",
       "      <td>26.265803</td>\n",
       "      <td>2021-08-28</td>\n",
       "      <td>8</td>\n",
       "      <td>6</td>\n",
       "      <td>0</td>\n",
       "      <td>199</td>\n",
       "    </tr>\n",
       "    <tr>\n",
       "      <th>...</th>\n",
       "      <td>...</td>\n",
       "      <td>...</td>\n",
       "      <td>...</td>\n",
       "      <td>...</td>\n",
       "      <td>...</td>\n",
       "      <td>...</td>\n",
       "      <td>...</td>\n",
       "      <td>...</td>\n",
       "      <td>...</td>\n",
       "      <td>...</td>\n",
       "      <td>...</td>\n",
       "      <td>...</td>\n",
       "    </tr>\n",
       "    <tr>\n",
       "      <th>18063</th>\n",
       "      <td>1534</td>\n",
       "      <td>Альберт</td>\n",
       "      <td>25</td>\n",
       "      <td>Краснодар</td>\n",
       "      <td>free</td>\n",
       "      <td>3781.098080</td>\n",
       "      <td>19.822962</td>\n",
       "      <td>2021-11-04</td>\n",
       "      <td>11</td>\n",
       "      <td>8</td>\n",
       "      <td>50</td>\n",
       "      <td>0</td>\n",
       "    </tr>\n",
       "    <tr>\n",
       "      <th>18064</th>\n",
       "      <td>1534</td>\n",
       "      <td>Альберт</td>\n",
       "      <td>25</td>\n",
       "      <td>Краснодар</td>\n",
       "      <td>free</td>\n",
       "      <td>2840.423057</td>\n",
       "      <td>21.409799</td>\n",
       "      <td>2021-11-16</td>\n",
       "      <td>11</td>\n",
       "      <td>8</td>\n",
       "      <td>50</td>\n",
       "      <td>0</td>\n",
       "    </tr>\n",
       "    <tr>\n",
       "      <th>18065</th>\n",
       "      <td>1534</td>\n",
       "      <td>Альберт</td>\n",
       "      <td>25</td>\n",
       "      <td>Краснодар</td>\n",
       "      <td>free</td>\n",
       "      <td>3826.185507</td>\n",
       "      <td>18.435051</td>\n",
       "      <td>2021-11-18</td>\n",
       "      <td>11</td>\n",
       "      <td>8</td>\n",
       "      <td>50</td>\n",
       "      <td>0</td>\n",
       "    </tr>\n",
       "    <tr>\n",
       "      <th>18066</th>\n",
       "      <td>1534</td>\n",
       "      <td>Альберт</td>\n",
       "      <td>25</td>\n",
       "      <td>Краснодар</td>\n",
       "      <td>free</td>\n",
       "      <td>2902.308661</td>\n",
       "      <td>16.674362</td>\n",
       "      <td>2021-11-27</td>\n",
       "      <td>11</td>\n",
       "      <td>8</td>\n",
       "      <td>50</td>\n",
       "      <td>0</td>\n",
       "    </tr>\n",
       "    <tr>\n",
       "      <th>18067</th>\n",
       "      <td>1534</td>\n",
       "      <td>Альберт</td>\n",
       "      <td>25</td>\n",
       "      <td>Краснодар</td>\n",
       "      <td>free</td>\n",
       "      <td>2371.711192</td>\n",
       "      <td>15.893917</td>\n",
       "      <td>2021-12-29</td>\n",
       "      <td>12</td>\n",
       "      <td>8</td>\n",
       "      <td>50</td>\n",
       "      <td>0</td>\n",
       "    </tr>\n",
       "  </tbody>\n",
       "</table>\n",
       "<p>18068 rows × 12 columns</p>\n",
       "</div>"
      ],
      "text/plain": [
       "       user_id     name  age       city subscription_type     distance  \\\n",
       "0            1     Кира   22     Тюмень             ultra  4409.919140   \n",
       "1            1     Кира   22     Тюмень             ultra  2617.592153   \n",
       "2            1     Кира   22     Тюмень             ultra   754.159807   \n",
       "3            1     Кира   22     Тюмень             ultra  2694.783254   \n",
       "4            1     Кира   22     Тюмень             ultra  4028.687306   \n",
       "...        ...      ...  ...        ...               ...          ...   \n",
       "18063     1534  Альберт   25  Краснодар              free  3781.098080   \n",
       "18064     1534  Альберт   25  Краснодар              free  2840.423057   \n",
       "18065     1534  Альберт   25  Краснодар              free  3826.185507   \n",
       "18066     1534  Альберт   25  Краснодар              free  2902.308661   \n",
       "18067     1534  Альберт   25  Краснодар              free  2371.711192   \n",
       "\n",
       "        duration       date  month  minute_price  start_ride_price  \\\n",
       "0      25.599769 2021-01-01      1             6                 0   \n",
       "1      15.816871 2021-01-18      1             6                 0   \n",
       "2       6.232113 2021-04-20      4             6                 0   \n",
       "3      18.511000 2021-08-11      8             6                 0   \n",
       "4      26.265803 2021-08-28      8             6                 0   \n",
       "...          ...        ...    ...           ...               ...   \n",
       "18063  19.822962 2021-11-04     11             8                50   \n",
       "18064  21.409799 2021-11-16     11             8                50   \n",
       "18065  18.435051 2021-11-18     11             8                50   \n",
       "18066  16.674362 2021-11-27     11             8                50   \n",
       "18067  15.893917 2021-12-29     12             8                50   \n",
       "\n",
       "       subscription_fee  \n",
       "0                   199  \n",
       "1                   199  \n",
       "2                   199  \n",
       "3                   199  \n",
       "4                   199  \n",
       "...                 ...  \n",
       "18063                 0  \n",
       "18064                 0  \n",
       "18065                 0  \n",
       "18066                 0  \n",
       "18067                 0  \n",
       "\n",
       "[18068 rows x 12 columns]"
      ]
     },
     "execution_count": 38,
     "metadata": {},
     "output_type": "execute_result"
    }
   ],
   "source": [
    "data_users_rides_sub = data_users.merge(data_rides, how='inner', on='user_id').\\\n",
    "merge(data_subscriptions, how='inner', on='subscription_type')\n",
    "\n",
    "print(data_users_rides_sub.info())\n",
    "data_users_rides_sub\n"
   ]
  },
  {
   "cell_type": "code",
   "execution_count": 39,
   "id": "1aa75c12",
   "metadata": {},
   "outputs": [
    {
     "name": "stdout",
     "output_type": "stream",
     "text": [
      "расзмерность data_users_rides_sub 18068 12\n"
     ]
    }
   ],
   "source": [
    "print('расзмерность data_users_rides_sub', data_users_rides_sub.shape[0], data_users_rides_sub.shape[1])\n"
   ]
  },
  {
   "cell_type": "markdown",
   "id": "01adecc6",
   "metadata": {},
   "source": [
    "**Создание ещё два датафрейма из датафрейма выше с данными о пользователях без подписки и подпиской**"
   ]
  },
  {
   "cell_type": "code",
   "execution_count": 40,
   "id": "c5408002",
   "metadata": {},
   "outputs": [
    {
     "name": "stdout",
     "output_type": "stream",
     "text": [
      "11568\n",
      "6500\n",
      "0\n"
     ]
    }
   ],
   "source": [
    "free_data_users_full = data_users_rides_sub.query('subscription_type == \"free\"')\n",
    "print(free_data_users_full.shape[0])\n",
    "ultra_data_users_full = data_users_rides_sub.query('subscription_type == \"ultra\"')\n",
    "print(ultra_data_users_full.shape[0])\n",
    "\n",
    "temp_count = data_users_rides_sub.shape[0] - (free_data_users_full.shape[0] + ultra_data_users_full.shape[0])\n",
    "print(temp_count)"
   ]
  },
  {
   "cell_type": "markdown",
   "id": "44e52eae",
   "metadata": {},
   "source": [
    "**Итого у нас:**\n",
    "\n",
    "<br> data_users_rides_sub - таблица со всеми пользователями включающая поездки и подписки в одном месте\n",
    "<br> free_data_users_full - таблица с информацией о пользователях с бесплатным тарифом. 11568 записей\n",
    "<br> ultra_data_users_full - таблица с информацией о пользователях с платным тарифом. 6500 записей"
   ]
  },
  {
   "cell_type": "markdown",
   "id": "9521384a",
   "metadata": {},
   "source": [
    "Построим графики для обеих таблиц, отражающие расстояние и время поездок\n"
   ]
  },
  {
   "cell_type": "code",
   "execution_count": 41,
   "id": "542698de",
   "metadata": {},
   "outputs": [
    {
     "data": {
      "image/png": "[encoded data removed]",
      "text/plain": [
       "<Figure size 1000x500 with 2 Axes>"
      ]
     },
     "metadata": {},
     "output_type": "display_data"
    }
   ],
   "source": [
    "fig, axes = plt.subplots(1, 2, figsize=(10, 5))\n",
    "free_data_users_full.plot(kind='hist', y='distance', bins=40, grid=True, title='Расстояние', ax=axes[0])\n",
    "free_data_users_full.plot(kind='hist', y='duration', bins=40, range=(0,50), grid=True, title='Время', ax=axes[1])\n",
    "\n",
    "ultra_data_users_full.plot(kind='hist', y='distance', bins=40, grid=True, alpha=0.5, title='Расстояние', ax=axes[0])\n",
    "ultra_data_users_full.plot(kind='hist', y='duration', bins=40, range=(0,50), grid=True, alpha=0.5, title='Время', ax=axes[1])\n",
    "\n",
    "plt.show()"
   ]
  },
  {
   "cell_type": "markdown",
   "id": "c387e8b2",
   "metadata": {},
   "source": [
    "<br> Мы видим для бесплатного тарифа пользователи проезжают от 2 до 4.6 км, а время от 10 до 25 мин. \n",
    "<br> Мы видим для платного тарифа пользователи проезжают от 2.5 до 3.5 км с пиком около 3 км, а время от 14 до 23 мин. \n",
    "\n",
    "Для бесплатного тарифа мы видим также что преобладает кол-во пользователей которые проехали больше 5 км, что не скажешь о платном и по графикам пользователи с бесплатным тарифом дольше ездят "
   ]
  },
  {
   "cell_type": "markdown",
   "id": "402d620f",
   "metadata": {},
   "source": [
    "## Подсчёт выручки"
   ]
  },
  {
   "cell_type": "markdown",
   "id": "8a87d789",
   "metadata": {},
   "source": [
    "**Создайте датафрейм с агрегированными данными о поездках на основе датафрейма с объединёнными данными (табл : data_users_rides_sub)**"
   ]
  },
  {
   "cell_type": "markdown",
   "id": "31c88e61",
   "metadata": {},
   "source": [
    "Найдем суммарное расстояние, количество поездок и суммарное время для каждого пользователя за каждый месяц согласно ТЗ"
   ]
  },
  {
   "cell_type": "code",
   "execution_count": 42,
   "id": "981525ec",
   "metadata": {},
   "outputs": [
    {
     "data": {
      "text/html": [
       "<div>\n",
       "<style scoped>\n",
       "    .dataframe tbody tr th:only-of-type {\n",
       "        vertical-align: middle;\n",
       "    }\n",
       "\n",
       "    .dataframe tbody tr th {\n",
       "        vertical-align: top;\n",
       "    }\n",
       "\n",
       "    .dataframe thead th {\n",
       "        text-align: right;\n",
       "    }\n",
       "</style>\n",
       "<table border=\"1\" class=\"dataframe\">\n",
       "  <thead>\n",
       "    <tr style=\"text-align: right;\">\n",
       "      <th></th>\n",
       "      <th>user_id</th>\n",
       "      <th>name</th>\n",
       "      <th>age</th>\n",
       "      <th>city</th>\n",
       "      <th>subscription_type</th>\n",
       "      <th>distance</th>\n",
       "      <th>duration</th>\n",
       "      <th>date</th>\n",
       "      <th>month</th>\n",
       "      <th>minute_price</th>\n",
       "      <th>start_ride_price</th>\n",
       "      <th>subscription_fee</th>\n",
       "    </tr>\n",
       "  </thead>\n",
       "  <tbody>\n",
       "    <tr>\n",
       "      <th>0</th>\n",
       "      <td>1</td>\n",
       "      <td>Кира</td>\n",
       "      <td>22</td>\n",
       "      <td>Тюмень</td>\n",
       "      <td>ultra</td>\n",
       "      <td>4409.919140</td>\n",
       "      <td>25.599769</td>\n",
       "      <td>2021-01-01</td>\n",
       "      <td>1</td>\n",
       "      <td>6</td>\n",
       "      <td>0</td>\n",
       "      <td>199</td>\n",
       "    </tr>\n",
       "    <tr>\n",
       "      <th>1</th>\n",
       "      <td>1</td>\n",
       "      <td>Кира</td>\n",
       "      <td>22</td>\n",
       "      <td>Тюмень</td>\n",
       "      <td>ultra</td>\n",
       "      <td>2617.592153</td>\n",
       "      <td>15.816871</td>\n",
       "      <td>2021-01-18</td>\n",
       "      <td>1</td>\n",
       "      <td>6</td>\n",
       "      <td>0</td>\n",
       "      <td>199</td>\n",
       "    </tr>\n",
       "    <tr>\n",
       "      <th>2</th>\n",
       "      <td>1</td>\n",
       "      <td>Кира</td>\n",
       "      <td>22</td>\n",
       "      <td>Тюмень</td>\n",
       "      <td>ultra</td>\n",
       "      <td>754.159807</td>\n",
       "      <td>6.232113</td>\n",
       "      <td>2021-04-20</td>\n",
       "      <td>4</td>\n",
       "      <td>6</td>\n",
       "      <td>0</td>\n",
       "      <td>199</td>\n",
       "    </tr>\n",
       "    <tr>\n",
       "      <th>3</th>\n",
       "      <td>1</td>\n",
       "      <td>Кира</td>\n",
       "      <td>22</td>\n",
       "      <td>Тюмень</td>\n",
       "      <td>ultra</td>\n",
       "      <td>2694.783254</td>\n",
       "      <td>18.511000</td>\n",
       "      <td>2021-08-11</td>\n",
       "      <td>8</td>\n",
       "      <td>6</td>\n",
       "      <td>0</td>\n",
       "      <td>199</td>\n",
       "    </tr>\n",
       "    <tr>\n",
       "      <th>4</th>\n",
       "      <td>1</td>\n",
       "      <td>Кира</td>\n",
       "      <td>22</td>\n",
       "      <td>Тюмень</td>\n",
       "      <td>ultra</td>\n",
       "      <td>4028.687306</td>\n",
       "      <td>26.265803</td>\n",
       "      <td>2021-08-28</td>\n",
       "      <td>8</td>\n",
       "      <td>6</td>\n",
       "      <td>0</td>\n",
       "      <td>199</td>\n",
       "    </tr>\n",
       "  </tbody>\n",
       "</table>\n",
       "</div>"
      ],
      "text/plain": [
       "   user_id  name  age    city subscription_type     distance   duration  \\\n",
       "0        1  Кира   22  Тюмень             ultra  4409.919140  25.599769   \n",
       "1        1  Кира   22  Тюмень             ultra  2617.592153  15.816871   \n",
       "2        1  Кира   22  Тюмень             ultra   754.159807   6.232113   \n",
       "3        1  Кира   22  Тюмень             ultra  2694.783254  18.511000   \n",
       "4        1  Кира   22  Тюмень             ultra  4028.687306  26.265803   \n",
       "\n",
       "        date  month  minute_price  start_ride_price  subscription_fee  \n",
       "0 2021-01-01      1             6                 0               199  \n",
       "1 2021-01-18      1             6                 0               199  \n",
       "2 2021-04-20      4             6                 0               199  \n",
       "3 2021-08-11      8             6                 0               199  \n",
       "4 2021-08-28      8             6                 0               199  "
      ]
     },
     "execution_count": 42,
     "metadata": {},
     "output_type": "execute_result"
    }
   ],
   "source": [
    "data_users_rides_sub.head()"
   ]
  },
  {
   "cell_type": "code",
   "execution_count": 43,
   "id": "86be9c43",
   "metadata": {},
   "outputs": [
    {
     "data": {
      "text/html": [
       "<div>\n",
       "<style scoped>\n",
       "    .dataframe tbody tr th:only-of-type {\n",
       "        vertical-align: middle;\n",
       "    }\n",
       "\n",
       "    .dataframe tbody tr th {\n",
       "        vertical-align: top;\n",
       "    }\n",
       "\n",
       "    .dataframe thead th {\n",
       "        text-align: right;\n",
       "    }\n",
       "</style>\n",
       "<table border=\"1\" class=\"dataframe\">\n",
       "  <thead>\n",
       "    <tr style=\"text-align: right;\">\n",
       "      <th></th>\n",
       "      <th></th>\n",
       "      <th></th>\n",
       "      <th>distance_total</th>\n",
       "      <th>count_trips</th>\n",
       "      <th>duration_total</th>\n",
       "      <th>subscription_type</th>\n",
       "    </tr>\n",
       "    <tr>\n",
       "      <th>user_id</th>\n",
       "      <th>name</th>\n",
       "      <th>month</th>\n",
       "      <th></th>\n",
       "      <th></th>\n",
       "      <th></th>\n",
       "      <th></th>\n",
       "    </tr>\n",
       "  </thead>\n",
       "  <tbody>\n",
       "    <tr>\n",
       "      <th rowspan=\"5\" valign=\"top\">1</th>\n",
       "      <th rowspan=\"5\" valign=\"top\">Кира</th>\n",
       "      <th>1</th>\n",
       "      <td>7028.0</td>\n",
       "      <td>2</td>\n",
       "      <td>42.0</td>\n",
       "      <td>ultra</td>\n",
       "    </tr>\n",
       "    <tr>\n",
       "      <th>4</th>\n",
       "      <td>755.0</td>\n",
       "      <td>1</td>\n",
       "      <td>7.0</td>\n",
       "      <td>ultra</td>\n",
       "    </tr>\n",
       "    <tr>\n",
       "      <th>8</th>\n",
       "      <td>6724.0</td>\n",
       "      <td>2</td>\n",
       "      <td>45.0</td>\n",
       "      <td>ultra</td>\n",
       "    </tr>\n",
       "    <tr>\n",
       "      <th>10</th>\n",
       "      <td>5810.0</td>\n",
       "      <td>2</td>\n",
       "      <td>32.0</td>\n",
       "      <td>ultra</td>\n",
       "    </tr>\n",
       "    <tr>\n",
       "      <th>11</th>\n",
       "      <td>7004.0</td>\n",
       "      <td>3</td>\n",
       "      <td>54.0</td>\n",
       "      <td>ultra</td>\n",
       "    </tr>\n",
       "    <tr>\n",
       "      <th>...</th>\n",
       "      <th>...</th>\n",
       "      <th>...</th>\n",
       "      <td>...</td>\n",
       "      <td>...</td>\n",
       "      <td>...</td>\n",
       "      <td>...</td>\n",
       "    </tr>\n",
       "    <tr>\n",
       "      <th rowspan=\"5\" valign=\"top\">1534</th>\n",
       "      <th rowspan=\"5\" valign=\"top\">Альберт</th>\n",
       "      <th>6</th>\n",
       "      <td>3410.0</td>\n",
       "      <td>2</td>\n",
       "      <td>25.0</td>\n",
       "      <td>free</td>\n",
       "    </tr>\n",
       "    <tr>\n",
       "      <th>8</th>\n",
       "      <td>7623.0</td>\n",
       "      <td>2</td>\n",
       "      <td>48.0</td>\n",
       "      <td>free</td>\n",
       "    </tr>\n",
       "    <tr>\n",
       "      <th>9</th>\n",
       "      <td>4929.0</td>\n",
       "      <td>1</td>\n",
       "      <td>23.0</td>\n",
       "      <td>free</td>\n",
       "    </tr>\n",
       "    <tr>\n",
       "      <th>11</th>\n",
       "      <td>13351.0</td>\n",
       "      <td>4</td>\n",
       "      <td>77.0</td>\n",
       "      <td>free</td>\n",
       "    </tr>\n",
       "    <tr>\n",
       "      <th>12</th>\n",
       "      <td>2372.0</td>\n",
       "      <td>1</td>\n",
       "      <td>16.0</td>\n",
       "      <td>free</td>\n",
       "    </tr>\n",
       "  </tbody>\n",
       "</table>\n",
       "<p>11331 rows × 4 columns</p>\n",
       "</div>"
      ],
      "text/plain": [
       "                       distance_total  count_trips  duration_total  \\\n",
       "user_id name    month                                                \n",
       "1       Кира    1              7028.0            2            42.0   \n",
       "                4               755.0            1             7.0   \n",
       "                8              6724.0            2            45.0   \n",
       "                10             5810.0            2            32.0   \n",
       "                11             7004.0            3            54.0   \n",
       "...                               ...          ...             ...   \n",
       "1534    Альберт 6              3410.0            2            25.0   \n",
       "                8              7623.0            2            48.0   \n",
       "                9              4929.0            1            23.0   \n",
       "                11            13351.0            4            77.0   \n",
       "                12             2372.0            1            16.0   \n",
       "\n",
       "                      subscription_type  \n",
       "user_id name    month                    \n",
       "1       Кира    1                 ultra  \n",
       "                4                 ultra  \n",
       "                8                 ultra  \n",
       "                10                ultra  \n",
       "                11                ultra  \n",
       "...                                 ...  \n",
       "1534    Альберт 6                  free  \n",
       "                8                  free  \n",
       "                9                  free  \n",
       "                11                 free  \n",
       "                12                 free  \n",
       "\n",
       "[11331 rows x 4 columns]"
      ]
     },
     "execution_count": 43,
     "metadata": {},
     "output_type": "execute_result"
    }
   ],
   "source": [
    "calc_billing = pd.pivot_table(data_users_rides_sub, \n",
    "                              index=['user_id', 'name', 'month'], \n",
    "                              values=['duration', 'distance', 'subscription_type'],\n",
    "                              aggfunc = {\"duration\": ['count', 'sum'], \"distance\": ['sum'], \"subscription_type\" : ['first']}\n",
    "                             )\n",
    "\n",
    "calc_billing.columns = ['distance_total', 'count_trips', 'duration_total', 'subscription_type']\n",
    "calc_billing['distance_total'] = np.ceil(calc_billing['distance_total'])\n",
    "calc_billing['duration_total'] = np.ceil(calc_billing['duration_total'])\n",
    "\n",
    "calc_billing\n",
    "#calc_billing.query('user_id == 2')"
   ]
  },
  {
   "cell_type": "markdown",
   "id": "8f08b5c4",
   "metadata": {},
   "source": [
    "**Добавление столбца с помесячной выручкой в полученный датафрейм**"
   ]
  },
  {
   "cell_type": "markdown",
   "id": "93932af1",
   "metadata": {},
   "source": [
    "Условия подписок согласно ТЗ\n",
    "\n",
    "    без подписки\n",
    "      \n",
    "        абонентская плата отсутствует;\n",
    "        стоимость одной минуты поездки — 8 рублей;\n",
    "        стоимость старта (начала поездки) — 50 рублей;\n",
    "    с подпиской Ultra\n",
    "      \n",
    "        абонентская плата — 199 рублей в месяц;\n",
    "        стоимость одной минуты поездки — 6 рублей;\n",
    "        стоимость старта — бесплатно.\n"
   ]
  },
  {
   "cell_type": "code",
   "execution_count": 44,
   "id": "ad75c4e9",
   "metadata": {},
   "outputs": [
    {
     "data": {
      "text/html": [
       "<div>\n",
       "<style scoped>\n",
       "    .dataframe tbody tr th:only-of-type {\n",
       "        vertical-align: middle;\n",
       "    }\n",
       "\n",
       "    .dataframe tbody tr th {\n",
       "        vertical-align: top;\n",
       "    }\n",
       "\n",
       "    .dataframe thead th {\n",
       "        text-align: right;\n",
       "    }\n",
       "</style>\n",
       "<table border=\"1\" class=\"dataframe\">\n",
       "  <thead>\n",
       "    <tr style=\"text-align: right;\">\n",
       "      <th></th>\n",
       "      <th></th>\n",
       "      <th></th>\n",
       "      <th>distance_total</th>\n",
       "      <th>count_trips</th>\n",
       "      <th>duration_total</th>\n",
       "      <th>subscription_type</th>\n",
       "      <th>billing_per_month</th>\n",
       "    </tr>\n",
       "    <tr>\n",
       "      <th>user_id</th>\n",
       "      <th>name</th>\n",
       "      <th>month</th>\n",
       "      <th></th>\n",
       "      <th></th>\n",
       "      <th></th>\n",
       "      <th></th>\n",
       "      <th></th>\n",
       "    </tr>\n",
       "  </thead>\n",
       "  <tbody>\n",
       "    <tr>\n",
       "      <th rowspan=\"5\" valign=\"top\">1</th>\n",
       "      <th rowspan=\"5\" valign=\"top\">Кира</th>\n",
       "      <th>1</th>\n",
       "      <td>7028.0</td>\n",
       "      <td>2</td>\n",
       "      <td>42.0</td>\n",
       "      <td>ultra</td>\n",
       "      <td>451.0</td>\n",
       "    </tr>\n",
       "    <tr>\n",
       "      <th>4</th>\n",
       "      <td>755.0</td>\n",
       "      <td>1</td>\n",
       "      <td>7.0</td>\n",
       "      <td>ultra</td>\n",
       "      <td>241.0</td>\n",
       "    </tr>\n",
       "    <tr>\n",
       "      <th>8</th>\n",
       "      <td>6724.0</td>\n",
       "      <td>2</td>\n",
       "      <td>45.0</td>\n",
       "      <td>ultra</td>\n",
       "      <td>469.0</td>\n",
       "    </tr>\n",
       "    <tr>\n",
       "      <th>10</th>\n",
       "      <td>5810.0</td>\n",
       "      <td>2</td>\n",
       "      <td>32.0</td>\n",
       "      <td>ultra</td>\n",
       "      <td>391.0</td>\n",
       "    </tr>\n",
       "    <tr>\n",
       "      <th>11</th>\n",
       "      <td>7004.0</td>\n",
       "      <td>3</td>\n",
       "      <td>54.0</td>\n",
       "      <td>ultra</td>\n",
       "      <td>523.0</td>\n",
       "    </tr>\n",
       "    <tr>\n",
       "      <th>...</th>\n",
       "      <th>...</th>\n",
       "      <th>...</th>\n",
       "      <td>...</td>\n",
       "      <td>...</td>\n",
       "      <td>...</td>\n",
       "      <td>...</td>\n",
       "      <td>...</td>\n",
       "    </tr>\n",
       "    <tr>\n",
       "      <th rowspan=\"5\" valign=\"top\">1534</th>\n",
       "      <th rowspan=\"5\" valign=\"top\">Альберт</th>\n",
       "      <th>6</th>\n",
       "      <td>3410.0</td>\n",
       "      <td>2</td>\n",
       "      <td>25.0</td>\n",
       "      <td>free</td>\n",
       "      <td>300.0</td>\n",
       "    </tr>\n",
       "    <tr>\n",
       "      <th>8</th>\n",
       "      <td>7623.0</td>\n",
       "      <td>2</td>\n",
       "      <td>48.0</td>\n",
       "      <td>free</td>\n",
       "      <td>484.0</td>\n",
       "    </tr>\n",
       "    <tr>\n",
       "      <th>9</th>\n",
       "      <td>4929.0</td>\n",
       "      <td>1</td>\n",
       "      <td>23.0</td>\n",
       "      <td>free</td>\n",
       "      <td>234.0</td>\n",
       "    </tr>\n",
       "    <tr>\n",
       "      <th>11</th>\n",
       "      <td>13351.0</td>\n",
       "      <td>4</td>\n",
       "      <td>77.0</td>\n",
       "      <td>free</td>\n",
       "      <td>816.0</td>\n",
       "    </tr>\n",
       "    <tr>\n",
       "      <th>12</th>\n",
       "      <td>2372.0</td>\n",
       "      <td>1</td>\n",
       "      <td>16.0</td>\n",
       "      <td>free</td>\n",
       "      <td>178.0</td>\n",
       "    </tr>\n",
       "  </tbody>\n",
       "</table>\n",
       "<p>11331 rows × 5 columns</p>\n",
       "</div>"
      ],
      "text/plain": [
       "                       distance_total  count_trips  duration_total  \\\n",
       "user_id name    month                                                \n",
       "1       Кира    1              7028.0            2            42.0   \n",
       "                4               755.0            1             7.0   \n",
       "                8              6724.0            2            45.0   \n",
       "                10             5810.0            2            32.0   \n",
       "                11             7004.0            3            54.0   \n",
       "...                               ...          ...             ...   \n",
       "1534    Альберт 6              3410.0            2            25.0   \n",
       "                8              7623.0            2            48.0   \n",
       "                9              4929.0            1            23.0   \n",
       "                11            13351.0            4            77.0   \n",
       "                12             2372.0            1            16.0   \n",
       "\n",
       "                      subscription_type  billing_per_month  \n",
       "user_id name    month                                       \n",
       "1       Кира    1                 ultra              451.0  \n",
       "                4                 ultra              241.0  \n",
       "                8                 ultra              469.0  \n",
       "                10                ultra              391.0  \n",
       "                11                ultra              523.0  \n",
       "...                                 ...                ...  \n",
       "1534    Альберт 6                  free              300.0  \n",
       "                8                  free              484.0  \n",
       "                9                  free              234.0  \n",
       "                11                 free              816.0  \n",
       "                12                 free              178.0  \n",
       "\n",
       "[11331 rows x 5 columns]"
      ]
     },
     "execution_count": 44,
     "metadata": {},
     "output_type": "execute_result"
    }
   ],
   "source": [
    "def bill_all(row):\n",
    "    if row['subscription_type'] == 'ultra':\n",
    "        return 6 * row['duration_total'] + 199\n",
    "    elif row['subscription_type'] == 'free':\n",
    "        return 8 * row['duration_total'] + 50 * row['count_trips']\n",
    "\n",
    "\n",
    "calc_billing['billing_per_month'] = calc_billing.apply(bill_all, axis=1)\n",
    "calc_billing"
   ]
  },
  {
   "cell_type": "markdown",
   "id": "62644273",
   "metadata": {},
   "source": [
    "В итоге у нас получилась таблица calc_billing с агрегированными значениями и с подсчетом выручки за каждый месяц для конкретного пользователя в зависимости от тарифа"
   ]
  },
  {
   "cell_type": "markdown",
   "id": "41545ac0",
   "metadata": {},
   "source": [
    "## Проверка гипотез"
   ]
  },
  {
   "cell_type": "markdown",
   "id": "2b68fde9",
   "metadata": {},
   "source": [
    "**1. Проверка гипотезы о пользователях с подпиской**"
   ]
  },
  {
   "cell_type": "markdown",
   "id": "09d30035",
   "metadata": {},
   "source": [
    "Важно понять, тратят ли пользователи с подпиской больше времени на поездки? Если да, то пользователи с подпиской могут быть «выгоднее» для компании. Проверьте гипотезу. Используйте исходные данные о продолжительности каждой сессии — отдельно для подписчиков и тех, у кого нет подписки."
   ]
  },
  {
   "cell_type": "markdown",
   "id": "3ce70082",
   "metadata": {},
   "source": [
    "Сформируем нулевую и альтернативную гипотезу\n",
    "\n",
    "<br> H0 : ultra duration = free duration\n",
    "<br> H1 : ultra duration > free duration"
   ]
  },
  {
   "cell_type": "code",
   "execution_count": 45,
   "id": "de1d5a29",
   "metadata": {},
   "outputs": [],
   "source": [
    "def mean_hypothesis(ho, h1, alpha, sample_1, sample_2, equal_var=True, alternative='two-sided'):\n",
    "    \"\"\"\n",
    "    Функция проверяет гипотезу о равенстве средних, используя t-критерий Стьюдента.\n",
    "    \n",
    "    Parameters\n",
    "    ----------\n",
    "    ho: string\n",
    "        Нулевая гипотеза.\n",
    "    h1: string\n",
    "        Альтернативная гипотеза.\n",
    "    alpha: float\n",
    "        Уровень значимости.        \n",
    "    sample_1: Pandas Dataframe\n",
    "        Набор данных 1.\n",
    "    sample_2: Pandas Dataframe\n",
    "        Набор данных 1.\n",
    "    equal_var: string\n",
    "        True - значение по умолчанию. Параметр метода ttest_ind.\n",
    "    \n",
    "    Returns\n",
    "    -------\n",
    "    Функция возвращает None.\n",
    "    \"\"\"\n",
    "    \n",
    "    print(f'H0 (нулевая гипотеза): {ho}')\n",
    "    print(f'H1 (альтернативная гипотеза): {h1}')\n",
    "    print(f'Уровень значимости: {alpha}')\n",
    "    print('')\n",
    "    \n",
    "    print('Sample_1')\n",
    "    print(f'Среднее значение: {sample_1.mean():.2f}, дисперсия: {sample_1.var():.2f}, стандартное отклонение: {sample_1.std():.2f}')\n",
    "    print('')\n",
    "    \n",
    "    print('Sample_2')\n",
    "    print(f'Среднее значение: {sample_2.mean():.2f}, дисперсия: {sample_2.var():.2f}, стандартное отклонение: {sample_2.std():.2f}')\n",
    "    print('')\n",
    "    \n",
    "    # применяем t-критерий Стьюдента из стандартного пакета\n",
    "    results = st.ttest_ind(sample_1, sample_2, equal_var=equal_var, alternative=alternative)\n",
    "    print(f'p-значение округленное = : {results.pvalue:.2f}, p-значение полученное = : {results.pvalue}')\n",
    "    print('')\n",
    "    \n",
    "    if results.pvalue < alpha:\n",
    "        print('Отвергаем нулевую гипотезу')\n",
    "    else:\n",
    "        print('Не получилось отвергнуть нулевую гипотезу')"
   ]
  },
  {
   "cell_type": "code",
   "execution_count": 46,
   "id": "28cd25e4",
   "metadata": {},
   "outputs": [
    {
     "name": "stdout",
     "output_type": "stream",
     "text": [
      "H0 (нулевая гипотеза): ultra duration = free duration\n",
      "H1 (альтернативная гипотеза): ultra duration > free duration\n",
      "Уровень значимости: 0.05\n",
      "\n",
      "Sample_1\n",
      "Среднее значение: 18.54, дисперсия: 31.05, стандартное отклонение: 5.57\n",
      "\n",
      "Sample_2\n",
      "Среднее значение: 17.39, дисперсия: 40.03, стандартное отклонение: 6.33\n",
      "\n",
      "p-значение округленное = : 0.00, p-значение полученное = : 2.5608196633291235e-34\n",
      "\n",
      "Отвергаем нулевую гипотезу\n"
     ]
    }
   ],
   "source": [
    "#ultra_data_users_full\n",
    "#free_data_users_full\n",
    "\n",
    "serias_ultra = ultra_data_users_full['duration']\n",
    "serias_free = free_data_users_full['duration']\n",
    "\n",
    "mean_hypothesis('ultra duration = free duration', 'ultra duration > free duration', .05, serias_ultra, serias_free, 'greater')"
   ]
  },
  {
   "cell_type": "markdown",
   "id": "8be7425a",
   "metadata": {},
   "source": [
    "Таким образом гипотеза о том что пользователи с подпиской тратят больше времени на поездки верна."
   ]
  },
  {
   "cell_type": "code",
   "execution_count": null,
   "id": "4256e0ad",
   "metadata": {},
   "outputs": [],
   "source": []
  },
  {
   "cell_type": "markdown",
   "id": "efe3a6f2",
   "metadata": {},
   "source": [
    "**2. Проверка гипотезы о расстоянии в 3130 метров**"
   ]
  },
  {
   "cell_type": "markdown",
   "id": "13c29ef5",
   "metadata": {},
   "source": [
    "Расстояние одной поездки в 3130 метров — оптимальное с точки зрения износа самоката. Можно ли сказать, что расстояние, которое проезжают пользователи с подпиской за одну поездку, не превышает 3130 метров? Проверьте гипотезу и сделайте выводы."
   ]
  },
  {
   "cell_type": "code",
   "execution_count": 47,
   "id": "9c4fa242",
   "metadata": {},
   "outputs": [],
   "source": [
    "def sample_hypothesis(ho, h1, alpha, sample, popmean, alternative='greater'):\n",
    "    \"\"\"\n",
    "    Функция для проверки двусторонней гипотезы о равенстве среднего генеральной совокупности некоторому значению\n",
    "    \n",
    "    Parameters\n",
    "    ----------\n",
    "    ho: string\n",
    "        Нулевая гипотеза.\n",
    "    h1: string\n",
    "        Альтернативная гипотеза.\n",
    "    alpha: float\n",
    "        Уровень значимости.        \n",
    "    sample: Pandas Dataframe\n",
    "        Набор данных.\n",
    "    popmean: float\n",
    "        среднее значение генеральной совокупности\n",
    "    alternative: string\n",
    "        nтип проверки гипотезы\n",
    "    \n",
    "    Returns\n",
    "    -------\n",
    "    Функция возвращает None.\n",
    "    \"\"\"\n",
    "    \n",
    "    print(f'H0 (нулевая гипотеза): {ho}')\n",
    "    print(f'H1 (альтернативная гипотеза): {h1}')\n",
    "    print(f'равенство которому вы делаете тест на проверку двусторонней гипотезы: {popmean}')\n",
    "    print(f'Уровень значимости: {alpha}')\n",
    "    print('')\n",
    "    \n",
    "    print('Sample')\n",
    "    print(f'Среднее значение: {sample.mean():.2f}, дисперсия: {sample.var():.2f}, стандартное отклонение: {sample.std():.2f}')\n",
    "    print('')\n",
    "    \n",
    "    \n",
    "    # применяем t-критерий из стандартного пакета для проверки двусторонней гипотезы о равенстве среднего генеральной совокупности некоторому значению\n",
    "    results = st.ttest_1samp(sample, popmean, alternative=alternative)\n",
    "    print(f'p-значение округленное = : {results.pvalue:.2f} p-значение полученное = : {results.pvalue}')\n",
    "    print('')\n",
    "    \n",
    "    if results.pvalue < alpha:\n",
    "        print('Отвергаем нулевую гипотезу')\n",
    "    else:\n",
    "        print('Не получилось отвергнуть нулевую гипотезу')"
   ]
  },
  {
   "cell_type": "code",
   "execution_count": 48,
   "id": "a528efad",
   "metadata": {},
   "outputs": [
    {
     "name": "stdout",
     "output_type": "stream",
     "text": [
      "H0 (нулевая гипотеза): ultra duration = 3130\n",
      "H1 (альтернативная гипотеза): ultra duration < 3130\n",
      "равенство которому вы делаете тест на проверку двусторонней гипотезы: 3130\n",
      "Уровень значимости: 0.05\n",
      "\n",
      "Sample\n",
      "Среднее значение: 3115.45, дисперсия: 700393.79, стандартное отклонение: 836.90\n",
      "\n",
      "p-значение округленное = : 0.08 p-значение полученное = : 0.08046311521502146\n",
      "\n",
      "Не получилось отвергнуть нулевую гипотезу\n"
     ]
    }
   ],
   "source": [
    "serias_ultra = ultra_data_users_full['distance']\n",
    "\n",
    "sample_hypothesis('ultra duration = 3130', 'ultra duration < 3130', .05, serias_ultra, 3130, 'less')"
   ]
  },
  {
   "cell_type": "markdown",
   "id": "ea8026c0",
   "metadata": {},
   "source": [
    "В данном случае мы применяли одностороннюю левую проверку гипотезы («среднее генеральной совокупности меньше, чем A»).\n",
    "Таким образом мы не можем утверждать что расстояние не прывашает  3130 метров"
   ]
  },
  {
   "cell_type": "markdown",
   "id": "7b177c3b",
   "metadata": {},
   "source": [
    "**3. Проверка гипотезу о выручке от пользователей**"
   ]
  },
  {
   "cell_type": "markdown",
   "id": "e9fa5c4e",
   "metadata": {},
   "source": [
    "Проверьте гипотезу о том, будет ли помесячная выручка от пользователей с подпиской по месяцам выше, чем выручка от пользователей без подписки. Сделайте вывод."
   ]
  },
  {
   "cell_type": "code",
   "execution_count": 49,
   "id": "6de34676",
   "metadata": {},
   "outputs": [
    {
     "name": "stdout",
     "output_type": "stream",
     "text": [
      "H0 (нулевая гипотеза): ultra billing_per_month = free billing_per_month\n",
      "H1 (альтернативная гипотеза): ultra billing_per_month > free billing_per_month\n",
      "Уровень значимости: 0.05\n",
      "\n",
      "Sample_1\n",
      "Среднее значение: 361.48, дисперсия: 7464.95, стандартное отклонение: 86.40\n",
      "\n",
      "Sample_2\n",
      "Среднее значение: 325.84, дисперсия: 32585.90, стандартное отклонение: 180.52\n",
      "\n",
      "p-значение округленное = : 0.00, p-значение полученное = : 5.626185237697457e-35\n",
      "\n",
      "Отвергаем нулевую гипотезу\n"
     ]
    }
   ],
   "source": [
    "#calc_billing\n",
    "\n",
    "serias_ultra = calc_billing.loc[calc_billing['subscription_type'] == 'ultra', 'billing_per_month']\n",
    "serias_free = calc_billing.loc[calc_billing['subscription_type'] == 'free', 'billing_per_month']\n",
    "\n",
    "#print(serias_ultra)\n",
    "\n",
    "mean_hypothesis('ultra billing_per_month = free billing_per_month', 'ultra billing_per_month > free billing_per_month', .05, serias_ultra, serias_free, 'greater')"
   ]
  },
  {
   "cell_type": "markdown",
   "id": "b687b999",
   "metadata": {},
   "source": [
    "Таким образом выручка пользователей с подпиской больше чем без подписки"
   ]
  },
  {
   "cell_type": "markdown",
   "id": "78bad98d",
   "metadata": {},
   "source": [
    "**4. ответ на вопрос об изменении выборки с сервисом**"
   ]
  },
  {
   "cell_type": "markdown",
   "id": "249f8395",
   "metadata": {},
   "source": [
    "Представьте такую ситуацию: техническая команда сервиса обновила сервера, с которыми взаимодействует мобильное приложение. Она надеется, что из-за этого количество обращений в техподдержку значимо снизилось. Некоторый файл содержит для каждого пользователя данные о количестве обращений до обновления и после него. Какой тест вам понадобился бы для проверки этой гипотезы?"
   ]
  },
  {
   "cell_type": "markdown",
   "id": "76a6679d",
   "metadata": {},
   "source": [
    "**Ответ:**\n",
    "\n",
    "У нас есть две выборки (до/после применения обновления).\n",
    "\n",
    "Т.е. если генеральная совокупность была изменена и мы просто сравниваем средние совокупности до и после этого изменения то логично применить гипотезу о равенстве средних для зависимых (парных) выборок\n",
    "\n",
    "Давайте сформулируем гипотезу_0 и гипотезу_1(альтернативную)\n",
    "<br> H0: m1 = m2\n",
    "<br> H1: m1 != m2\n",
    "<br> m1, m2 - средние значения до и после изменения.\n",
    "\n",
    "\n",
    "`results = st.ttest_rel(before, after)`"
   ]
  },
  {
   "cell_type": "code",
   "execution_count": null,
   "id": "82ef14e4",
   "metadata": {},
   "outputs": [],
   "source": []
  },
  {
   "cell_type": "markdown",
   "id": "61213c5e",
   "metadata": {},
   "source": [
    "**5. Распределения №1**"
   ]
  },
  {
   "cell_type": "markdown",
   "id": "debde0eb",
   "metadata": {},
   "source": [
    "\n",
    "Отделу маркетинга GoFast поставили задачу: нужно провести акцию с раздачей промокодов на один бесплатный месяц подписки, в рамках которой как минимум 100 существующих клиентов должны продлить эту подписку. То есть по завершении периода действия подписки пользователь может либо отказаться от неё, либо продлить, совершив соответствующий платёж. \n",
    "\n",
    "Эта акция уже проводилась ранее и по итогу выяснилось, что после бесплатного пробного периода подписку продлевают 10 % пользователей. Выясните, какое минимальное количество промокодов нужно разослать, чтобы вероятность не выполнить план была примерно 5 %. Подберите параметры распределения, описывающего эту ситуацию, постройте график распределения и сформулируйте ответ на вопрос о количестве промокодов."
   ]
  },
  {
   "cell_type": "code",
   "execution_count": 50,
   "id": "2f653dbb",
   "metadata": {},
   "outputs": [],
   "source": [
    "#calc_billing\n",
    "#data_users_rides_sub"
   ]
  },
  {
   "cell_type": "markdown",
   "id": "d6f69a73",
   "metadata": {},
   "source": [
    "Решение:\n",
    "\n",
    "Рассматриваем случай, вероятность:\n",
    "</br> пользователь продлевает = 0.1\n",
    "</br> пользователь не продлевает = 0.9\n",
    "</br> На первый взгляд - это биномиальный эксперимент\n",
    "</br> Кол-во попыток должно быть не менее 1000 чтобы как минимум 100 человек продлили подписку. "
   ]
  },
  {
   "cell_type": "code",
   "execution_count": null,
   "id": "79fd7a09",
   "metadata": {},
   "outputs": [],
   "source": []
  },
  {
   "cell_type": "code",
   "execution_count": 51,
   "id": "d4d0df1c",
   "metadata": {},
   "outputs": [
    {
     "name": "stdout",
     "output_type": "stream",
     "text": [
      "1170 100.02841955223582 0.04971489312694162\n"
     ]
    }
   ],
   "source": [
    "from scipy import stats as st\n",
    "import seaborn as sns\n",
    "import math\n",
    "\n",
    "n = 1000 # задаём параметры биномиального распределения\n",
    "p = 0.1 # вероятность успеха\n",
    "\n",
    "result = 0\n",
    "\n",
    "while result < 100:\n",
    "    mu = n * p # мат ожидание\n",
    "    sigma = math.sqrt(n * p * (1 - p)) # дисперсия\n",
    "    distr = st.norm(mu, sigma)\n",
    "\n",
    "    result = distr.ppf(0.05)\n",
    "    result1 = distr.cdf(100)\n",
    "    n += 1\n",
    "    \n",
    "print(n, result, result1)"
   ]
  },
  {
   "cell_type": "markdown",
   "id": "ec76f131",
   "metadata": {},
   "source": [
    "Минимальное кол-во промокодов равно 1170 чтобы вероятность не выполнить план была примерно 5 %."
   ]
  },
  {
   "cell_type": "markdown",
   "id": "8a839ad8",
   "metadata": {},
   "source": [
    "**6. Распределения №2**\n",
    "\n",
    "Отдел маркетинга рассылает клиентам push-уведомления в мобильном приложении. Клиенты могут открыть его или не открывать. Известно, что уведомления открывают около 40 % получивших клиентов. Отдел планирует разослать 1 млн уведомлений. С помощью аппроксимации постройте примерный график распределения и оцените вероятность того, что уведомление откроют не более 399,53 тыс. пользователей."
   ]
  },
  {
   "cell_type": "code",
   "execution_count": 52,
   "id": "5c52ba0c",
   "metadata": {},
   "outputs": [
    {
     "name": "stdout",
     "output_type": "stream",
     "text": [
      "0.026614671022916994\n"
     ]
    }
   ],
   "source": [
    "from scipy import stats as st\n",
    "import seaborn as sns\n",
    "import math\n",
    "\n",
    "n = 1000000 # задаём параметры биномиального распределения\n",
    "p = 0.4 # вероятность успеха\n",
    "\n",
    "mu = n * p\n",
    "sigma = math.sqrt(n * p * (1 - p))\n",
    "distr = st.norm(mu, sigma)\n",
    "\n",
    "result = distr.cdf(399053)\n",
    "print(result)"
   ]
  },
  {
   "cell_type": "markdown",
   "id": "2b3345fa",
   "metadata": {},
   "source": [
    "Ответ: 2.6 % на 399,53 тыс. уведомлений откроют"
   ]
  },
  {
   "cell_type": "code",
   "execution_count": null,
   "id": "e53b0d56",
   "metadata": {},
   "outputs": [],
   "source": []
  },
  {
   "cell_type": "markdown",
   "id": "3bbd5dae",
   "metadata": {},
   "source": [
    "## Вывод"
   ]
  },
  {
   "cell_type": "markdown",
   "id": "dbb93034",
   "metadata": {},
   "source": [
    "Мы получили и проанализировали информацию о сервисе Яндекс Го самокат. Загрузили три таблицы:\n",
    "- users_go\n",
    "- rides_go\n",
    "- subscriptions_go\n",
    "\n",
    "Выполнили предобработку данных по трем датафреймам: какие пропущенные значения обнаружены, изменены типы данных, просмотр неявных дубликатов, добавили колонку месяц.\n",
    "\n",
    "Выполнили анализ данных и построили графики:\n",
    "- частота встречаемости городов;\n",
    "- соотношение пользователей с подпиской и без подписки;\n",
    "- возраст пользователей;\n",
    "- расстояние, которое пользователь преодолел за одну поездку;\n",
    "- продолжительность поездок;\n",
    "\n",
    "Больше всего ездят в Пятигорске, но вцелом разница между Москвой и Питером небольшая. В средней распределение равномерное между всеми городами\n",
    "Больше преобладают пользователи без подписки.\n",
    "в основном пользуются люди в возрасте = 22 - 28 лет.\n",
    "В основном люди проезжают 2.2-4 км.\n",
    "Чаще всего длительность поездки состовляет 13 - 24 минуты.\n",
    "\n",
    "Провели анализ поездок пользователей с платной подпиской и бусплатной:\n",
    "Для бесплатного тарифа мы видим  преобладает кол-во пользователей которые проехали больше 5 км, что не скажешь о платном и по графикам пользователи с бесплатным тарифом дольше ездят. \n",
    "\n",
    "Также мы добавили агрегацию для каждого пользователя за каждый месяц : расстояние, количество поездок и суммарное время.\n",
    "\n",
    "Проверили гипотезы:\n",
    "<br>тратят ли пользователи с подпиской больше времени на поездки\n",
    "- Подтвердили альтернативную гипотезу - да\n",
    "\n",
    "<br>расстояние, которое проезжают пользователи с подпиской за одну поездку, не превышает 3130 метров?\n",
    "- мы не можем утверждать что расстояние не прывашает 3130 метров\n",
    "\n",
    "<br>помесячная выручка от пользователей с подпиской по месяцам выше, чем выручка от пользователей без подписки\n",
    "- выручка пользователей с подпиской больше чем без подписки\n",
    "\n",
    "\n",
    "\n",
    "_Рекомендации:_\n",
    "\n",
    "Проверить, почему Москва или С-Питербург не находятся в топе. Для платного тарифа проработать над увеличением продолжительности поездки у пользователей. Для людей которые очень активно пользуются сервисом - добавить скидки (или один бесплатный километр). Провести акции для увеличения пользователей с подпиской, т.к они приносят больше прибыли \n"
   ]
  },
  {
   "cell_type": "code",
   "execution_count": null,
   "id": "2379c4ee",
   "metadata": {},
   "outputs": [],
   "source": []
  },
  {
   "cell_type": "markdown",
   "id": "89941b3f",
   "metadata": {},
   "source": [
    "**Чек-лист готовности проекта**"
   ]
  },
  {
   "cell_type": "markdown",
   "id": "cd7cbc31",
   "metadata": {},
   "source": [
    "- [x]  Загрузка данных: открыть файлы, изучить их, сохранить в DF, собрать общую информацию (info/ гистограммы и тд)\n",
    "\n",
    "- [x]  Предобработка данных: определены пропущенные значения, заполнены пропущенные значения там, где это возможно, есть пояснение, какие пропущенные значения обнаружены, изменены типы данных, просмотр неявных дубликатов, поиск аномалий/ устранение аномалий\n",
    "- [x]  Предобработка данных: добавление месяца\n",
    "- [x]  Исследовательский анализ данных, изучены и построены гистограммы:\n",
    "        - частота встречаемости городов;\n",
    "        - соотношение пользователей с подпиской и без подписки;\n",
    "        - возраст пользователей;\n",
    "        - расстояние, которое пользователь преодолел за одну поездку;\n",
    "        - продолжительность поездок;\n",
    "- [x]  Выполнено объединение данных о пользователях, поездках\n",
    "- [x]  Создано ещё два датафрейма c данными о пользователях без подписки и с подпиской\n",
    "- [x]  Был произведен подсчёт выручки с агрегированными данными о поездках\n",
    "        - Создан датафрейм с агрегированными данными о поездках на основе датафрейма с объединёнными данными\n",
    "        - добавлен столбец с помесячной выручкой\n",
    "        - округлены значения в этом столбце в большую сторону\n",
    "- [x]  Проверка гипотезы: тратят ли пользователи с подпиской больше времени на поездки? \n",
    "- [x]  Проверка гипотезы о расстоянии в  3130 метров\n",
    "- [x]  Проверка гипотезы о том, будет ли помесячная выручка от пользователей с подпиской по месяцам выше , чем выручка от пользователей без подписки\n",
    "- [x]  ответ на вопрос об изменении выборки с сервисом\n",
    "\n",
    "\n",
    "\n",
    "- [x]  в каждом этапе есть промежуточные выводы\n",
    "- [x]  есть общий вывод"
   ]
  },
  {
   "cell_type": "code",
   "execution_count": null,
   "id": "5e2c8da7",
   "metadata": {},
   "outputs": [],
   "source": []
  }
 ],
 "metadata": {
  "ExecuteTimeLog": [
   {
    "duration": 1151,
    "start_time": "2023-07-10T08:58:14.919Z"
   },
   {
    "duration": 208,
    "start_time": "2023-07-10T08:58:16.072Z"
   },
   {
    "duration": 0,
    "start_time": "2023-07-10T08:58:16.283Z"
   },
   {
    "duration": 0,
    "start_time": "2023-07-10T08:58:16.285Z"
   },
   {
    "duration": 0,
    "start_time": "2023-07-10T08:58:16.287Z"
   },
   {
    "duration": 0,
    "start_time": "2023-07-10T08:58:16.289Z"
   },
   {
    "duration": 0,
    "start_time": "2023-07-10T08:58:16.290Z"
   },
   {
    "duration": 0,
    "start_time": "2023-07-10T08:58:16.291Z"
   },
   {
    "duration": 0,
    "start_time": "2023-07-10T08:58:16.292Z"
   },
   {
    "duration": 0,
    "start_time": "2023-07-10T08:58:16.304Z"
   },
   {
    "duration": 0,
    "start_time": "2023-07-10T08:58:16.305Z"
   },
   {
    "duration": 0,
    "start_time": "2023-07-10T08:58:16.305Z"
   },
   {
    "duration": 0,
    "start_time": "2023-07-10T08:58:16.306Z"
   },
   {
    "duration": 0,
    "start_time": "2023-07-10T08:58:16.307Z"
   },
   {
    "duration": 0,
    "start_time": "2023-07-10T08:58:16.307Z"
   },
   {
    "duration": 0,
    "start_time": "2023-07-10T08:58:16.308Z"
   },
   {
    "duration": 0,
    "start_time": "2023-07-10T08:58:16.308Z"
   },
   {
    "duration": 0,
    "start_time": "2023-07-10T08:58:16.317Z"
   },
   {
    "duration": 0,
    "start_time": "2023-07-10T08:58:16.318Z"
   },
   {
    "duration": 0,
    "start_time": "2023-07-10T08:58:16.319Z"
   },
   {
    "duration": 0,
    "start_time": "2023-07-10T08:58:16.320Z"
   },
   {
    "duration": 0,
    "start_time": "2023-07-10T08:58:16.322Z"
   },
   {
    "duration": 0,
    "start_time": "2023-07-10T08:58:16.323Z"
   },
   {
    "duration": 0,
    "start_time": "2023-07-10T08:58:16.324Z"
   },
   {
    "duration": 0,
    "start_time": "2023-07-10T08:58:16.326Z"
   },
   {
    "duration": 0,
    "start_time": "2023-07-10T08:58:16.327Z"
   },
   {
    "duration": 0,
    "start_time": "2023-07-10T08:58:16.328Z"
   },
   {
    "duration": 0,
    "start_time": "2023-07-10T08:58:16.329Z"
   },
   {
    "duration": 0,
    "start_time": "2023-07-10T08:58:16.330Z"
   },
   {
    "duration": 0,
    "start_time": "2023-07-10T08:58:16.331Z"
   },
   {
    "duration": 0,
    "start_time": "2023-07-10T08:58:16.332Z"
   },
   {
    "duration": 0,
    "start_time": "2023-07-10T08:58:16.333Z"
   },
   {
    "duration": 0,
    "start_time": "2023-07-10T08:58:16.335Z"
   },
   {
    "duration": 0,
    "start_time": "2023-07-10T08:58:16.336Z"
   },
   {
    "duration": 0,
    "start_time": "2023-07-10T08:58:16.337Z"
   },
   {
    "duration": 0,
    "start_time": "2023-07-10T08:58:16.338Z"
   },
   {
    "duration": 0,
    "start_time": "2023-07-10T08:58:16.339Z"
   },
   {
    "duration": 0,
    "start_time": "2023-07-10T08:58:16.340Z"
   },
   {
    "duration": 0,
    "start_time": "2023-07-10T08:58:16.341Z"
   },
   {
    "duration": 0,
    "start_time": "2023-07-10T08:58:16.342Z"
   },
   {
    "duration": 0,
    "start_time": "2023-07-10T08:58:16.343Z"
   },
   {
    "duration": 0,
    "start_time": "2023-07-10T08:58:16.344Z"
   },
   {
    "duration": 0,
    "start_time": "2023-07-10T08:58:16.345Z"
   },
   {
    "duration": 0,
    "start_time": "2023-07-10T08:58:16.346Z"
   },
   {
    "duration": 0,
    "start_time": "2023-07-10T08:58:16.347Z"
   },
   {
    "duration": 0,
    "start_time": "2023-07-10T08:58:16.348Z"
   },
   {
    "duration": 139,
    "start_time": "2023-07-10T08:58:43.964Z"
   },
   {
    "duration": 332,
    "start_time": "2023-07-10T08:59:08.247Z"
   },
   {
    "duration": 1205,
    "start_time": "2023-07-10T08:59:13.165Z"
   },
   {
    "duration": 320,
    "start_time": "2023-07-10T08:59:14.371Z"
   },
   {
    "duration": 40,
    "start_time": "2023-07-10T08:59:14.693Z"
   },
   {
    "duration": 201,
    "start_time": "2023-07-10T08:59:14.736Z"
   },
   {
    "duration": 88,
    "start_time": "2023-07-10T08:59:14.939Z"
   },
   {
    "duration": 15,
    "start_time": "2023-07-10T08:59:15.030Z"
   },
   {
    "duration": 20,
    "start_time": "2023-07-10T08:59:15.047Z"
   },
   {
    "duration": 439,
    "start_time": "2023-07-10T08:59:15.069Z"
   },
   {
    "duration": 0,
    "start_time": "2023-07-10T08:59:15.511Z"
   },
   {
    "duration": 0,
    "start_time": "2023-07-10T08:59:15.516Z"
   },
   {
    "duration": 0,
    "start_time": "2023-07-10T08:59:15.517Z"
   },
   {
    "duration": 0,
    "start_time": "2023-07-10T08:59:15.518Z"
   },
   {
    "duration": 0,
    "start_time": "2023-07-10T08:59:15.519Z"
   },
   {
    "duration": 0,
    "start_time": "2023-07-10T08:59:15.519Z"
   },
   {
    "duration": 0,
    "start_time": "2023-07-10T08:59:15.520Z"
   },
   {
    "duration": 0,
    "start_time": "2023-07-10T08:59:15.521Z"
   },
   {
    "duration": 0,
    "start_time": "2023-07-10T08:59:15.521Z"
   },
   {
    "duration": 0,
    "start_time": "2023-07-10T08:59:15.522Z"
   },
   {
    "duration": 0,
    "start_time": "2023-07-10T08:59:15.523Z"
   },
   {
    "duration": 0,
    "start_time": "2023-07-10T08:59:15.524Z"
   },
   {
    "duration": 0,
    "start_time": "2023-07-10T08:59:15.524Z"
   },
   {
    "duration": 0,
    "start_time": "2023-07-10T08:59:15.525Z"
   },
   {
    "duration": 0,
    "start_time": "2023-07-10T08:59:15.526Z"
   },
   {
    "duration": 0,
    "start_time": "2023-07-10T08:59:15.526Z"
   },
   {
    "duration": 0,
    "start_time": "2023-07-10T08:59:15.527Z"
   },
   {
    "duration": 0,
    "start_time": "2023-07-10T08:59:15.527Z"
   },
   {
    "duration": 0,
    "start_time": "2023-07-10T08:59:15.528Z"
   },
   {
    "duration": 0,
    "start_time": "2023-07-10T08:59:15.529Z"
   },
   {
    "duration": 0,
    "start_time": "2023-07-10T08:59:15.531Z"
   },
   {
    "duration": 0,
    "start_time": "2023-07-10T08:59:15.532Z"
   },
   {
    "duration": 0,
    "start_time": "2023-07-10T08:59:15.533Z"
   },
   {
    "duration": 0,
    "start_time": "2023-07-10T08:59:15.534Z"
   },
   {
    "duration": 0,
    "start_time": "2023-07-10T08:59:15.535Z"
   },
   {
    "duration": 0,
    "start_time": "2023-07-10T08:59:15.536Z"
   },
   {
    "duration": 0,
    "start_time": "2023-07-10T08:59:15.538Z"
   },
   {
    "duration": 1,
    "start_time": "2023-07-10T08:59:15.538Z"
   },
   {
    "duration": 0,
    "start_time": "2023-07-10T08:59:15.539Z"
   },
   {
    "duration": 0,
    "start_time": "2023-07-10T08:59:15.540Z"
   },
   {
    "duration": 0,
    "start_time": "2023-07-10T08:59:15.542Z"
   },
   {
    "duration": 0,
    "start_time": "2023-07-10T08:59:15.543Z"
   },
   {
    "duration": 0,
    "start_time": "2023-07-10T08:59:15.544Z"
   },
   {
    "duration": 0,
    "start_time": "2023-07-10T08:59:15.545Z"
   },
   {
    "duration": 0,
    "start_time": "2023-07-10T08:59:15.547Z"
   },
   {
    "duration": 0,
    "start_time": "2023-07-10T08:59:15.548Z"
   },
   {
    "duration": 0,
    "start_time": "2023-07-10T08:59:15.549Z"
   },
   {
    "duration": 0,
    "start_time": "2023-07-10T08:59:15.550Z"
   },
   {
    "duration": 1367,
    "start_time": "2023-07-10T10:29:43.882Z"
   },
   {
    "duration": 267,
    "start_time": "2023-07-10T10:29:45.251Z"
   },
   {
    "duration": 12,
    "start_time": "2023-07-10T10:29:45.520Z"
   },
   {
    "duration": 225,
    "start_time": "2023-07-10T10:29:45.534Z"
   },
   {
    "duration": 72,
    "start_time": "2023-07-10T10:29:45.762Z"
   },
   {
    "duration": 10,
    "start_time": "2023-07-10T10:29:45.836Z"
   },
   {
    "duration": 10,
    "start_time": "2023-07-10T10:29:45.848Z"
   },
   {
    "duration": 438,
    "start_time": "2023-07-10T10:29:45.860Z"
   },
   {
    "duration": 0,
    "start_time": "2023-07-10T10:29:46.302Z"
   },
   {
    "duration": 0,
    "start_time": "2023-07-10T10:29:46.303Z"
   },
   {
    "duration": 0,
    "start_time": "2023-07-10T10:29:46.304Z"
   },
   {
    "duration": 1,
    "start_time": "2023-07-10T10:29:46.305Z"
   },
   {
    "duration": 0,
    "start_time": "2023-07-10T10:29:46.306Z"
   },
   {
    "duration": 0,
    "start_time": "2023-07-10T10:29:46.307Z"
   },
   {
    "duration": 0,
    "start_time": "2023-07-10T10:29:46.309Z"
   },
   {
    "duration": 0,
    "start_time": "2023-07-10T10:29:46.310Z"
   },
   {
    "duration": 0,
    "start_time": "2023-07-10T10:29:46.311Z"
   },
   {
    "duration": 0,
    "start_time": "2023-07-10T10:29:46.312Z"
   },
   {
    "duration": 0,
    "start_time": "2023-07-10T10:29:46.313Z"
   },
   {
    "duration": 0,
    "start_time": "2023-07-10T10:29:46.314Z"
   },
   {
    "duration": 0,
    "start_time": "2023-07-10T10:29:46.315Z"
   },
   {
    "duration": 0,
    "start_time": "2023-07-10T10:29:46.316Z"
   },
   {
    "duration": 0,
    "start_time": "2023-07-10T10:29:46.317Z"
   },
   {
    "duration": 0,
    "start_time": "2023-07-10T10:29:46.318Z"
   },
   {
    "duration": 0,
    "start_time": "2023-07-10T10:29:46.319Z"
   },
   {
    "duration": 0,
    "start_time": "2023-07-10T10:29:46.321Z"
   },
   {
    "duration": 0,
    "start_time": "2023-07-10T10:29:46.322Z"
   },
   {
    "duration": 0,
    "start_time": "2023-07-10T10:29:46.323Z"
   },
   {
    "duration": 0,
    "start_time": "2023-07-10T10:29:46.324Z"
   },
   {
    "duration": 0,
    "start_time": "2023-07-10T10:29:46.324Z"
   },
   {
    "duration": 0,
    "start_time": "2023-07-10T10:29:46.326Z"
   },
   {
    "duration": 0,
    "start_time": "2023-07-10T10:29:46.326Z"
   },
   {
    "duration": 0,
    "start_time": "2023-07-10T10:29:46.327Z"
   },
   {
    "duration": 0,
    "start_time": "2023-07-10T10:29:46.328Z"
   },
   {
    "duration": 0,
    "start_time": "2023-07-10T10:29:46.329Z"
   },
   {
    "duration": 0,
    "start_time": "2023-07-10T10:29:46.330Z"
   },
   {
    "duration": 0,
    "start_time": "2023-07-10T10:29:46.331Z"
   },
   {
    "duration": 0,
    "start_time": "2023-07-10T10:29:46.332Z"
   },
   {
    "duration": 0,
    "start_time": "2023-07-10T10:29:46.333Z"
   },
   {
    "duration": 0,
    "start_time": "2023-07-10T10:29:46.335Z"
   },
   {
    "duration": 0,
    "start_time": "2023-07-10T10:29:46.336Z"
   },
   {
    "duration": 0,
    "start_time": "2023-07-10T10:29:46.337Z"
   },
   {
    "duration": 0,
    "start_time": "2023-07-10T10:29:46.401Z"
   },
   {
    "duration": 0,
    "start_time": "2023-07-10T10:29:46.403Z"
   },
   {
    "duration": 0,
    "start_time": "2023-07-10T10:29:46.404Z"
   },
   {
    "duration": 0,
    "start_time": "2023-07-10T10:29:46.405Z"
   },
   {
    "duration": 15,
    "start_time": "2023-07-10T10:34:49.986Z"
   },
   {
    "duration": 113,
    "start_time": "2023-07-10T10:34:57.789Z"
   },
   {
    "duration": 19,
    "start_time": "2023-07-10T10:35:37.413Z"
   },
   {
    "duration": 517,
    "start_time": "2023-07-10T10:37:20.838Z"
   },
   {
    "duration": 495,
    "start_time": "2023-07-10T10:37:35.693Z"
   },
   {
    "duration": 5,
    "start_time": "2023-07-10T10:40:38.161Z"
   },
   {
    "duration": 437,
    "start_time": "2023-07-10T10:40:40.614Z"
   },
   {
    "duration": 468,
    "start_time": "2023-07-10T10:40:47.588Z"
   },
   {
    "duration": 283,
    "start_time": "2023-07-10T10:40:50.936Z"
   },
   {
    "duration": 1241,
    "start_time": "2023-07-10T10:41:05.302Z"
   },
   {
    "duration": 150,
    "start_time": "2023-07-10T10:41:06.545Z"
   },
   {
    "duration": 13,
    "start_time": "2023-07-10T10:41:06.697Z"
   },
   {
    "duration": 216,
    "start_time": "2023-07-10T10:41:06.712Z"
   },
   {
    "duration": 55,
    "start_time": "2023-07-10T10:41:06.931Z"
   },
   {
    "duration": 30,
    "start_time": "2023-07-10T10:41:06.988Z"
   },
   {
    "duration": 21,
    "start_time": "2023-07-10T10:41:07.019Z"
   },
   {
    "duration": 431,
    "start_time": "2023-07-10T10:41:07.041Z"
   },
   {
    "duration": 13,
    "start_time": "2023-07-10T10:41:07.474Z"
   },
   {
    "duration": 7,
    "start_time": "2023-07-10T10:41:07.501Z"
   },
   {
    "duration": 32,
    "start_time": "2023-07-10T10:41:07.509Z"
   },
   {
    "duration": 38,
    "start_time": "2023-07-10T10:41:07.543Z"
   },
   {
    "duration": 13,
    "start_time": "2023-07-10T10:41:07.583Z"
   },
   {
    "duration": 418,
    "start_time": "2023-07-10T10:41:07.599Z"
   },
   {
    "duration": 466,
    "start_time": "2023-07-10T10:41:08.019Z"
   },
   {
    "duration": 303,
    "start_time": "2023-07-10T10:41:08.487Z"
   },
   {
    "duration": 2,
    "start_time": "2023-07-10T10:41:08.802Z"
   },
   {
    "duration": 10,
    "start_time": "2023-07-10T10:41:08.806Z"
   },
   {
    "duration": 6,
    "start_time": "2023-07-10T10:41:08.818Z"
   },
   {
    "duration": 9,
    "start_time": "2023-07-10T10:41:08.826Z"
   },
   {
    "duration": 17,
    "start_time": "2023-07-10T10:41:08.837Z"
   },
   {
    "duration": 11,
    "start_time": "2023-07-10T10:41:08.855Z"
   },
   {
    "duration": 39,
    "start_time": "2023-07-10T10:41:08.868Z"
   },
   {
    "duration": 97,
    "start_time": "2023-07-10T10:41:08.909Z"
   },
   {
    "duration": 19,
    "start_time": "2023-07-10T10:41:09.008Z"
   },
   {
    "duration": 176,
    "start_time": "2023-07-10T10:41:09.029Z"
   },
   {
    "duration": 21,
    "start_time": "2023-07-10T10:41:09.207Z"
   },
   {
    "duration": 113,
    "start_time": "2023-07-10T10:41:09.229Z"
   },
   {
    "duration": 10,
    "start_time": "2023-07-10T10:41:09.344Z"
   },
   {
    "duration": 213,
    "start_time": "2023-07-10T10:41:09.355Z"
   },
   {
    "duration": 405,
    "start_time": "2023-07-10T10:41:09.569Z"
   },
   {
    "duration": 0,
    "start_time": "2023-07-10T10:41:09.975Z"
   },
   {
    "duration": 0,
    "start_time": "2023-07-10T10:41:09.977Z"
   },
   {
    "duration": 0,
    "start_time": "2023-07-10T10:41:09.977Z"
   },
   {
    "duration": 0,
    "start_time": "2023-07-10T10:41:09.978Z"
   },
   {
    "duration": 0,
    "start_time": "2023-07-10T10:41:09.979Z"
   },
   {
    "duration": 0,
    "start_time": "2023-07-10T10:41:09.980Z"
   },
   {
    "duration": 0,
    "start_time": "2023-07-10T10:41:09.981Z"
   },
   {
    "duration": 0,
    "start_time": "2023-07-10T10:41:09.982Z"
   },
   {
    "duration": 0,
    "start_time": "2023-07-10T10:41:10.002Z"
   },
   {
    "duration": 0,
    "start_time": "2023-07-10T10:41:10.003Z"
   },
   {
    "duration": 0,
    "start_time": "2023-07-10T10:41:10.004Z"
   },
   {
    "duration": 0,
    "start_time": "2023-07-10T10:41:10.005Z"
   },
   {
    "duration": 0,
    "start_time": "2023-07-10T10:41:10.006Z"
   },
   {
    "duration": 0,
    "start_time": "2023-07-10T10:41:10.007Z"
   },
   {
    "duration": 0,
    "start_time": "2023-07-10T10:41:10.008Z"
   },
   {
    "duration": 13,
    "start_time": "2023-07-10T10:43:48.535Z"
   },
   {
    "duration": 9,
    "start_time": "2023-07-10T10:44:15.741Z"
   },
   {
    "duration": 4,
    "start_time": "2023-07-10T10:45:29.093Z"
   },
   {
    "duration": 26,
    "start_time": "2023-07-10T10:46:22.096Z"
   },
   {
    "duration": 338,
    "start_time": "2023-07-10T10:47:44.819Z"
   },
   {
    "duration": 290,
    "start_time": "2023-07-10T10:48:43.858Z"
   },
   {
    "duration": 423,
    "start_time": "2023-07-10T10:48:53.034Z"
   },
   {
    "duration": 1222,
    "start_time": "2023-07-10T10:49:26.608Z"
   },
   {
    "duration": 139,
    "start_time": "2023-07-10T10:49:27.832Z"
   },
   {
    "duration": 12,
    "start_time": "2023-07-10T10:49:27.973Z"
   },
   {
    "duration": 206,
    "start_time": "2023-07-10T10:49:27.987Z"
   },
   {
    "duration": 68,
    "start_time": "2023-07-10T10:49:28.202Z"
   },
   {
    "duration": 33,
    "start_time": "2023-07-10T10:49:28.271Z"
   },
   {
    "duration": 11,
    "start_time": "2023-07-10T10:49:28.306Z"
   },
   {
    "duration": 445,
    "start_time": "2023-07-10T10:49:28.319Z"
   },
   {
    "duration": 15,
    "start_time": "2023-07-10T10:49:28.767Z"
   },
   {
    "duration": 11,
    "start_time": "2023-07-10T10:49:28.803Z"
   },
   {
    "duration": 8,
    "start_time": "2023-07-10T10:49:28.816Z"
   },
   {
    "duration": 20,
    "start_time": "2023-07-10T10:49:28.826Z"
   },
   {
    "duration": 55,
    "start_time": "2023-07-10T10:49:28.848Z"
   },
   {
    "duration": 6,
    "start_time": "2023-07-10T10:49:28.905Z"
   },
   {
    "duration": 432,
    "start_time": "2023-07-10T10:49:28.913Z"
   },
   {
    "duration": 509,
    "start_time": "2023-07-10T10:49:29.346Z"
   },
   {
    "duration": 336,
    "start_time": "2023-07-10T10:49:29.857Z"
   },
   {
    "duration": 3,
    "start_time": "2023-07-10T10:49:30.203Z"
   },
   {
    "duration": 56,
    "start_time": "2023-07-10T10:49:30.208Z"
   },
   {
    "duration": 31,
    "start_time": "2023-07-10T10:49:30.266Z"
   },
   {
    "duration": 50,
    "start_time": "2023-07-10T10:49:30.299Z"
   },
   {
    "duration": 64,
    "start_time": "2023-07-10T10:49:30.351Z"
   },
   {
    "duration": 31,
    "start_time": "2023-07-10T10:49:30.417Z"
   },
   {
    "duration": 23,
    "start_time": "2023-07-10T10:49:30.449Z"
   },
   {
    "duration": 152,
    "start_time": "2023-07-10T10:49:30.474Z"
   },
   {
    "duration": 66,
    "start_time": "2023-07-10T10:49:30.628Z"
   },
   {
    "duration": 191,
    "start_time": "2023-07-10T10:49:30.695Z"
   },
   {
    "duration": 20,
    "start_time": "2023-07-10T10:49:30.891Z"
   },
   {
    "duration": 111,
    "start_time": "2023-07-10T10:49:30.913Z"
   },
   {
    "duration": 10,
    "start_time": "2023-07-10T10:49:31.026Z"
   },
   {
    "duration": 302,
    "start_time": "2023-07-10T10:49:31.038Z"
   },
   {
    "duration": 375,
    "start_time": "2023-07-10T10:49:31.343Z"
   },
   {
    "duration": 367,
    "start_time": "2023-07-10T10:49:31.720Z"
   },
   {
    "duration": 61,
    "start_time": "2023-07-10T10:49:32.089Z"
   },
   {
    "duration": 16,
    "start_time": "2023-07-10T10:49:32.151Z"
   },
   {
    "duration": 438,
    "start_time": "2023-07-10T10:49:32.169Z"
   },
   {
    "duration": 0,
    "start_time": "2023-07-10T10:49:32.609Z"
   },
   {
    "duration": 0,
    "start_time": "2023-07-10T10:49:32.611Z"
   },
   {
    "duration": 0,
    "start_time": "2023-07-10T10:49:32.613Z"
   },
   {
    "duration": 0,
    "start_time": "2023-07-10T10:49:32.614Z"
   },
   {
    "duration": 0,
    "start_time": "2023-07-10T10:49:32.616Z"
   },
   {
    "duration": 0,
    "start_time": "2023-07-10T10:49:32.618Z"
   },
   {
    "duration": 0,
    "start_time": "2023-07-10T10:49:32.619Z"
   },
   {
    "duration": 0,
    "start_time": "2023-07-10T10:49:32.621Z"
   },
   {
    "duration": 0,
    "start_time": "2023-07-10T10:49:32.622Z"
   },
   {
    "duration": 0,
    "start_time": "2023-07-10T10:49:32.624Z"
   },
   {
    "duration": 0,
    "start_time": "2023-07-10T10:49:32.625Z"
   },
   {
    "duration": 685,
    "start_time": "2023-07-10T10:51:32.544Z"
   },
   {
    "duration": 14,
    "start_time": "2023-07-10T10:53:22.910Z"
   },
   {
    "duration": 55,
    "start_time": "2023-07-10T10:53:25.645Z"
   },
   {
    "duration": 158,
    "start_time": "2023-07-10T10:53:32.088Z"
   },
   {
    "duration": 1333,
    "start_time": "2023-07-10T10:53:43.087Z"
   },
   {
    "duration": 145,
    "start_time": "2023-07-10T10:53:44.423Z"
   },
   {
    "duration": 12,
    "start_time": "2023-07-10T10:53:44.570Z"
   },
   {
    "duration": 213,
    "start_time": "2023-07-10T10:53:44.584Z"
   },
   {
    "duration": 58,
    "start_time": "2023-07-10T10:53:44.799Z"
   },
   {
    "duration": 20,
    "start_time": "2023-07-10T10:53:44.859Z"
   },
   {
    "duration": 24,
    "start_time": "2023-07-10T10:53:44.902Z"
   },
   {
    "duration": 435,
    "start_time": "2023-07-10T10:53:44.928Z"
   },
   {
    "duration": 15,
    "start_time": "2023-07-10T10:53:45.365Z"
   },
   {
    "duration": 26,
    "start_time": "2023-07-10T10:53:45.382Z"
   },
   {
    "duration": 25,
    "start_time": "2023-07-10T10:53:45.410Z"
   },
   {
    "duration": 14,
    "start_time": "2023-07-10T10:53:45.437Z"
   },
   {
    "duration": 26,
    "start_time": "2023-07-10T10:53:45.452Z"
   },
   {
    "duration": 6,
    "start_time": "2023-07-10T10:53:45.481Z"
   },
   {
    "duration": 455,
    "start_time": "2023-07-10T10:53:45.488Z"
   },
   {
    "duration": 515,
    "start_time": "2023-07-10T10:53:45.945Z"
   },
   {
    "duration": 327,
    "start_time": "2023-07-10T10:53:46.462Z"
   },
   {
    "duration": 11,
    "start_time": "2023-07-10T10:53:46.791Z"
   },
   {
    "duration": 11,
    "start_time": "2023-07-10T10:53:46.804Z"
   },
   {
    "duration": 7,
    "start_time": "2023-07-10T10:53:46.817Z"
   },
   {
    "duration": 7,
    "start_time": "2023-07-10T10:53:46.826Z"
   },
   {
    "duration": 39,
    "start_time": "2023-07-10T10:53:46.835Z"
   },
   {
    "duration": 11,
    "start_time": "2023-07-10T10:53:46.876Z"
   },
   {
    "duration": 19,
    "start_time": "2023-07-10T10:53:46.889Z"
   },
   {
    "duration": 114,
    "start_time": "2023-07-10T10:53:46.911Z"
   },
   {
    "duration": 21,
    "start_time": "2023-07-10T10:53:47.027Z"
   },
   {
    "duration": 178,
    "start_time": "2023-07-10T10:53:47.049Z"
   },
   {
    "duration": 20,
    "start_time": "2023-07-10T10:53:47.229Z"
   },
   {
    "duration": 121,
    "start_time": "2023-07-10T10:53:47.251Z"
   },
   {
    "duration": 27,
    "start_time": "2023-07-10T10:53:47.375Z"
   },
   {
    "duration": 222,
    "start_time": "2023-07-10T10:53:47.404Z"
   },
   {
    "duration": 394,
    "start_time": "2023-07-10T10:53:47.628Z"
   },
   {
    "duration": 383,
    "start_time": "2023-07-10T10:53:48.025Z"
   },
   {
    "duration": 45,
    "start_time": "2023-07-10T10:53:48.410Z"
   },
   {
    "duration": 13,
    "start_time": "2023-07-10T10:53:48.457Z"
   },
   {
    "duration": 725,
    "start_time": "2023-07-10T10:53:48.472Z"
   },
   {
    "duration": 14,
    "start_time": "2023-07-10T10:53:49.201Z"
   },
   {
    "duration": 74,
    "start_time": "2023-07-10T10:53:49.217Z"
   },
   {
    "duration": 271,
    "start_time": "2023-07-10T10:53:49.293Z"
   },
   {
    "duration": 7,
    "start_time": "2023-07-10T10:53:49.566Z"
   },
   {
    "duration": 25,
    "start_time": "2023-07-10T10:53:49.577Z"
   },
   {
    "duration": 22,
    "start_time": "2023-07-10T10:53:49.604Z"
   },
   {
    "duration": 17,
    "start_time": "2023-07-10T10:53:49.628Z"
   },
   {
    "duration": 19,
    "start_time": "2023-07-10T10:53:49.648Z"
   },
   {
    "duration": 5,
    "start_time": "2023-07-10T10:53:49.668Z"
   },
   {
    "duration": 215,
    "start_time": "2023-07-10T10:53:49.676Z"
   },
   {
    "duration": 15,
    "start_time": "2023-07-10T10:53:49.892Z"
   },
   {
    "duration": 6,
    "start_time": "2023-07-10T10:55:22.384Z"
   },
   {
    "duration": 8,
    "start_time": "2023-07-10T10:55:25.220Z"
   },
   {
    "duration": 6,
    "start_time": "2023-07-10T10:55:44.095Z"
   },
   {
    "duration": 8,
    "start_time": "2023-07-10T10:55:46.910Z"
   },
   {
    "duration": 6,
    "start_time": "2023-07-10T10:56:05.654Z"
   },
   {
    "duration": 6,
    "start_time": "2023-07-10T10:56:09.090Z"
   },
   {
    "duration": 7,
    "start_time": "2023-07-10T10:57:23.201Z"
   },
   {
    "duration": 12,
    "start_time": "2023-07-10T10:57:28.840Z"
   },
   {
    "duration": 1305,
    "start_time": "2023-07-10T11:09:03.080Z"
   },
   {
    "duration": 182,
    "start_time": "2023-07-10T11:09:04.387Z"
   },
   {
    "duration": 8,
    "start_time": "2023-07-10T11:09:04.571Z"
   },
   {
    "duration": 169,
    "start_time": "2023-07-10T11:09:04.581Z"
   },
   {
    "duration": 72,
    "start_time": "2023-07-10T11:09:04.752Z"
   },
   {
    "duration": 14,
    "start_time": "2023-07-10T11:09:04.826Z"
   },
   {
    "duration": 7,
    "start_time": "2023-07-10T11:09:04.842Z"
   },
   {
    "duration": 403,
    "start_time": "2023-07-10T11:09:04.851Z"
   },
   {
    "duration": 0,
    "start_time": "2023-07-10T11:09:05.257Z"
   },
   {
    "duration": 0,
    "start_time": "2023-07-10T11:09:05.259Z"
   },
   {
    "duration": 0,
    "start_time": "2023-07-10T11:09:05.260Z"
   },
   {
    "duration": 0,
    "start_time": "2023-07-10T11:09:05.261Z"
   },
   {
    "duration": 0,
    "start_time": "2023-07-10T11:09:05.262Z"
   },
   {
    "duration": 1,
    "start_time": "2023-07-10T11:09:05.263Z"
   },
   {
    "duration": 0,
    "start_time": "2023-07-10T11:09:05.265Z"
   },
   {
    "duration": 0,
    "start_time": "2023-07-10T11:09:05.266Z"
   },
   {
    "duration": 0,
    "start_time": "2023-07-10T11:09:05.267Z"
   },
   {
    "duration": 0,
    "start_time": "2023-07-10T11:09:05.269Z"
   },
   {
    "duration": 0,
    "start_time": "2023-07-10T11:09:05.270Z"
   },
   {
    "duration": 0,
    "start_time": "2023-07-10T11:09:05.271Z"
   },
   {
    "duration": 0,
    "start_time": "2023-07-10T11:09:05.301Z"
   },
   {
    "duration": 0,
    "start_time": "2023-07-10T11:09:05.302Z"
   },
   {
    "duration": 0,
    "start_time": "2023-07-10T11:09:05.303Z"
   },
   {
    "duration": 0,
    "start_time": "2023-07-10T11:09:05.305Z"
   },
   {
    "duration": 0,
    "start_time": "2023-07-10T11:09:05.306Z"
   },
   {
    "duration": 0,
    "start_time": "2023-07-10T11:09:05.307Z"
   },
   {
    "duration": 1,
    "start_time": "2023-07-10T11:09:05.308Z"
   },
   {
    "duration": 0,
    "start_time": "2023-07-10T11:09:05.310Z"
   },
   {
    "duration": 0,
    "start_time": "2023-07-10T11:09:05.311Z"
   },
   {
    "duration": 0,
    "start_time": "2023-07-10T11:09:05.312Z"
   },
   {
    "duration": 0,
    "start_time": "2023-07-10T11:09:05.314Z"
   },
   {
    "duration": 0,
    "start_time": "2023-07-10T11:09:05.316Z"
   },
   {
    "duration": 0,
    "start_time": "2023-07-10T11:09:05.317Z"
   },
   {
    "duration": 0,
    "start_time": "2023-07-10T11:09:05.319Z"
   },
   {
    "duration": 0,
    "start_time": "2023-07-10T11:09:05.319Z"
   },
   {
    "duration": 0,
    "start_time": "2023-07-10T11:09:05.321Z"
   },
   {
    "duration": 0,
    "start_time": "2023-07-10T11:09:05.322Z"
   },
   {
    "duration": 0,
    "start_time": "2023-07-10T11:09:05.324Z"
   },
   {
    "duration": 0,
    "start_time": "2023-07-10T11:09:05.326Z"
   },
   {
    "duration": 0,
    "start_time": "2023-07-10T11:09:05.327Z"
   },
   {
    "duration": 0,
    "start_time": "2023-07-10T11:09:05.328Z"
   },
   {
    "duration": 0,
    "start_time": "2023-07-10T11:09:05.330Z"
   },
   {
    "duration": 0,
    "start_time": "2023-07-10T11:09:05.331Z"
   },
   {
    "duration": 0,
    "start_time": "2023-07-10T11:09:05.333Z"
   },
   {
    "duration": 0,
    "start_time": "2023-07-10T11:09:05.334Z"
   },
   {
    "duration": 0,
    "start_time": "2023-07-10T11:09:05.335Z"
   },
   {
    "duration": 0,
    "start_time": "2023-07-10T11:09:05.337Z"
   },
   {
    "duration": 1375,
    "start_time": "2023-07-10T11:09:20.710Z"
   },
   {
    "duration": 132,
    "start_time": "2023-07-10T11:09:22.087Z"
   },
   {
    "duration": 10,
    "start_time": "2023-07-10T11:09:22.221Z"
   },
   {
    "duration": 210,
    "start_time": "2023-07-10T11:09:22.233Z"
   },
   {
    "duration": 68,
    "start_time": "2023-07-10T11:09:22.445Z"
   },
   {
    "duration": 15,
    "start_time": "2023-07-10T11:09:22.514Z"
   },
   {
    "duration": 12,
    "start_time": "2023-07-10T11:09:22.530Z"
   },
   {
    "duration": 411,
    "start_time": "2023-07-10T11:09:22.543Z"
   },
   {
    "duration": 0,
    "start_time": "2023-07-10T11:09:22.957Z"
   },
   {
    "duration": 0,
    "start_time": "2023-07-10T11:09:22.958Z"
   },
   {
    "duration": 0,
    "start_time": "2023-07-10T11:09:22.960Z"
   },
   {
    "duration": 0,
    "start_time": "2023-07-10T11:09:22.961Z"
   },
   {
    "duration": 0,
    "start_time": "2023-07-10T11:09:22.961Z"
   },
   {
    "duration": 0,
    "start_time": "2023-07-10T11:09:22.962Z"
   },
   {
    "duration": 0,
    "start_time": "2023-07-10T11:09:22.964Z"
   },
   {
    "duration": 0,
    "start_time": "2023-07-10T11:09:22.964Z"
   },
   {
    "duration": 0,
    "start_time": "2023-07-10T11:09:22.965Z"
   },
   {
    "duration": 0,
    "start_time": "2023-07-10T11:09:22.966Z"
   },
   {
    "duration": 0,
    "start_time": "2023-07-10T11:09:22.967Z"
   },
   {
    "duration": 0,
    "start_time": "2023-07-10T11:09:22.968Z"
   },
   {
    "duration": 0,
    "start_time": "2023-07-10T11:09:22.969Z"
   },
   {
    "duration": 0,
    "start_time": "2023-07-10T11:09:22.970Z"
   },
   {
    "duration": 0,
    "start_time": "2023-07-10T11:09:22.970Z"
   },
   {
    "duration": 0,
    "start_time": "2023-07-10T11:09:22.971Z"
   },
   {
    "duration": 0,
    "start_time": "2023-07-10T11:09:22.972Z"
   },
   {
    "duration": 0,
    "start_time": "2023-07-10T11:09:22.973Z"
   },
   {
    "duration": 0,
    "start_time": "2023-07-10T11:09:22.999Z"
   },
   {
    "duration": 0,
    "start_time": "2023-07-10T11:09:23.000Z"
   },
   {
    "duration": 0,
    "start_time": "2023-07-10T11:09:23.001Z"
   },
   {
    "duration": 0,
    "start_time": "2023-07-10T11:09:23.002Z"
   },
   {
    "duration": 0,
    "start_time": "2023-07-10T11:09:23.002Z"
   },
   {
    "duration": 0,
    "start_time": "2023-07-10T11:09:23.003Z"
   },
   {
    "duration": 0,
    "start_time": "2023-07-10T11:09:23.004Z"
   },
   {
    "duration": 0,
    "start_time": "2023-07-10T11:09:23.005Z"
   },
   {
    "duration": 0,
    "start_time": "2023-07-10T11:09:23.006Z"
   },
   {
    "duration": 0,
    "start_time": "2023-07-10T11:09:23.006Z"
   },
   {
    "duration": 0,
    "start_time": "2023-07-10T11:09:23.007Z"
   },
   {
    "duration": 0,
    "start_time": "2023-07-10T11:09:23.008Z"
   },
   {
    "duration": 0,
    "start_time": "2023-07-10T11:09:23.009Z"
   },
   {
    "duration": 0,
    "start_time": "2023-07-10T11:09:23.009Z"
   },
   {
    "duration": 0,
    "start_time": "2023-07-10T11:09:23.010Z"
   },
   {
    "duration": 0,
    "start_time": "2023-07-10T11:09:23.011Z"
   },
   {
    "duration": 0,
    "start_time": "2023-07-10T11:09:23.012Z"
   },
   {
    "duration": 0,
    "start_time": "2023-07-10T11:09:23.013Z"
   },
   {
    "duration": 0,
    "start_time": "2023-07-10T11:09:23.014Z"
   },
   {
    "duration": 0,
    "start_time": "2023-07-10T11:09:23.014Z"
   },
   {
    "duration": 0,
    "start_time": "2023-07-10T11:09:23.015Z"
   },
   {
    "duration": 1469,
    "start_time": "2023-07-10T12:32:56.094Z"
   },
   {
    "duration": 257,
    "start_time": "2023-07-10T12:32:57.565Z"
   },
   {
    "duration": 15,
    "start_time": "2023-07-10T12:32:57.823Z"
   },
   {
    "duration": 227,
    "start_time": "2023-07-10T12:32:57.841Z"
   },
   {
    "duration": 71,
    "start_time": "2023-07-10T12:32:58.070Z"
   },
   {
    "duration": 20,
    "start_time": "2023-07-10T12:32:58.142Z"
   },
   {
    "duration": 17,
    "start_time": "2023-07-10T12:32:58.164Z"
   },
   {
    "duration": 467,
    "start_time": "2023-07-10T12:32:58.183Z"
   },
   {
    "duration": 16,
    "start_time": "2023-07-10T12:32:58.652Z"
   },
   {
    "duration": 10,
    "start_time": "2023-07-10T12:32:58.671Z"
   },
   {
    "duration": 31,
    "start_time": "2023-07-10T12:32:58.682Z"
   },
   {
    "duration": 16,
    "start_time": "2023-07-10T12:32:58.714Z"
   },
   {
    "duration": 31,
    "start_time": "2023-07-10T12:32:58.731Z"
   },
   {
    "duration": 5,
    "start_time": "2023-07-10T12:32:58.763Z"
   },
   {
    "duration": 502,
    "start_time": "2023-07-10T12:32:58.770Z"
   },
   {
    "duration": 517,
    "start_time": "2023-07-10T12:32:59.274Z"
   },
   {
    "duration": 325,
    "start_time": "2023-07-10T12:32:59.793Z"
   },
   {
    "duration": 3,
    "start_time": "2023-07-10T12:33:00.121Z"
   },
   {
    "duration": 99,
    "start_time": "2023-07-10T12:33:00.126Z"
   },
   {
    "duration": 96,
    "start_time": "2023-07-10T12:33:00.227Z"
   },
   {
    "duration": 110,
    "start_time": "2023-07-10T12:33:00.325Z"
   },
   {
    "duration": 137,
    "start_time": "2023-07-10T12:33:00.438Z"
   },
   {
    "duration": 78,
    "start_time": "2023-07-10T12:33:00.577Z"
   },
   {
    "duration": 66,
    "start_time": "2023-07-10T12:33:00.658Z"
   },
   {
    "duration": 143,
    "start_time": "2023-07-10T12:33:00.726Z"
   },
   {
    "duration": 110,
    "start_time": "2023-07-10T12:33:00.871Z"
   },
   {
    "duration": 211,
    "start_time": "2023-07-10T12:33:00.983Z"
   },
   {
    "duration": 27,
    "start_time": "2023-07-10T12:33:01.198Z"
   },
   {
    "duration": 320,
    "start_time": "2023-07-10T12:33:01.227Z"
   },
   {
    "duration": 30,
    "start_time": "2023-07-10T12:33:01.549Z"
   },
   {
    "duration": 282,
    "start_time": "2023-07-10T12:33:01.581Z"
   },
   {
    "duration": 676,
    "start_time": "2023-07-10T12:33:01.865Z"
   },
   {
    "duration": 772,
    "start_time": "2023-07-10T12:33:02.543Z"
   },
   {
    "duration": 96,
    "start_time": "2023-07-10T12:33:03.317Z"
   },
   {
    "duration": 94,
    "start_time": "2023-07-10T12:33:03.415Z"
   },
   {
    "duration": 804,
    "start_time": "2023-07-10T12:33:03.511Z"
   },
   {
    "duration": 14,
    "start_time": "2023-07-10T12:33:04.317Z"
   },
   {
    "duration": 148,
    "start_time": "2023-07-10T12:33:04.332Z"
   },
   {
    "duration": 421,
    "start_time": "2023-07-10T12:33:04.482Z"
   },
   {
    "duration": 5,
    "start_time": "2023-07-10T12:33:04.905Z"
   },
   {
    "duration": 22,
    "start_time": "2023-07-10T12:33:04.912Z"
   },
   {
    "duration": 79,
    "start_time": "2023-07-10T12:33:04.936Z"
   },
   {
    "duration": 34,
    "start_time": "2023-07-10T12:33:05.016Z"
   },
   {
    "duration": 127,
    "start_time": "2023-07-10T12:33:05.052Z"
   },
   {
    "duration": 60,
    "start_time": "2023-07-10T12:33:05.181Z"
   },
   {
    "duration": 296,
    "start_time": "2023-07-10T12:33:05.243Z"
   },
   {
    "duration": 84,
    "start_time": "2023-07-10T12:33:05.541Z"
   },
   {
    "duration": 1506,
    "start_time": "2023-07-10T12:40:03.257Z"
   },
   {
    "duration": 144,
    "start_time": "2023-07-10T12:40:04.766Z"
   },
   {
    "duration": 14,
    "start_time": "2023-07-10T12:40:04.912Z"
   },
   {
    "duration": 260,
    "start_time": "2023-07-10T12:40:04.928Z"
   },
   {
    "duration": 84,
    "start_time": "2023-07-10T12:40:05.191Z"
   },
   {
    "duration": 58,
    "start_time": "2023-07-10T12:40:05.277Z"
   },
   {
    "duration": 143,
    "start_time": "2023-07-10T12:40:05.338Z"
   },
   {
    "duration": 559,
    "start_time": "2023-07-10T12:40:05.483Z"
   },
   {
    "duration": 19,
    "start_time": "2023-07-10T12:40:06.044Z"
   },
   {
    "duration": 36,
    "start_time": "2023-07-10T12:40:06.065Z"
   },
   {
    "duration": 65,
    "start_time": "2023-07-10T12:40:06.103Z"
   },
   {
    "duration": 76,
    "start_time": "2023-07-10T12:40:06.170Z"
   },
   {
    "duration": 80,
    "start_time": "2023-07-10T12:40:06.247Z"
   },
   {
    "duration": 23,
    "start_time": "2023-07-10T12:40:06.331Z"
   },
   {
    "duration": 486,
    "start_time": "2023-07-10T12:40:06.356Z"
   },
   {
    "duration": 541,
    "start_time": "2023-07-10T12:40:06.845Z"
   },
   {
    "duration": 337,
    "start_time": "2023-07-10T12:40:07.389Z"
   },
   {
    "duration": 4,
    "start_time": "2023-07-10T12:40:07.728Z"
   },
   {
    "duration": 64,
    "start_time": "2023-07-10T12:40:07.733Z"
   },
   {
    "duration": 52,
    "start_time": "2023-07-10T12:40:07.799Z"
   },
   {
    "duration": 26,
    "start_time": "2023-07-10T12:40:07.853Z"
   },
   {
    "duration": 36,
    "start_time": "2023-07-10T12:40:07.881Z"
   },
   {
    "duration": 33,
    "start_time": "2023-07-10T12:40:07.919Z"
   },
   {
    "duration": 50,
    "start_time": "2023-07-10T12:40:07.956Z"
   },
   {
    "duration": 163,
    "start_time": "2023-07-10T12:40:08.009Z"
   },
   {
    "duration": 33,
    "start_time": "2023-07-10T12:40:08.174Z"
   },
   {
    "duration": 207,
    "start_time": "2023-07-10T12:40:08.209Z"
   },
   {
    "duration": 26,
    "start_time": "2023-07-10T12:40:08.418Z"
   },
   {
    "duration": 164,
    "start_time": "2023-07-10T12:40:08.446Z"
   },
   {
    "duration": 11,
    "start_time": "2023-07-10T12:40:08.612Z"
   },
   {
    "duration": 227,
    "start_time": "2023-07-10T12:40:08.625Z"
   },
   {
    "duration": 393,
    "start_time": "2023-07-10T12:40:08.854Z"
   },
   {
    "duration": 612,
    "start_time": "2023-07-10T12:40:09.249Z"
   },
   {
    "duration": 66,
    "start_time": "2023-07-10T12:40:09.864Z"
   },
   {
    "duration": 20,
    "start_time": "2023-07-10T12:40:09.932Z"
   },
   {
    "duration": 674,
    "start_time": "2023-07-10T12:40:09.955Z"
   },
   {
    "duration": 15,
    "start_time": "2023-07-10T12:40:10.631Z"
   },
   {
    "duration": 83,
    "start_time": "2023-07-10T12:40:10.648Z"
   },
   {
    "duration": 302,
    "start_time": "2023-07-10T12:40:10.733Z"
   },
   {
    "duration": 8,
    "start_time": "2023-07-10T12:40:11.038Z"
   },
   {
    "duration": 29,
    "start_time": "2023-07-10T12:40:11.051Z"
   },
   {
    "duration": 28,
    "start_time": "2023-07-10T12:40:11.082Z"
   },
   {
    "duration": 30,
    "start_time": "2023-07-10T12:40:11.113Z"
   },
   {
    "duration": 22,
    "start_time": "2023-07-10T12:40:11.145Z"
   },
   {
    "duration": 22,
    "start_time": "2023-07-10T12:40:11.169Z"
   },
   {
    "duration": 261,
    "start_time": "2023-07-10T12:40:11.194Z"
   },
   {
    "duration": 6,
    "start_time": "2023-07-10T12:40:11.458Z"
   },
   {
    "duration": 466,
    "start_time": "2023-07-10T12:43:43.038Z"
   },
   {
    "duration": 456,
    "start_time": "2023-07-10T12:44:02.482Z"
   },
   {
    "duration": 453,
    "start_time": "2023-07-10T12:45:59.594Z"
   },
   {
    "duration": 379,
    "start_time": "2023-07-10T12:46:32.942Z"
   },
   {
    "duration": 362,
    "start_time": "2023-07-10T12:47:23.231Z"
   },
   {
    "duration": 827,
    "start_time": "2023-07-10T12:47:35.391Z"
   },
   {
    "duration": 11,
    "start_time": "2023-07-10T12:48:34.894Z"
   },
   {
    "duration": 12,
    "start_time": "2023-07-10T12:49:04.795Z"
   },
   {
    "duration": 3,
    "start_time": "2023-07-10T12:50:01.789Z"
   },
   {
    "duration": 12,
    "start_time": "2023-07-10T12:50:04.896Z"
   },
   {
    "duration": 4,
    "start_time": "2023-07-10T12:50:12.990Z"
   },
   {
    "duration": 1312,
    "start_time": "2023-07-10T12:56:53.465Z"
   },
   {
    "duration": 3,
    "start_time": "2023-07-10T12:56:54.780Z"
   },
   {
    "duration": 125,
    "start_time": "2023-07-10T12:56:54.785Z"
   },
   {
    "duration": 14,
    "start_time": "2023-07-10T12:56:54.912Z"
   },
   {
    "duration": 237,
    "start_time": "2023-07-10T12:56:54.927Z"
   },
   {
    "duration": 74,
    "start_time": "2023-07-10T12:56:55.165Z"
   },
   {
    "duration": 20,
    "start_time": "2023-07-10T12:56:55.241Z"
   },
   {
    "duration": 59,
    "start_time": "2023-07-10T12:56:55.263Z"
   },
   {
    "duration": 501,
    "start_time": "2023-07-10T12:56:55.323Z"
   },
   {
    "duration": 19,
    "start_time": "2023-07-10T12:56:55.828Z"
   },
   {
    "duration": 26,
    "start_time": "2023-07-10T12:56:55.849Z"
   },
   {
    "duration": 130,
    "start_time": "2023-07-10T12:56:55.877Z"
   },
   {
    "duration": 31,
    "start_time": "2023-07-10T12:56:56.009Z"
   },
   {
    "duration": 57,
    "start_time": "2023-07-10T12:56:56.042Z"
   },
   {
    "duration": 33,
    "start_time": "2023-07-10T12:56:56.101Z"
   },
   {
    "duration": 513,
    "start_time": "2023-07-10T12:56:56.136Z"
   },
   {
    "duration": 523,
    "start_time": "2023-07-10T12:56:56.650Z"
   },
   {
    "duration": 345,
    "start_time": "2023-07-10T12:56:57.175Z"
   },
   {
    "duration": 4,
    "start_time": "2023-07-10T12:56:57.522Z"
   },
   {
    "duration": 27,
    "start_time": "2023-07-10T12:56:57.527Z"
   },
   {
    "duration": 9,
    "start_time": "2023-07-10T12:56:57.556Z"
   },
   {
    "duration": 16,
    "start_time": "2023-07-10T12:56:57.567Z"
   },
   {
    "duration": 32,
    "start_time": "2023-07-10T12:56:57.584Z"
   },
   {
    "duration": 13,
    "start_time": "2023-07-10T12:56:57.617Z"
   },
   {
    "duration": 9,
    "start_time": "2023-07-10T12:56:57.632Z"
   },
   {
    "duration": 136,
    "start_time": "2023-07-10T12:56:57.643Z"
   },
   {
    "duration": 34,
    "start_time": "2023-07-10T12:56:57.781Z"
   },
   {
    "duration": 181,
    "start_time": "2023-07-10T12:56:57.819Z"
   },
   {
    "duration": 21,
    "start_time": "2023-07-10T12:56:58.008Z"
   },
   {
    "duration": 117,
    "start_time": "2023-07-10T12:56:58.031Z"
   },
   {
    "duration": 11,
    "start_time": "2023-07-10T12:56:58.151Z"
   },
   {
    "duration": 231,
    "start_time": "2023-07-10T12:56:58.164Z"
   },
   {
    "duration": 381,
    "start_time": "2023-07-10T12:56:58.397Z"
   },
   {
    "duration": 379,
    "start_time": "2023-07-10T12:56:58.781Z"
   },
   {
    "duration": 58,
    "start_time": "2023-07-10T12:56:59.162Z"
   },
   {
    "duration": 16,
    "start_time": "2023-07-10T12:56:59.222Z"
   },
   {
    "duration": 634,
    "start_time": "2023-07-10T12:56:59.240Z"
   },
   {
    "duration": 14,
    "start_time": "2023-07-10T12:56:59.876Z"
   },
   {
    "duration": 71,
    "start_time": "2023-07-10T12:56:59.891Z"
   },
   {
    "duration": 295,
    "start_time": "2023-07-10T12:56:59.964Z"
   },
   {
    "duration": 6,
    "start_time": "2023-07-10T12:57:00.262Z"
   },
   {
    "duration": 58,
    "start_time": "2023-07-10T12:57:00.270Z"
   },
   {
    "duration": 57,
    "start_time": "2023-07-10T12:57:00.330Z"
   },
   {
    "duration": 66,
    "start_time": "2023-07-10T12:57:00.389Z"
   },
   {
    "duration": 49,
    "start_time": "2023-07-10T12:57:00.457Z"
   },
   {
    "duration": 50,
    "start_time": "2023-07-10T12:57:00.508Z"
   },
   {
    "duration": 266,
    "start_time": "2023-07-10T12:57:00.560Z"
   },
   {
    "duration": 32,
    "start_time": "2023-07-10T12:57:00.828Z"
   },
   {
    "duration": 446,
    "start_time": "2023-07-10T13:02:53.683Z"
   },
   {
    "duration": 450,
    "start_time": "2023-07-10T13:04:43.946Z"
   },
   {
    "duration": 363,
    "start_time": "2023-07-10T13:05:22.811Z"
   },
   {
    "duration": 346,
    "start_time": "2023-07-10T13:05:39.088Z"
   },
   {
    "duration": 352,
    "start_time": "2023-07-10T13:05:48.597Z"
   },
   {
    "duration": 532,
    "start_time": "2023-07-10T13:06:10.827Z"
   },
   {
    "duration": 661,
    "start_time": "2023-07-10T13:06:35.514Z"
   },
   {
    "duration": 1395,
    "start_time": "2023-07-10T13:07:03.770Z"
   },
   {
    "duration": 4,
    "start_time": "2023-07-10T13:07:05.167Z"
   },
   {
    "duration": 153,
    "start_time": "2023-07-10T13:07:05.172Z"
   },
   {
    "duration": 15,
    "start_time": "2023-07-10T13:07:05.327Z"
   },
   {
    "duration": 267,
    "start_time": "2023-07-10T13:07:05.345Z"
   },
   {
    "duration": 60,
    "start_time": "2023-07-10T13:07:05.614Z"
   },
   {
    "duration": 38,
    "start_time": "2023-07-10T13:07:05.676Z"
   },
   {
    "duration": 58,
    "start_time": "2023-07-10T13:07:05.716Z"
   },
   {
    "duration": 623,
    "start_time": "2023-07-10T13:07:05.775Z"
   },
   {
    "duration": 23,
    "start_time": "2023-07-10T13:07:06.400Z"
   },
   {
    "duration": 129,
    "start_time": "2023-07-10T13:07:06.425Z"
   },
   {
    "duration": 23,
    "start_time": "2023-07-10T13:07:06.557Z"
   },
   {
    "duration": 12,
    "start_time": "2023-07-10T13:07:06.582Z"
   },
   {
    "duration": 29,
    "start_time": "2023-07-10T13:07:06.597Z"
   },
   {
    "duration": 6,
    "start_time": "2023-07-10T13:07:06.628Z"
   },
   {
    "duration": 509,
    "start_time": "2023-07-10T13:07:06.636Z"
   },
   {
    "duration": 540,
    "start_time": "2023-07-10T13:07:07.147Z"
   },
   {
    "duration": 344,
    "start_time": "2023-07-10T13:07:07.689Z"
   },
   {
    "duration": 4,
    "start_time": "2023-07-10T13:07:08.035Z"
   },
   {
    "duration": 74,
    "start_time": "2023-07-10T13:07:08.040Z"
   },
   {
    "duration": 72,
    "start_time": "2023-07-10T13:07:08.116Z"
   },
   {
    "duration": 31,
    "start_time": "2023-07-10T13:07:08.190Z"
   },
   {
    "duration": 27,
    "start_time": "2023-07-10T13:07:08.223Z"
   },
   {
    "duration": 42,
    "start_time": "2023-07-10T13:07:08.252Z"
   },
   {
    "duration": 47,
    "start_time": "2023-07-10T13:07:08.296Z"
   },
   {
    "duration": 138,
    "start_time": "2023-07-10T13:07:08.345Z"
   },
   {
    "duration": 42,
    "start_time": "2023-07-10T13:07:08.485Z"
   },
   {
    "duration": 191,
    "start_time": "2023-07-10T13:07:08.529Z"
   },
   {
    "duration": 25,
    "start_time": "2023-07-10T13:07:08.723Z"
   },
   {
    "duration": 127,
    "start_time": "2023-07-10T13:07:08.750Z"
   },
   {
    "duration": 14,
    "start_time": "2023-07-10T13:07:08.880Z"
   },
   {
    "duration": 259,
    "start_time": "2023-07-10T13:07:08.909Z"
   },
   {
    "duration": 416,
    "start_time": "2023-07-10T13:07:09.170Z"
   },
   {
    "duration": 386,
    "start_time": "2023-07-10T13:07:09.588Z"
   },
   {
    "duration": 63,
    "start_time": "2023-07-10T13:07:09.976Z"
   },
   {
    "duration": 47,
    "start_time": "2023-07-10T13:07:10.043Z"
   },
   {
    "duration": 616,
    "start_time": "2023-07-10T13:07:10.092Z"
   },
   {
    "duration": 13,
    "start_time": "2023-07-10T13:07:10.710Z"
   },
   {
    "duration": 62,
    "start_time": "2023-07-10T13:07:10.725Z"
   },
   {
    "duration": 310,
    "start_time": "2023-07-10T13:07:10.789Z"
   },
   {
    "duration": 6,
    "start_time": "2023-07-10T13:07:11.103Z"
   },
   {
    "duration": 88,
    "start_time": "2023-07-10T13:07:11.111Z"
   },
   {
    "duration": 7,
    "start_time": "2023-07-10T13:07:11.201Z"
   },
   {
    "duration": 125,
    "start_time": "2023-07-10T13:07:11.210Z"
   },
   {
    "duration": 43,
    "start_time": "2023-07-10T13:07:11.337Z"
   },
   {
    "duration": 10,
    "start_time": "2023-07-10T13:07:11.382Z"
   },
   {
    "duration": 267,
    "start_time": "2023-07-10T13:07:11.394Z"
   },
   {
    "duration": 15,
    "start_time": "2023-07-10T13:07:11.663Z"
   },
   {
    "duration": 90,
    "start_time": "2023-07-10T14:11:36.560Z"
   },
   {
    "duration": 99,
    "start_time": "2023-07-10T14:12:55.671Z"
   },
   {
    "duration": 1293,
    "start_time": "2023-07-10T14:21:03.311Z"
   },
   {
    "duration": 4,
    "start_time": "2023-07-10T14:21:04.606Z"
   },
   {
    "duration": 124,
    "start_time": "2023-07-10T14:21:04.612Z"
   },
   {
    "duration": 15,
    "start_time": "2023-07-10T14:21:04.739Z"
   },
   {
    "duration": 228,
    "start_time": "2023-07-10T14:21:04.756Z"
   },
   {
    "duration": 72,
    "start_time": "2023-07-10T14:21:04.986Z"
   },
   {
    "duration": 22,
    "start_time": "2023-07-10T14:21:05.060Z"
   },
   {
    "duration": 39,
    "start_time": "2023-07-10T14:21:05.084Z"
   },
   {
    "duration": 469,
    "start_time": "2023-07-10T14:21:05.125Z"
   },
   {
    "duration": 29,
    "start_time": "2023-07-10T14:21:05.598Z"
   },
   {
    "duration": 26,
    "start_time": "2023-07-10T14:21:05.629Z"
   },
   {
    "duration": 44,
    "start_time": "2023-07-10T14:21:05.657Z"
   },
   {
    "duration": 44,
    "start_time": "2023-07-10T14:21:05.703Z"
   },
   {
    "duration": 95,
    "start_time": "2023-07-10T14:21:05.749Z"
   },
   {
    "duration": 34,
    "start_time": "2023-07-10T14:21:05.847Z"
   },
   {
    "duration": 572,
    "start_time": "2023-07-10T14:21:05.884Z"
   },
   {
    "duration": 538,
    "start_time": "2023-07-10T14:21:06.458Z"
   },
   {
    "duration": 338,
    "start_time": "2023-07-10T14:21:06.998Z"
   },
   {
    "duration": 3,
    "start_time": "2023-07-10T14:21:07.339Z"
   },
   {
    "duration": 32,
    "start_time": "2023-07-10T14:21:07.344Z"
   },
   {
    "duration": 12,
    "start_time": "2023-07-10T14:21:07.378Z"
   },
   {
    "duration": 9,
    "start_time": "2023-07-10T14:21:07.391Z"
   },
   {
    "duration": 29,
    "start_time": "2023-07-10T14:21:07.409Z"
   },
   {
    "duration": 13,
    "start_time": "2023-07-10T14:21:07.440Z"
   },
   {
    "duration": 20,
    "start_time": "2023-07-10T14:21:07.455Z"
   },
   {
    "duration": 150,
    "start_time": "2023-07-10T14:21:07.477Z"
   },
   {
    "duration": 37,
    "start_time": "2023-07-10T14:21:07.629Z"
   },
   {
    "duration": 183,
    "start_time": "2023-07-10T14:21:07.670Z"
   },
   {
    "duration": 28,
    "start_time": "2023-07-10T14:21:07.855Z"
   },
   {
    "duration": 137,
    "start_time": "2023-07-10T14:21:07.885Z"
   },
   {
    "duration": 12,
    "start_time": "2023-07-10T14:21:08.024Z"
   },
   {
    "duration": 259,
    "start_time": "2023-07-10T14:21:08.038Z"
   },
   {
    "duration": 384,
    "start_time": "2023-07-10T14:21:08.299Z"
   },
   {
    "duration": 427,
    "start_time": "2023-07-10T14:21:08.685Z"
   },
   {
    "duration": 48,
    "start_time": "2023-07-10T14:21:09.114Z"
   },
   {
    "duration": 15,
    "start_time": "2023-07-10T14:21:09.164Z"
   },
   {
    "duration": 708,
    "start_time": "2023-07-10T14:21:09.181Z"
   },
   {
    "duration": 22,
    "start_time": "2023-07-10T14:21:09.892Z"
   },
   {
    "duration": 130,
    "start_time": "2023-07-10T14:21:09.917Z"
   },
   {
    "duration": 316,
    "start_time": "2023-07-10T14:21:10.051Z"
   },
   {
    "duration": 7,
    "start_time": "2023-07-10T14:21:10.369Z"
   },
   {
    "duration": 39,
    "start_time": "2023-07-10T14:21:10.378Z"
   },
   {
    "duration": 8,
    "start_time": "2023-07-10T14:21:10.419Z"
   },
   {
    "duration": 43,
    "start_time": "2023-07-10T14:21:10.429Z"
   },
   {
    "duration": 15,
    "start_time": "2023-07-10T14:21:10.474Z"
   },
   {
    "duration": 3,
    "start_time": "2023-07-10T14:21:10.491Z"
   },
   {
    "duration": 219,
    "start_time": "2023-07-10T14:21:10.496Z"
   },
   {
    "duration": 13,
    "start_time": "2023-07-10T14:21:10.717Z"
   },
   {
    "duration": 5,
    "start_time": "2023-07-10T14:24:55.874Z"
   },
   {
    "duration": 4,
    "start_time": "2023-07-10T14:24:58.196Z"
   },
   {
    "duration": 116,
    "start_time": "2023-07-10T14:25:42.805Z"
   },
   {
    "duration": 4,
    "start_time": "2023-07-10T14:26:03.379Z"
   },
   {
    "duration": 5,
    "start_time": "2023-07-10T14:26:39.243Z"
   },
   {
    "duration": 87,
    "start_time": "2023-07-10T14:28:53.579Z"
   },
   {
    "duration": 5,
    "start_time": "2023-07-10T14:39:16.113Z"
   },
   {
    "duration": 5,
    "start_time": "2023-07-10T14:39:38.530Z"
   },
   {
    "duration": 5,
    "start_time": "2023-07-10T14:40:12.381Z"
   },
   {
    "duration": 5,
    "start_time": "2023-07-10T14:41:04.702Z"
   },
   {
    "duration": 5,
    "start_time": "2023-07-10T14:41:47.607Z"
   },
   {
    "duration": 8,
    "start_time": "2023-07-10T14:42:19.721Z"
   },
   {
    "duration": 9,
    "start_time": "2023-07-10T14:49:36.738Z"
   },
   {
    "duration": 127,
    "start_time": "2023-07-10T14:49:54.076Z"
   },
   {
    "duration": 6,
    "start_time": "2023-07-10T14:50:37.226Z"
   },
   {
    "duration": 11,
    "start_time": "2023-07-10T14:50:39.783Z"
   },
   {
    "duration": 6,
    "start_time": "2023-07-10T14:51:24.086Z"
   },
   {
    "duration": 10,
    "start_time": "2023-07-10T14:51:27.260Z"
   },
   {
    "duration": 11,
    "start_time": "2023-07-10T14:51:51.022Z"
   },
   {
    "duration": 8,
    "start_time": "2023-07-10T14:55:40.444Z"
   },
   {
    "duration": 9,
    "start_time": "2023-07-10T14:55:42.742Z"
   },
   {
    "duration": 6,
    "start_time": "2023-07-10T14:57:34.544Z"
   },
   {
    "duration": 9,
    "start_time": "2023-07-10T14:57:38.224Z"
   },
   {
    "duration": 14,
    "start_time": "2023-07-10T14:58:00.163Z"
   },
   {
    "duration": 12,
    "start_time": "2023-07-10T14:58:24.676Z"
   },
   {
    "duration": 15,
    "start_time": "2023-07-10T15:00:55.059Z"
   },
   {
    "duration": 1327,
    "start_time": "2023-07-10T15:54:47.417Z"
   },
   {
    "duration": 5,
    "start_time": "2023-07-10T15:54:48.751Z"
   },
   {
    "duration": 134,
    "start_time": "2023-07-10T15:54:48.758Z"
   },
   {
    "duration": 6,
    "start_time": "2023-07-10T15:54:48.896Z"
   },
   {
    "duration": 26,
    "start_time": "2023-07-10T15:54:48.906Z"
   },
   {
    "duration": 263,
    "start_time": "2023-07-10T15:54:48.934Z"
   },
   {
    "duration": 78,
    "start_time": "2023-07-10T15:54:49.199Z"
   },
   {
    "duration": 23,
    "start_time": "2023-07-10T15:54:49.279Z"
   },
   {
    "duration": 17,
    "start_time": "2023-07-10T15:54:49.304Z"
   },
   {
    "duration": 512,
    "start_time": "2023-07-10T15:54:49.326Z"
   },
   {
    "duration": 22,
    "start_time": "2023-07-10T15:54:49.840Z"
   },
   {
    "duration": 41,
    "start_time": "2023-07-10T15:54:49.864Z"
   },
   {
    "duration": 46,
    "start_time": "2023-07-10T15:54:49.908Z"
   },
   {
    "duration": 26,
    "start_time": "2023-07-10T15:54:49.957Z"
   },
   {
    "duration": 48,
    "start_time": "2023-07-10T15:54:49.985Z"
   },
   {
    "duration": 17,
    "start_time": "2023-07-10T15:54:50.036Z"
   },
   {
    "duration": 488,
    "start_time": "2023-07-10T15:54:50.055Z"
   },
   {
    "duration": 511,
    "start_time": "2023-07-10T15:54:50.546Z"
   },
   {
    "duration": 321,
    "start_time": "2023-07-10T15:54:51.059Z"
   },
   {
    "duration": 4,
    "start_time": "2023-07-10T15:54:51.382Z"
   },
   {
    "duration": 37,
    "start_time": "2023-07-10T15:54:51.387Z"
   },
   {
    "duration": 42,
    "start_time": "2023-07-10T15:54:51.426Z"
   },
   {
    "duration": 30,
    "start_time": "2023-07-10T15:54:51.470Z"
   },
   {
    "duration": 29,
    "start_time": "2023-07-10T15:54:51.502Z"
   },
   {
    "duration": 12,
    "start_time": "2023-07-10T15:54:51.533Z"
   },
   {
    "duration": 32,
    "start_time": "2023-07-10T15:54:51.546Z"
   },
   {
    "duration": 112,
    "start_time": "2023-07-10T15:54:51.579Z"
   },
   {
    "duration": 38,
    "start_time": "2023-07-10T15:54:51.695Z"
   },
   {
    "duration": 163,
    "start_time": "2023-07-10T15:54:51.735Z"
   },
   {
    "duration": 21,
    "start_time": "2023-07-10T15:54:51.900Z"
   },
   {
    "duration": 124,
    "start_time": "2023-07-10T15:54:51.923Z"
   },
   {
    "duration": 12,
    "start_time": "2023-07-10T15:54:52.051Z"
   },
   {
    "duration": 218,
    "start_time": "2023-07-10T15:54:52.064Z"
   },
   {
    "duration": 384,
    "start_time": "2023-07-10T15:54:52.284Z"
   },
   {
    "duration": 365,
    "start_time": "2023-07-10T15:54:52.670Z"
   },
   {
    "duration": 15,
    "start_time": "2023-07-10T15:54:53.037Z"
   },
   {
    "duration": 49,
    "start_time": "2023-07-10T15:54:53.055Z"
   },
   {
    "duration": 5,
    "start_time": "2023-07-10T15:54:53.106Z"
   },
   {
    "duration": 56,
    "start_time": "2023-07-10T15:54:53.113Z"
   },
   {
    "duration": 627,
    "start_time": "2023-07-10T15:54:53.171Z"
   },
   {
    "duration": 14,
    "start_time": "2023-07-10T15:54:53.800Z"
   },
   {
    "duration": 72,
    "start_time": "2023-07-10T15:54:53.816Z"
   },
   {
    "duration": 295,
    "start_time": "2023-07-10T15:54:53.890Z"
   },
   {
    "duration": 5,
    "start_time": "2023-07-10T15:54:54.187Z"
   },
   {
    "duration": 36,
    "start_time": "2023-07-10T15:54:54.194Z"
   },
   {
    "duration": 14,
    "start_time": "2023-07-10T15:54:54.233Z"
   },
   {
    "duration": 24,
    "start_time": "2023-07-10T15:54:54.249Z"
   },
   {
    "duration": 13,
    "start_time": "2023-07-10T15:54:54.275Z"
   },
   {
    "duration": 6,
    "start_time": "2023-07-10T15:54:54.290Z"
   },
   {
    "duration": 203,
    "start_time": "2023-07-10T15:54:54.298Z"
   },
   {
    "duration": 12,
    "start_time": "2023-07-10T15:54:54.503Z"
   },
   {
    "duration": 7,
    "start_time": "2023-07-10T15:58:53.257Z"
   },
   {
    "duration": 9,
    "start_time": "2023-07-10T15:58:55.436Z"
   },
   {
    "duration": 6,
    "start_time": "2023-07-10T15:59:11.419Z"
   },
   {
    "duration": 10,
    "start_time": "2023-07-10T15:59:12.731Z"
   },
   {
    "duration": 7,
    "start_time": "2023-07-10T15:59:16.913Z"
   },
   {
    "duration": 9,
    "start_time": "2023-07-10T15:59:17.796Z"
   },
   {
    "duration": 9,
    "start_time": "2023-07-10T16:04:38.699Z"
   },
   {
    "duration": 10,
    "start_time": "2023-07-10T16:04:48.704Z"
   },
   {
    "duration": 10,
    "start_time": "2023-07-10T16:04:50.208Z"
   },
   {
    "duration": 6,
    "start_time": "2023-07-10T16:04:51.948Z"
   },
   {
    "duration": 9,
    "start_time": "2023-07-10T16:04:53.074Z"
   },
   {
    "duration": 14,
    "start_time": "2023-07-10T16:05:09.542Z"
   },
   {
    "duration": 6,
    "start_time": "2023-07-10T16:05:17.432Z"
   },
   {
    "duration": 14,
    "start_time": "2023-07-10T16:05:25.560Z"
   },
   {
    "duration": 1953,
    "start_time": "2023-07-10T17:33:44.357Z"
   },
   {
    "duration": 5,
    "start_time": "2023-07-10T17:33:46.312Z"
   },
   {
    "duration": 286,
    "start_time": "2023-07-10T17:33:46.319Z"
   },
   {
    "duration": 6,
    "start_time": "2023-07-10T17:33:46.607Z"
   },
   {
    "duration": 45,
    "start_time": "2023-07-10T17:33:46.616Z"
   },
   {
    "duration": 295,
    "start_time": "2023-07-10T17:33:46.664Z"
   },
   {
    "duration": 97,
    "start_time": "2023-07-10T17:33:46.961Z"
   },
   {
    "duration": 22,
    "start_time": "2023-07-10T17:33:47.060Z"
   },
   {
    "duration": 30,
    "start_time": "2023-07-10T17:33:47.084Z"
   },
   {
    "duration": 509,
    "start_time": "2023-07-10T17:33:47.116Z"
   },
   {
    "duration": 20,
    "start_time": "2023-07-10T17:33:47.627Z"
   },
   {
    "duration": 40,
    "start_time": "2023-07-10T17:33:47.649Z"
   },
   {
    "duration": 45,
    "start_time": "2023-07-10T17:33:47.691Z"
   },
   {
    "duration": 46,
    "start_time": "2023-07-10T17:33:47.740Z"
   },
   {
    "duration": 47,
    "start_time": "2023-07-10T17:33:47.788Z"
   },
   {
    "duration": 41,
    "start_time": "2023-07-10T17:33:47.839Z"
   },
   {
    "duration": 614,
    "start_time": "2023-07-10T17:33:47.882Z"
   },
   {
    "duration": 624,
    "start_time": "2023-07-10T17:33:48.499Z"
   },
   {
    "duration": 587,
    "start_time": "2023-07-10T17:33:49.125Z"
   },
   {
    "duration": 4,
    "start_time": "2023-07-10T17:33:49.715Z"
   },
   {
    "duration": 40,
    "start_time": "2023-07-10T17:33:49.722Z"
   },
   {
    "duration": 49,
    "start_time": "2023-07-10T17:33:49.764Z"
   },
   {
    "duration": 20,
    "start_time": "2023-07-10T17:33:49.815Z"
   },
   {
    "duration": 88,
    "start_time": "2023-07-10T17:33:49.837Z"
   },
   {
    "duration": 17,
    "start_time": "2023-07-10T17:33:49.927Z"
   },
   {
    "duration": 70,
    "start_time": "2023-07-10T17:33:49.947Z"
   },
   {
    "duration": 292,
    "start_time": "2023-07-10T17:33:50.019Z"
   },
   {
    "duration": 28,
    "start_time": "2023-07-10T17:33:50.313Z"
   },
   {
    "duration": 500,
    "start_time": "2023-07-10T17:33:50.344Z"
   },
   {
    "duration": 93,
    "start_time": "2023-07-10T17:33:50.847Z"
   },
   {
    "duration": 406,
    "start_time": "2023-07-10T17:33:50.942Z"
   },
   {
    "duration": 70,
    "start_time": "2023-07-10T17:33:51.351Z"
   },
   {
    "duration": 503,
    "start_time": "2023-07-10T17:33:51.423Z"
   },
   {
    "duration": 391,
    "start_time": "2023-07-10T17:33:51.928Z"
   },
   {
    "duration": 417,
    "start_time": "2023-07-10T17:33:52.321Z"
   },
   {
    "duration": 8,
    "start_time": "2023-07-10T17:33:52.741Z"
   },
   {
    "duration": 73,
    "start_time": "2023-07-10T17:33:52.751Z"
   },
   {
    "duration": 5,
    "start_time": "2023-07-10T17:33:52.826Z"
   },
   {
    "duration": 44,
    "start_time": "2023-07-10T17:33:52.833Z"
   },
   {
    "duration": 687,
    "start_time": "2023-07-10T17:33:52.879Z"
   },
   {
    "duration": 15,
    "start_time": "2023-07-10T17:33:53.571Z"
   },
   {
    "duration": 70,
    "start_time": "2023-07-10T17:33:53.589Z"
   },
   {
    "duration": 303,
    "start_time": "2023-07-10T17:33:53.662Z"
   },
   {
    "duration": 7,
    "start_time": "2023-07-10T17:33:53.967Z"
   },
   {
    "duration": 52,
    "start_time": "2023-07-10T17:33:53.976Z"
   },
   {
    "duration": 36,
    "start_time": "2023-07-10T17:33:54.030Z"
   },
   {
    "duration": 109,
    "start_time": "2023-07-10T17:33:54.068Z"
   },
   {
    "duration": 27,
    "start_time": "2023-07-10T17:33:54.179Z"
   },
   {
    "duration": 4,
    "start_time": "2023-07-10T17:33:54.208Z"
   },
   {
    "duration": 233,
    "start_time": "2023-07-10T17:33:54.214Z"
   },
   {
    "duration": 6,
    "start_time": "2023-07-10T17:33:54.449Z"
   },
   {
    "duration": 13,
    "start_time": "2023-07-10T17:39:37.200Z"
   },
   {
    "duration": 24,
    "start_time": "2023-07-10T17:39:39.785Z"
   },
   {
    "duration": 6,
    "start_time": "2023-07-10T17:40:15.697Z"
   },
   {
    "duration": 8,
    "start_time": "2023-07-10T17:41:51.936Z"
   },
   {
    "duration": 97,
    "start_time": "2023-07-10T17:44:18.744Z"
   },
   {
    "duration": 9,
    "start_time": "2023-07-10T17:45:27.044Z"
   },
   {
    "duration": 11,
    "start_time": "2023-07-10T17:45:30.010Z"
   },
   {
    "duration": 8,
    "start_time": "2023-07-10T17:45:49.430Z"
   },
   {
    "duration": 10,
    "start_time": "2023-07-10T17:45:52.252Z"
   },
   {
    "duration": 1215,
    "start_time": "2023-07-10T17:53:44.285Z"
   },
   {
    "duration": 5,
    "start_time": "2023-07-10T17:53:45.502Z"
   },
   {
    "duration": 126,
    "start_time": "2023-07-10T17:53:45.508Z"
   },
   {
    "duration": 4,
    "start_time": "2023-07-10T17:53:45.637Z"
   },
   {
    "duration": 30,
    "start_time": "2023-07-10T17:53:45.643Z"
   },
   {
    "duration": 221,
    "start_time": "2023-07-10T17:53:45.675Z"
   },
   {
    "duration": 70,
    "start_time": "2023-07-10T17:53:45.899Z"
   },
   {
    "duration": 20,
    "start_time": "2023-07-10T17:53:45.970Z"
   },
   {
    "duration": 11,
    "start_time": "2023-07-10T17:53:45.992Z"
   },
   {
    "duration": 457,
    "start_time": "2023-07-10T17:53:46.006Z"
   },
   {
    "duration": 14,
    "start_time": "2023-07-10T17:53:46.466Z"
   },
   {
    "duration": 12,
    "start_time": "2023-07-10T17:53:46.482Z"
   },
   {
    "duration": 22,
    "start_time": "2023-07-10T17:53:46.496Z"
   },
   {
    "duration": 22,
    "start_time": "2023-07-10T17:53:46.520Z"
   },
   {
    "duration": 31,
    "start_time": "2023-07-10T17:53:46.545Z"
   },
   {
    "duration": 5,
    "start_time": "2023-07-10T17:53:46.578Z"
   },
   {
    "duration": 434,
    "start_time": "2023-07-10T17:53:46.585Z"
   },
   {
    "duration": 501,
    "start_time": "2023-07-10T17:53:47.021Z"
   },
   {
    "duration": 319,
    "start_time": "2023-07-10T17:53:47.524Z"
   },
   {
    "duration": 3,
    "start_time": "2023-07-10T17:53:47.852Z"
   },
   {
    "duration": 9,
    "start_time": "2023-07-10T17:53:47.856Z"
   },
   {
    "duration": 16,
    "start_time": "2023-07-10T17:53:47.867Z"
   },
   {
    "duration": 11,
    "start_time": "2023-07-10T17:53:47.884Z"
   },
   {
    "duration": 19,
    "start_time": "2023-07-10T17:53:47.896Z"
   },
   {
    "duration": 12,
    "start_time": "2023-07-10T17:53:47.917Z"
   },
   {
    "duration": 9,
    "start_time": "2023-07-10T17:53:47.953Z"
   },
   {
    "duration": 116,
    "start_time": "2023-07-10T17:53:47.964Z"
   },
   {
    "duration": 20,
    "start_time": "2023-07-10T17:53:48.084Z"
   },
   {
    "duration": 196,
    "start_time": "2023-07-10T17:53:48.105Z"
   },
   {
    "duration": 24,
    "start_time": "2023-07-10T17:53:48.302Z"
   },
   {
    "duration": 144,
    "start_time": "2023-07-10T17:53:48.328Z"
   },
   {
    "duration": 12,
    "start_time": "2023-07-10T17:53:48.475Z"
   },
   {
    "duration": 222,
    "start_time": "2023-07-10T17:53:48.489Z"
   },
   {
    "duration": 348,
    "start_time": "2023-07-10T17:53:48.713Z"
   },
   {
    "duration": 355,
    "start_time": "2023-07-10T17:53:49.062Z"
   },
   {
    "duration": 6,
    "start_time": "2023-07-10T17:53:49.419Z"
   },
   {
    "duration": 92,
    "start_time": "2023-07-10T17:53:49.427Z"
   },
   {
    "duration": 4,
    "start_time": "2023-07-10T17:53:49.521Z"
   },
   {
    "duration": 29,
    "start_time": "2023-07-10T17:53:49.527Z"
   },
   {
    "duration": 569,
    "start_time": "2023-07-10T17:53:49.558Z"
   },
   {
    "duration": 14,
    "start_time": "2023-07-10T17:53:50.129Z"
   },
   {
    "duration": 133,
    "start_time": "2023-07-10T17:53:50.152Z"
   },
   {
    "duration": 313,
    "start_time": "2023-07-10T17:53:50.287Z"
   },
   {
    "duration": 7,
    "start_time": "2023-07-10T17:53:50.602Z"
   },
   {
    "duration": 17,
    "start_time": "2023-07-10T17:53:50.610Z"
   },
   {
    "duration": 12,
    "start_time": "2023-07-10T17:53:50.629Z"
   },
   {
    "duration": 6,
    "start_time": "2023-07-10T17:53:50.654Z"
   },
   {
    "duration": 20,
    "start_time": "2023-07-10T17:53:50.662Z"
   },
   {
    "duration": 3,
    "start_time": "2023-07-10T17:53:50.684Z"
   },
   {
    "duration": 215,
    "start_time": "2023-07-10T17:53:50.689Z"
   },
   {
    "duration": 13,
    "start_time": "2023-07-10T17:53:50.906Z"
   },
   {
    "duration": 6,
    "start_time": "2023-07-10T17:54:03.916Z"
   },
   {
    "duration": 117,
    "start_time": "2023-07-10T17:54:05.694Z"
   },
   {
    "duration": 6,
    "start_time": "2023-07-10T17:54:11.112Z"
   },
   {
    "duration": 9,
    "start_time": "2023-07-10T17:54:12.221Z"
   },
   {
    "duration": 6,
    "start_time": "2023-07-10T17:54:15.482Z"
   },
   {
    "duration": 10,
    "start_time": "2023-07-10T17:54:16.979Z"
   },
   {
    "duration": 1327,
    "start_time": "2023-07-10T21:54:17.446Z"
   },
   {
    "duration": 3,
    "start_time": "2023-07-10T21:54:18.775Z"
   },
   {
    "duration": 281,
    "start_time": "2023-07-10T21:54:18.780Z"
   },
   {
    "duration": 5,
    "start_time": "2023-07-10T21:54:19.063Z"
   },
   {
    "duration": 14,
    "start_time": "2023-07-10T21:54:19.070Z"
   },
   {
    "duration": 208,
    "start_time": "2023-07-10T21:54:19.086Z"
   },
   {
    "duration": 66,
    "start_time": "2023-07-10T21:54:19.296Z"
   },
   {
    "duration": 17,
    "start_time": "2023-07-10T21:54:19.363Z"
   },
   {
    "duration": 8,
    "start_time": "2023-07-10T21:54:19.381Z"
   },
   {
    "duration": 432,
    "start_time": "2023-07-10T21:54:19.390Z"
   },
   {
    "duration": 16,
    "start_time": "2023-07-10T21:54:19.832Z"
   },
   {
    "duration": 11,
    "start_time": "2023-07-10T21:54:19.850Z"
   },
   {
    "duration": 10,
    "start_time": "2023-07-10T21:54:19.862Z"
   },
   {
    "duration": 9,
    "start_time": "2023-07-10T21:54:19.875Z"
   },
   {
    "duration": 20,
    "start_time": "2023-07-10T21:54:19.885Z"
   },
   {
    "duration": 4,
    "start_time": "2023-07-10T21:54:19.907Z"
   },
   {
    "duration": 464,
    "start_time": "2023-07-10T21:54:19.913Z"
   },
   {
    "duration": 494,
    "start_time": "2023-07-10T21:54:20.378Z"
   },
   {
    "duration": 279,
    "start_time": "2023-07-10T21:54:20.874Z"
   },
   {
    "duration": 4,
    "start_time": "2023-07-10T21:54:21.154Z"
   },
   {
    "duration": 16,
    "start_time": "2023-07-10T21:54:21.159Z"
   },
   {
    "duration": 28,
    "start_time": "2023-07-10T21:54:21.177Z"
   },
   {
    "duration": 11,
    "start_time": "2023-07-10T21:54:21.206Z"
   },
   {
    "duration": 28,
    "start_time": "2023-07-10T21:54:21.219Z"
   },
   {
    "duration": 20,
    "start_time": "2023-07-10T21:54:21.248Z"
   },
   {
    "duration": 8,
    "start_time": "2023-07-10T21:54:21.269Z"
   },
   {
    "duration": 101,
    "start_time": "2023-07-10T21:54:21.278Z"
   },
   {
    "duration": 18,
    "start_time": "2023-07-10T21:54:21.381Z"
   },
   {
    "duration": 168,
    "start_time": "2023-07-10T21:54:21.400Z"
   },
   {
    "duration": 17,
    "start_time": "2023-07-10T21:54:21.570Z"
   },
   {
    "duration": 105,
    "start_time": "2023-07-10T21:54:21.588Z"
   },
   {
    "duration": 9,
    "start_time": "2023-07-10T21:54:21.695Z"
   },
   {
    "duration": 215,
    "start_time": "2023-07-10T21:54:21.706Z"
   },
   {
    "duration": 323,
    "start_time": "2023-07-10T21:54:21.923Z"
   },
   {
    "duration": 308,
    "start_time": "2023-07-10T21:54:22.247Z"
   },
   {
    "duration": 4,
    "start_time": "2023-07-10T21:54:22.557Z"
   },
   {
    "duration": 44,
    "start_time": "2023-07-10T21:54:22.562Z"
   },
   {
    "duration": 3,
    "start_time": "2023-07-10T21:54:22.608Z"
   },
   {
    "duration": 14,
    "start_time": "2023-07-10T21:54:22.636Z"
   },
   {
    "duration": 504,
    "start_time": "2023-07-10T21:54:22.651Z"
   },
   {
    "duration": 12,
    "start_time": "2023-07-10T21:54:23.158Z"
   },
   {
    "duration": 68,
    "start_time": "2023-07-10T21:54:23.171Z"
   },
   {
    "duration": 254,
    "start_time": "2023-07-10T21:54:23.242Z"
   },
   {
    "duration": 6,
    "start_time": "2023-07-10T21:54:23.498Z"
   },
   {
    "duration": 45,
    "start_time": "2023-07-10T21:54:23.505Z"
   },
   {
    "duration": 43,
    "start_time": "2023-07-10T21:54:23.552Z"
   },
   {
    "duration": 30,
    "start_time": "2023-07-10T21:54:23.597Z"
   },
   {
    "duration": 35,
    "start_time": "2023-07-10T21:54:23.629Z"
   },
   {
    "duration": 23,
    "start_time": "2023-07-10T21:54:23.666Z"
   },
   {
    "duration": 204,
    "start_time": "2023-07-10T21:54:23.691Z"
   },
   {
    "duration": 5,
    "start_time": "2023-07-10T21:54:23.897Z"
   }
  ],
  "kernelspec": {
   "display_name": "Python 3 (ipykernel)",
   "language": "python",
   "name": "python3"
  },
  "language_info": {
   "codemirror_mode": {
    "name": "ipython",
    "version": 3
   },
   "file_extension": ".py",
   "mimetype": "text/x-python",
   "name": "python",
   "nbconvert_exporter": "python",
   "pygments_lexer": "ipython3",
   "version": "3.10.9"
  },
  "toc": {
   "base_numbering": 1,
   "nav_menu": {},
   "number_sections": true,
   "sideBar": true,
   "skip_h1_title": true,
   "title_cell": "Table of Contents",
   "title_sidebar": "Contents",
   "toc_cell": false,
   "toc_position": {},
   "toc_section_display": true,
   "toc_window_display": true
  }
 },
 "nbformat": 4,
 "nbformat_minor": 5
}
